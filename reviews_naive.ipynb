{
 "cells": [
  {
   "cell_type": "markdown",
   "source": [
    "# Predict reviews rating"
   ],
   "metadata": {
    "collapsed": false
   }
  },
  {
   "cell_type": "code",
   "execution_count": 6,
   "outputs": [],
   "source": [
    "# TODO: crossvalscore"
   ],
   "metadata": {
    "collapsed": false,
    "pycharm": {
     "name": "#%%\n"
    }
   }
  },
  {
   "cell_type": "code",
   "execution_count": 7,
   "outputs": [
    {
     "name": "stderr",
     "output_type": "stream",
     "text": [
      "[nltk_data] Downloading package punkt to /Users/donor/nltk_data...\n",
      "[nltk_data]   Package punkt is already up-to-date!\n",
      "[nltk_data] Downloading package stopwords to /Users/donor/nltk_data...\n",
      "[nltk_data]   Package stopwords is already up-to-date!\n",
      "[nltk_data] Downloading package wordnet to /Users/donor/nltk_data...\n",
      "[nltk_data]   Package wordnet is already up-to-date!\n",
      "[nltk_data] Downloading package omw-1.4 to /Users/donor/nltk_data...\n",
      "[nltk_data]   Package omw-1.4 is already up-to-date!\n"
     ]
    },
    {
     "data": {
      "text/plain": "True"
     },
     "execution_count": 7,
     "metadata": {},
     "output_type": "execute_result"
    }
   ],
   "source": [
    "import pandas as pd\n",
    "import matplotlib.pyplot as plt\n",
    "import enchant\n",
    "import re\n",
    "import string\n",
    "from pprint import pprint\n",
    "from time import time\n",
    "import nltk\n",
    "from nltk.stem import WordNetLemmatizer\n",
    "from nltk.corpus import stopwords\n",
    "from nltk.tokenize import word_tokenize\n",
    "from textblob import Word, TextBlob\n",
    "from sklearn.feature_extraction.text import CountVectorizer\n",
    "from sklearn.feature_extraction.text import TfidfVectorizer\n",
    "from sklearn.feature_extraction.text import TfidfTransformer\n",
    "from sklearn.linear_model import SGDClassifier\n",
    "from sklearn.naive_bayes import MultinomialNB\n",
    "from sklearn.naive_bayes import ComplementNB\n",
    "from sklearn.model_selection import GridSearchCV\n",
    "from sklearn.pipeline import Pipeline\n",
    "from sklearn.metrics import classification_report\n",
    "from sklearn.model_selection import cross_val_score\n",
    "from sklearn.model_selection import StratifiedKFold, KFold\n",
    "nltk.download('punkt')\n",
    "nltk.download('stopwords')\n",
    "nltk.download('wordnet')\n",
    "stop_words = stopwords.words('english')\n",
    "nltk.download('omw-1.4')"
   ],
   "metadata": {
    "collapsed": false,
    "pycharm": {
     "name": "#%%\n"
    }
   }
  },
  {
   "cell_type": "code",
   "execution_count": 8,
   "outputs": [
    {
     "data": {
      "text/plain": "       Rating Year_Month     Reviewer_Location  \\\n0           5     2019-3  United Arab Emirates   \n1           4     2018-6        United Kingdom   \n2           5     2019-4        United Kingdom   \n3           4     2019-4             Australia   \n4           5    missing                France   \n...       ...        ...                   ...   \n13625       5    missing        United Kingdom   \n13626       5    missing                Canada   \n13627       5    missing          South Africa   \n13628       4    missing         United States   \n13629       4    missing        United Kingdom   \n\n                                             Review_Text  \n0      We've been to Disneyland Hongkong and Tokyo, s...  \n1      I went to Disneyland Paris in April 2018 on Ea...  \n2      What a fantastic place, the queues were decent...  \n3      We didn't realise it was school holidays when ...  \n4      A Trip to Disney makes you all warm and fuzzy ...  \n...                                                  ...  \n13625  i went to disneyland paris in july 03 and thou...  \n13626  2 adults and 1 child of 11 visited Disneyland ...  \n13627  My eleven year old daughter and myself went to...  \n13628  This hotel, part of the Disneyland Paris compl...  \n13629  I went to the Disneyparis resort, in 1996, wit...  \n\n[13630 rows x 4 columns]",
      "text/html": "<div>\n<style scoped>\n    .dataframe tbody tr th:only-of-type {\n        vertical-align: middle;\n    }\n\n    .dataframe tbody tr th {\n        vertical-align: top;\n    }\n\n    .dataframe thead th {\n        text-align: right;\n    }\n</style>\n<table border=\"1\" class=\"dataframe\">\n  <thead>\n    <tr style=\"text-align: right;\">\n      <th></th>\n      <th>Rating</th>\n      <th>Year_Month</th>\n      <th>Reviewer_Location</th>\n      <th>Review_Text</th>\n    </tr>\n  </thead>\n  <tbody>\n    <tr>\n      <th>0</th>\n      <td>5</td>\n      <td>2019-3</td>\n      <td>United Arab Emirates</td>\n      <td>We've been to Disneyland Hongkong and Tokyo, s...</td>\n    </tr>\n    <tr>\n      <th>1</th>\n      <td>4</td>\n      <td>2018-6</td>\n      <td>United Kingdom</td>\n      <td>I went to Disneyland Paris in April 2018 on Ea...</td>\n    </tr>\n    <tr>\n      <th>2</th>\n      <td>5</td>\n      <td>2019-4</td>\n      <td>United Kingdom</td>\n      <td>What a fantastic place, the queues were decent...</td>\n    </tr>\n    <tr>\n      <th>3</th>\n      <td>4</td>\n      <td>2019-4</td>\n      <td>Australia</td>\n      <td>We didn't realise it was school holidays when ...</td>\n    </tr>\n    <tr>\n      <th>4</th>\n      <td>5</td>\n      <td>missing</td>\n      <td>France</td>\n      <td>A Trip to Disney makes you all warm and fuzzy ...</td>\n    </tr>\n    <tr>\n      <th>...</th>\n      <td>...</td>\n      <td>...</td>\n      <td>...</td>\n      <td>...</td>\n    </tr>\n    <tr>\n      <th>13625</th>\n      <td>5</td>\n      <td>missing</td>\n      <td>United Kingdom</td>\n      <td>i went to disneyland paris in july 03 and thou...</td>\n    </tr>\n    <tr>\n      <th>13626</th>\n      <td>5</td>\n      <td>missing</td>\n      <td>Canada</td>\n      <td>2 adults and 1 child of 11 visited Disneyland ...</td>\n    </tr>\n    <tr>\n      <th>13627</th>\n      <td>5</td>\n      <td>missing</td>\n      <td>South Africa</td>\n      <td>My eleven year old daughter and myself went to...</td>\n    </tr>\n    <tr>\n      <th>13628</th>\n      <td>4</td>\n      <td>missing</td>\n      <td>United States</td>\n      <td>This hotel, part of the Disneyland Paris compl...</td>\n    </tr>\n    <tr>\n      <th>13629</th>\n      <td>4</td>\n      <td>missing</td>\n      <td>United Kingdom</td>\n      <td>I went to the Disneyparis resort, in 1996, wit...</td>\n    </tr>\n  </tbody>\n</table>\n<p>13630 rows × 4 columns</p>\n</div>"
     },
     "execution_count": 8,
     "metadata": {},
     "output_type": "execute_result"
    }
   ],
   "source": [
    "df = pd.read_csv('reviews.csv')\n",
    "df"
   ],
   "metadata": {
    "collapsed": false,
    "pycharm": {
     "name": "#%%\n"
    }
   }
  },
  {
   "cell_type": "markdown",
   "source": [
    "## Exploration des données"
   ],
   "metadata": {
    "collapsed": false
   }
  },
  {
   "cell_type": "markdown",
   "source": [
    "#### Vérification des valeurs manquantes"
   ],
   "metadata": {
    "collapsed": false,
    "pycharm": {
     "name": "#%% md\n"
    }
   }
  },
  {
   "cell_type": "code",
   "execution_count": 9,
   "outputs": [
    {
     "data": {
      "text/plain": "Rating               0\nYear_Month           0\nReviewer_Location    0\nReview_Text          0\ndtype: int64"
     },
     "execution_count": 9,
     "metadata": {},
     "output_type": "execute_result"
    }
   ],
   "source": [
    "df.isna().sum()"
   ],
   "metadata": {
    "collapsed": false,
    "pycharm": {
     "name": "#%%\n"
    }
   }
  },
  {
   "cell_type": "markdown",
   "source": [
    "#### Contenu de la colonne Rating"
   ],
   "metadata": {
    "collapsed": false,
    "pycharm": {
     "name": "#%% md\n"
    }
   }
  },
  {
   "cell_type": "code",
   "execution_count": 55,
   "outputs": [
    {
     "data": {
      "text/plain": "<Figure size 432x288 with 1 Axes>",
      "image/png": "[encoded data removed]"
     },
     "metadata": {
      "needs_background": "light"
     },
     "output_type": "display_data"
    }
   ],
   "source": [
    "rating_count = df['Rating'].value_counts().sort_values(ascending=True)\n",
    "plt.bar(range(1, 6), rating_count, color='orange')\n",
    "plt.title('Répartition du nombre de commentaires par note');"
   ],
   "metadata": {
    "collapsed": false,
    "pycharm": {
     "name": "#%%\n"
    }
   }
  },
  {
   "cell_type": "markdown",
   "source": [
    "#### Contenu de la colonne Review_Text"
   ],
   "metadata": {
    "collapsed": false,
    "pycharm": {
     "name": "#%% md\n"
    }
   }
  },
  {
   "cell_type": "code",
   "execution_count": 12,
   "outputs": [
    {
     "data": {
      "text/plain": "       Rating Year_Month Reviewer_Location  \\\n12440       3     2012-2    United Kingdom   \n12686       4    2011-10    United Kingdom   \n11890       5     2012-6    United Kingdom   \n12152       3     2012-1    United Kingdom   \n12455       5     2012-2    United Kingdom   \n...       ...        ...               ...   \n5473        5     2016-2    United Kingdom   \n1518        5     2018-4    United Kingdom   \n10262       2     2013-8    United Kingdom   \n12853       4     2011-8            Canada   \n12997       4     2011-5    United Kingdom   \n\n                                             Review_Text  Review_Length  \n12440  Disappointed with size compared to florida cou...              7  \n12686  everything was fantastic but food prices exces...              7  \n11890  Excellent but very crowded long queue, Great p...              8  \n12152  Mcdonalds style food but not the prices !!!!!!...              8  \n12455  Disneyland as usual   fabulous quality, but in...              8  \n...                                                  ...            ...  \n5473   We have just returned from an amazing four nig...           2247  \n1518   Hi allHaving just returned from DLP I thought ...           2488  \n10262  Our  experience  at Disneyland Paris.First of ...           2515  \n12853  This entire trip report with lots of pictures ...           3278  \n12997  After having visited Disneyland Paris at least...           3963  \n\n[13628 rows x 5 columns]",
      "text/html": "<div>\n<style scoped>\n    .dataframe tbody tr th:only-of-type {\n        vertical-align: middle;\n    }\n\n    .dataframe tbody tr th {\n        vertical-align: top;\n    }\n\n    .dataframe thead th {\n        text-align: right;\n    }\n</style>\n<table border=\"1\" class=\"dataframe\">\n  <thead>\n    <tr style=\"text-align: right;\">\n      <th></th>\n      <th>Rating</th>\n      <th>Year_Month</th>\n      <th>Reviewer_Location</th>\n      <th>Review_Text</th>\n      <th>Review_Length</th>\n    </tr>\n  </thead>\n  <tbody>\n    <tr>\n      <th>12440</th>\n      <td>3</td>\n      <td>2012-2</td>\n      <td>United Kingdom</td>\n      <td>Disappointed with size compared to florida cou...</td>\n      <td>7</td>\n    </tr>\n    <tr>\n      <th>12686</th>\n      <td>4</td>\n      <td>2011-10</td>\n      <td>United Kingdom</td>\n      <td>everything was fantastic but food prices exces...</td>\n      <td>7</td>\n    </tr>\n    <tr>\n      <th>11890</th>\n      <td>5</td>\n      <td>2012-6</td>\n      <td>United Kingdom</td>\n      <td>Excellent but very crowded long queue, Great p...</td>\n      <td>8</td>\n    </tr>\n    <tr>\n      <th>12152</th>\n      <td>3</td>\n      <td>2012-1</td>\n      <td>United Kingdom</td>\n      <td>Mcdonalds style food but not the prices !!!!!!...</td>\n      <td>8</td>\n    </tr>\n    <tr>\n      <th>12455</th>\n      <td>5</td>\n      <td>2012-2</td>\n      <td>United Kingdom</td>\n      <td>Disneyland as usual   fabulous quality, but in...</td>\n      <td>8</td>\n    </tr>\n    <tr>\n      <th>...</th>\n      <td>...</td>\n      <td>...</td>\n      <td>...</td>\n      <td>...</td>\n      <td>...</td>\n    </tr>\n    <tr>\n      <th>5473</th>\n      <td>5</td>\n      <td>2016-2</td>\n      <td>United Kingdom</td>\n      <td>We have just returned from an amazing four nig...</td>\n      <td>2247</td>\n    </tr>\n    <tr>\n      <th>1518</th>\n      <td>5</td>\n      <td>2018-4</td>\n      <td>United Kingdom</td>\n      <td>Hi allHaving just returned from DLP I thought ...</td>\n      <td>2488</td>\n    </tr>\n    <tr>\n      <th>10262</th>\n      <td>2</td>\n      <td>2013-8</td>\n      <td>United Kingdom</td>\n      <td>Our  experience  at Disneyland Paris.First of ...</td>\n      <td>2515</td>\n    </tr>\n    <tr>\n      <th>12853</th>\n      <td>4</td>\n      <td>2011-8</td>\n      <td>Canada</td>\n      <td>This entire trip report with lots of pictures ...</td>\n      <td>3278</td>\n    </tr>\n    <tr>\n      <th>12997</th>\n      <td>4</td>\n      <td>2011-5</td>\n      <td>United Kingdom</td>\n      <td>After having visited Disneyland Paris at least...</td>\n      <td>3963</td>\n    </tr>\n  </tbody>\n</table>\n<p>13628 rows × 5 columns</p>\n</div>"
     },
     "execution_count": 12,
     "metadata": {},
     "output_type": "execute_result"
    }
   ],
   "source": [
    "df['Review_Length'] = df['Review_Text'].str.split().map(lambda x: len(x))\n",
    "# Suppression des reviews bizarres\n",
    "df = df[df['Review_Length'] > 5]\n",
    "df.sort_values(by='Review_Length', axis=0, ascending=True)"
   ],
   "metadata": {
    "collapsed": false,
    "pycharm": {
     "name": "#%%\n"
    }
   }
  },
  {
   "cell_type": "code",
   "execution_count": 13,
   "outputs": [
    {
     "name": "stdout",
     "output_type": "stream",
     "text": [
      "Longueur des reviews par note de 1 à 5 :\n",
      "\n"
     ]
    },
    {
     "data": {
      "text/plain": "<Figure size 2160x720 with 5 Axes>",
      "image/png": "[encoded data removed]"
     },
     "metadata": {
      "needs_background": "light"
     },
     "output_type": "display_data"
    }
   ],
   "source": [
    "print('Longueur des reviews par note de 1 à 5 :\\n')\n",
    "plt.figure(figsize=(30, 10))\n",
    "plt.subplot(151)\n",
    "plt.hist(df[df['Rating'] == 1]['Review_Length'],bins=50, color='b')\n",
    "plt.subplot(152)\n",
    "plt.hist(df[df['Rating'] == 2]['Review_Length'],bins=50, color='g')\n",
    "plt.subplot(153)\n",
    "plt.hist(df[df['Rating'] == 3]['Review_Length'],bins=50, color='y')\n",
    "plt.subplot(154)\n",
    "plt.hist(df[df['Rating'] == 4]['Review_Length'],bins=50, color='r')\n",
    "plt.subplot(155)\n",
    "plt.hist(df[df['Rating'] == 5]['Review_Length'],bins=50, color='k');"
   ],
   "metadata": {
    "collapsed": false,
    "pycharm": {
     "name": "#%%\n"
    }
   }
  },
  {
   "cell_type": "markdown",
   "source": [
    "## Preprocessing de la colonne Review_text"
   ],
   "metadata": {
    "collapsed": false
   }
  },
  {
   "cell_type": "code",
   "execution_count": 14,
   "outputs": [],
   "source": [
    "WordLemm = WordNetLemmatizer()\n",
    "EnglishDict = enchant.Dict(\"en\")\n",
    "\n",
    "def preprocess_reviews(review):\n",
    "    # print('Unprocessed review: \\n', review, '\\n')\n",
    "    review = review.replace('[^\\w\\s]', '')\n",
    "    # print('Removing leading whitespace: \\n', review, '\\n')\n",
    "    review = review.translate(str.maketrans(\"\",\"\",string.punctuation))\n",
    "    # print('Removing punctuation: \\n', review, '\\n')\n",
    "    review = re.sub('[\\d]', '', review)\n",
    "    # print('Removing digits: \\n', review, '\\n')\n",
    "    review = review.lower()\n",
    "    # print('Lowercasing: \\n', review, '\\n')\n",
    "    tokens = word_tokenize(review)\n",
    "    # print('Tokenising: \\n', tokens, '\\n')\n",
    "    tokens = [token for token in tokens if token not in stop_words]\n",
    "    # print('Removing stopwords: \\n', tokens, '\\n')\n",
    "    tokens = [WordLemm.lemmatize(token) for token in tokens if len(token) > 2]\n",
    "    # print('Lemmatising and keeping words more than 2 letters: \\n', tokens, '\\n')\n",
    "    tokens = [token for token in tokens if EnglishDict.check(token)]\n",
    "    # print('Keeping well written words: \\n', tokens, '\\n')\n",
    "    processed_review = ' '.join(tokens)\n",
    "    # print('Processed review: \\n', processed_review, '\\n')\n",
    "    return processed_review"
   ],
   "metadata": {
    "collapsed": false,
    "pycharm": {
     "name": "#%%\n"
    }
   }
  },
  {
   "cell_type": "code",
   "execution_count": 15,
   "outputs": [
    {
     "name": "stderr",
     "output_type": "stream",
     "text": [
      "/var/folders/m_/2w2qlxsn13s9qyf11rtgzkkr0000gn/T/ipykernel_83873/2245744766.py:1: SettingWithCopyWarning: \n",
      "A value is trying to be set on a copy of a slice from a DataFrame.\n",
      "Try using .loc[row_indexer,col_indexer] = value instead\n",
      "\n",
      "See the caveats in the documentation: https://pandas.pydata.org/pandas-docs/stable/user_guide/indexing.html#returning-a-view-versus-a-copy\n",
      "  df['processed_review'] = df['Review_Text'].apply(lambda x: preprocess_reviews(x))\n"
     ]
    },
    {
     "data": {
      "text/plain": "       Rating Year_Month     Reviewer_Location  \\\n0           5     2019-3  United Arab Emirates   \n1           4     2018-6        United Kingdom   \n2           5     2019-4        United Kingdom   \n3           4     2019-4             Australia   \n4           5    missing                France   \n...       ...        ...                   ...   \n13625       5    missing        United Kingdom   \n13626       5    missing                Canada   \n13627       5    missing          South Africa   \n13628       4    missing         United States   \n13629       4    missing        United Kingdom   \n\n                                             Review_Text  Review_Length  \\\n0      We've been to Disneyland Hongkong and Tokyo, s...             91   \n1      I went to Disneyland Paris in April 2018 on Ea...            176   \n2      What a fantastic place, the queues were decent...             58   \n3      We didn't realise it was school holidays when ...            148   \n4      A Trip to Disney makes you all warm and fuzzy ...            133   \n...                                                  ...            ...   \n13625  i went to disneyland paris in july 03 and thou...            173   \n13626  2 adults and 1 child of 11 visited Disneyland ...            191   \n13627  My eleven year old daughter and myself went to...            109   \n13628  This hotel, part of the Disneyland Paris compl...            112   \n13629  I went to the Disneyparis resort, in 1996, wit...            179   \n\n                                        processed_review  \n0      far one best looking forward visit biggest one...  \n1      went weekend know say cant choose date loved m...  \n2      fantastic place queue decent best time year ap...  \n3      realise school holiday went consequently extre...  \n4      trip make warm fuzzy actual kid big one make f...  \n...                                                  ...  \n13625  went thought brilliant visited hotel stayed ba...  \n13626  adult child visited beginning absolute fantast...  \n13627  eleven year old daughter went visit son decide...  \n13628  hotel part complex wonderful place family sinc...  \n13629  went resort small child minute enter transport...  \n\n[13628 rows x 6 columns]",
      "text/html": "<div>\n<style scoped>\n    .dataframe tbody tr th:only-of-type {\n        vertical-align: middle;\n    }\n\n    .dataframe tbody tr th {\n        vertical-align: top;\n    }\n\n    .dataframe thead th {\n        text-align: right;\n    }\n</style>\n<table border=\"1\" class=\"dataframe\">\n  <thead>\n    <tr style=\"text-align: right;\">\n      <th></th>\n      <th>Rating</th>\n      <th>Year_Month</th>\n      <th>Reviewer_Location</th>\n      <th>Review_Text</th>\n      <th>Review_Length</th>\n      <th>processed_review</th>\n    </tr>\n  </thead>\n  <tbody>\n    <tr>\n      <th>0</th>\n      <td>5</td>\n      <td>2019-3</td>\n      <td>United Arab Emirates</td>\n      <td>We've been to Disneyland Hongkong and Tokyo, s...</td>\n      <td>91</td>\n      <td>far one best looking forward visit biggest one...</td>\n    </tr>\n    <tr>\n      <th>1</th>\n      <td>4</td>\n      <td>2018-6</td>\n      <td>United Kingdom</td>\n      <td>I went to Disneyland Paris in April 2018 on Ea...</td>\n      <td>176</td>\n      <td>went weekend know say cant choose date loved m...</td>\n    </tr>\n    <tr>\n      <th>2</th>\n      <td>5</td>\n      <td>2019-4</td>\n      <td>United Kingdom</td>\n      <td>What a fantastic place, the queues were decent...</td>\n      <td>58</td>\n      <td>fantastic place queue decent best time year ap...</td>\n    </tr>\n    <tr>\n      <th>3</th>\n      <td>4</td>\n      <td>2019-4</td>\n      <td>Australia</td>\n      <td>We didn't realise it was school holidays when ...</td>\n      <td>148</td>\n      <td>realise school holiday went consequently extre...</td>\n    </tr>\n    <tr>\n      <th>4</th>\n      <td>5</td>\n      <td>missing</td>\n      <td>France</td>\n      <td>A Trip to Disney makes you all warm and fuzzy ...</td>\n      <td>133</td>\n      <td>trip make warm fuzzy actual kid big one make f...</td>\n    </tr>\n    <tr>\n      <th>...</th>\n      <td>...</td>\n      <td>...</td>\n      <td>...</td>\n      <td>...</td>\n      <td>...</td>\n      <td>...</td>\n    </tr>\n    <tr>\n      <th>13625</th>\n      <td>5</td>\n      <td>missing</td>\n      <td>United Kingdom</td>\n      <td>i went to disneyland paris in july 03 and thou...</td>\n      <td>173</td>\n      <td>went thought brilliant visited hotel stayed ba...</td>\n    </tr>\n    <tr>\n      <th>13626</th>\n      <td>5</td>\n      <td>missing</td>\n      <td>Canada</td>\n      <td>2 adults and 1 child of 11 visited Disneyland ...</td>\n      <td>191</td>\n      <td>adult child visited beginning absolute fantast...</td>\n    </tr>\n    <tr>\n      <th>13627</th>\n      <td>5</td>\n      <td>missing</td>\n      <td>South Africa</td>\n      <td>My eleven year old daughter and myself went to...</td>\n      <td>109</td>\n      <td>eleven year old daughter went visit son decide...</td>\n    </tr>\n    <tr>\n      <th>13628</th>\n      <td>4</td>\n      <td>missing</td>\n      <td>United States</td>\n      <td>This hotel, part of the Disneyland Paris compl...</td>\n      <td>112</td>\n      <td>hotel part complex wonderful place family sinc...</td>\n    </tr>\n    <tr>\n      <th>13629</th>\n      <td>4</td>\n      <td>missing</td>\n      <td>United Kingdom</td>\n      <td>I went to the Disneyparis resort, in 1996, wit...</td>\n      <td>179</td>\n      <td>went resort small child minute enter transport...</td>\n    </tr>\n  </tbody>\n</table>\n<p>13628 rows × 6 columns</p>\n</div>"
     },
     "execution_count": 15,
     "metadata": {},
     "output_type": "execute_result"
    }
   ],
   "source": [
    "df['processed_review'] = df['Review_Text'].apply(lambda x: preprocess_reviews(x))\n",
    "df"
   ],
   "metadata": {
    "collapsed": false,
    "pycharm": {
     "name": "#%%\n"
    }
   }
  },
  {
   "cell_type": "markdown",
   "source": [
    "### Comparaison longueur des reviews avant / après preprocessing"
   ],
   "metadata": {
    "collapsed": false,
    "pycharm": {
     "name": "#%% md\n"
    }
   }
  },
  {
   "cell_type": "code",
   "execution_count": 16,
   "outputs": [
    {
     "name": "stderr",
     "output_type": "stream",
     "text": [
      "/var/folders/m_/2w2qlxsn13s9qyf11rtgzkkr0000gn/T/ipykernel_83873/2732557836.py:1: SettingWithCopyWarning: \n",
      "A value is trying to be set on a copy of a slice from a DataFrame.\n",
      "Try using .loc[row_indexer,col_indexer] = value instead\n",
      "\n",
      "See the caveats in the documentation: https://pandas.pydata.org/pandas-docs/stable/user_guide/indexing.html#returning-a-view-versus-a-copy\n",
      "  df['Review_Length_preprocessed'] = df['processed_review'].str.split().map(lambda x: len(x))\n",
      "/var/folders/m_/2w2qlxsn13s9qyf11rtgzkkr0000gn/T/ipykernel_83873/2732557836.py:2: SettingWithCopyWarning: \n",
      "A value is trying to be set on a copy of a slice from a DataFrame.\n",
      "Try using .loc[row_indexer,col_indexer] = value instead\n",
      "\n",
      "See the caveats in the documentation: https://pandas.pydata.org/pandas-docs/stable/user_guide/indexing.html#returning-a-view-versus-a-copy\n",
      "  df['diff'] = df['Review_Length_preprocessed'] - df['Review_Length']\n"
     ]
    },
    {
     "data": {
      "text/plain": "count    13628.000000\nmean       -95.753669\nstd        108.255683\nmin      -2356.000000\n25%       -119.000000\n50%        -63.000000\n75%        -32.000000\nmax         -2.000000\nName: diff, dtype: float64"
     },
     "execution_count": 16,
     "metadata": {},
     "output_type": "execute_result"
    }
   ],
   "source": [
    "df['Review_Length_preprocessed'] = df['processed_review'].str.split().map(lambda x: len(x))\n",
    "df['diff'] = df['Review_Length_preprocessed'] - df['Review_Length']\n",
    "df['diff'].describe()"
   ],
   "metadata": {
    "collapsed": false,
    "pycharm": {
     "name": "#%%\n"
    }
   }
  },
  {
   "cell_type": "code",
   "execution_count": 68,
   "outputs": [
    {
     "data": {
      "text/plain": "<Figure size 360x720 with 1 Axes>",
      "image/png": "[encoded data removed]"
     },
     "metadata": {
      "needs_background": "light"
     },
     "output_type": "display_data"
    }
   ],
   "source": [
    "plt.figure(figsize=(5, 10))\n",
    "plt.boxplot(df['diff'])\n",
    "plt.ylabel('Nombre de mots')\n",
    "plt.title('Réduction de la longueur des commentaires après preprocessing.');"
   ],
   "metadata": {
    "collapsed": false,
    "pycharm": {
     "name": "#%%\n"
    }
   }
  },
  {
   "cell_type": "markdown",
   "source": [
    "### Exemples de reviews avant / après"
   ],
   "metadata": {
    "collapsed": false,
    "pycharm": {
     "name": "#%% md\n"
    }
   }
  },
  {
   "cell_type": "code",
   "execution_count": 17,
   "outputs": [
    {
     "name": "stdout",
     "output_type": "stream",
     "text": [
      "Exemple review positive (note de 5) avant / après processing :\n",
      "\n",
      "This was my first trip to Disneyland Paris and it was absolutely fantastic! The staff were extremely helpful! The park was but this was to be expected with the time I visited. I would highly recommend this park! The character parade and end of day show are literally incredible!!  \n",
      "\n",
      "first trip absolutely fantastic staff extremely helpful park expected time visited would highly recommend park character parade end day show literally incredible\n"
     ]
    }
   ],
   "source": [
    "print(f\"Exemple review positive (note de {df.loc[20, 'Rating']}) avant / après processing :\\n\")\n",
    "print(df.loc[20, 'Review_Text'], '\\n')\n",
    "print(df.loc[20, 'processed_review'])"
   ],
   "metadata": {
    "collapsed": false,
    "pycharm": {
     "name": "#%%\n"
    }
   }
  },
  {
   "cell_type": "code",
   "execution_count": 18,
   "outputs": [
    {
     "name": "stdout",
     "output_type": "stream",
     "text": [
      "Exemple review positive (note de 1) avant / après processing :\n",
      "\n",
      "Why they selling fastpass tickets without have buy before the entrance tickets???  Any answer ???  Shame on you!!!   We came here from Greece until the entrance!!!  Avoid this place!!!                                                                                                                 \n",
      "\n",
      "selling ticket without buy entrance ticket answer shame came entrance avoid place\n"
     ]
    }
   ],
   "source": [
    "print(f\"Exemple review positive (note de {df.loc[17, 'Rating']}) avant / après processing :\\n\")\n",
    "print(df.loc[17, 'Review_Text'], '\\n')\n",
    "print(df.loc[17, 'processed_review'])"
   ],
   "metadata": {
    "collapsed": false,
    "pycharm": {
     "name": "#%%\n"
    }
   }
  },
  {
   "cell_type": "code",
   "execution_count": 19,
   "outputs": [
    {
     "data": {
      "text/plain": "       Rating Year_Month     Reviewer_Location  \\\n0           5     2019-3  United Arab Emirates   \n1           4     2018-6        United Kingdom   \n2           5     2019-4        United Kingdom   \n3           4     2019-4             Australia   \n4           5    missing                France   \n...       ...        ...                   ...   \n13625       5    missing        United Kingdom   \n13626       5    missing                Canada   \n13627       5    missing          South Africa   \n13628       4    missing         United States   \n13629       4    missing        United Kingdom   \n\n                                             Review_Text  Review_Length  \\\n0      We've been to Disneyland Hongkong and Tokyo, s...             91   \n1      I went to Disneyland Paris in April 2018 on Ea...            176   \n2      What a fantastic place, the queues were decent...             58   \n3      We didn't realise it was school holidays when ...            148   \n4      A Trip to Disney makes you all warm and fuzzy ...            133   \n...                                                  ...            ...   \n13625  i went to disneyland paris in july 03 and thou...            173   \n13626  2 adults and 1 child of 11 visited Disneyland ...            191   \n13627  My eleven year old daughter and myself went to...            109   \n13628  This hotel, part of the Disneyland Paris compl...            112   \n13629  I went to the Disneyparis resort, in 1996, wit...            179   \n\n                                        processed_review  \\\n0      far one best looking forward visit biggest one...   \n1      went weekend know say cant choose date loved m...   \n2      fantastic place queue decent best time year ap...   \n3      realise school holiday went consequently extre...   \n4      trip make warm fuzzy actual kid big one make f...   \n...                                                  ...   \n13625  went thought brilliant visited hotel stayed ba...   \n13626  adult child visited beginning absolute fantast...   \n13627  eleven year old daughter went visit son decide...   \n13628  hotel part complex wonderful place family sinc...   \n13629  went resort small child minute enter transport...   \n\n       Review_Length_preprocessed  diff  \n0                              39   -52  \n1                              68  -108  \n2                              24   -34  \n3                              71   -77  \n4                              58   -75  \n...                           ...   ...  \n13625                          68  -105  \n13626                          70  -121  \n13627                          43   -66  \n13628                          54   -58  \n13629                          76  -103  \n\n[13628 rows x 8 columns]",
      "text/html": "<div>\n<style scoped>\n    .dataframe tbody tr th:only-of-type {\n        vertical-align: middle;\n    }\n\n    .dataframe tbody tr th {\n        vertical-align: top;\n    }\n\n    .dataframe thead th {\n        text-align: right;\n    }\n</style>\n<table border=\"1\" class=\"dataframe\">\n  <thead>\n    <tr style=\"text-align: right;\">\n      <th></th>\n      <th>Rating</th>\n      <th>Year_Month</th>\n      <th>Reviewer_Location</th>\n      <th>Review_Text</th>\n      <th>Review_Length</th>\n      <th>processed_review</th>\n      <th>Review_Length_preprocessed</th>\n      <th>diff</th>\n    </tr>\n  </thead>\n  <tbody>\n    <tr>\n      <th>0</th>\n      <td>5</td>\n      <td>2019-3</td>\n      <td>United Arab Emirates</td>\n      <td>We've been to Disneyland Hongkong and Tokyo, s...</td>\n      <td>91</td>\n      <td>far one best looking forward visit biggest one...</td>\n      <td>39</td>\n      <td>-52</td>\n    </tr>\n    <tr>\n      <th>1</th>\n      <td>4</td>\n      <td>2018-6</td>\n      <td>United Kingdom</td>\n      <td>I went to Disneyland Paris in April 2018 on Ea...</td>\n      <td>176</td>\n      <td>went weekend know say cant choose date loved m...</td>\n      <td>68</td>\n      <td>-108</td>\n    </tr>\n    <tr>\n      <th>2</th>\n      <td>5</td>\n      <td>2019-4</td>\n      <td>United Kingdom</td>\n      <td>What a fantastic place, the queues were decent...</td>\n      <td>58</td>\n      <td>fantastic place queue decent best time year ap...</td>\n      <td>24</td>\n      <td>-34</td>\n    </tr>\n    <tr>\n      <th>3</th>\n      <td>4</td>\n      <td>2019-4</td>\n      <td>Australia</td>\n      <td>We didn't realise it was school holidays when ...</td>\n      <td>148</td>\n      <td>realise school holiday went consequently extre...</td>\n      <td>71</td>\n      <td>-77</td>\n    </tr>\n    <tr>\n      <th>4</th>\n      <td>5</td>\n      <td>missing</td>\n      <td>France</td>\n      <td>A Trip to Disney makes you all warm and fuzzy ...</td>\n      <td>133</td>\n      <td>trip make warm fuzzy actual kid big one make f...</td>\n      <td>58</td>\n      <td>-75</td>\n    </tr>\n    <tr>\n      <th>...</th>\n      <td>...</td>\n      <td>...</td>\n      <td>...</td>\n      <td>...</td>\n      <td>...</td>\n      <td>...</td>\n      <td>...</td>\n      <td>...</td>\n    </tr>\n    <tr>\n      <th>13625</th>\n      <td>5</td>\n      <td>missing</td>\n      <td>United Kingdom</td>\n      <td>i went to disneyland paris in july 03 and thou...</td>\n      <td>173</td>\n      <td>went thought brilliant visited hotel stayed ba...</td>\n      <td>68</td>\n      <td>-105</td>\n    </tr>\n    <tr>\n      <th>13626</th>\n      <td>5</td>\n      <td>missing</td>\n      <td>Canada</td>\n      <td>2 adults and 1 child of 11 visited Disneyland ...</td>\n      <td>191</td>\n      <td>adult child visited beginning absolute fantast...</td>\n      <td>70</td>\n      <td>-121</td>\n    </tr>\n    <tr>\n      <th>13627</th>\n      <td>5</td>\n      <td>missing</td>\n      <td>South Africa</td>\n      <td>My eleven year old daughter and myself went to...</td>\n      <td>109</td>\n      <td>eleven year old daughter went visit son decide...</td>\n      <td>43</td>\n      <td>-66</td>\n    </tr>\n    <tr>\n      <th>13628</th>\n      <td>4</td>\n      <td>missing</td>\n      <td>United States</td>\n      <td>This hotel, part of the Disneyland Paris compl...</td>\n      <td>112</td>\n      <td>hotel part complex wonderful place family sinc...</td>\n      <td>54</td>\n      <td>-58</td>\n    </tr>\n    <tr>\n      <th>13629</th>\n      <td>4</td>\n      <td>missing</td>\n      <td>United Kingdom</td>\n      <td>I went to the Disneyparis resort, in 1996, wit...</td>\n      <td>179</td>\n      <td>went resort small child minute enter transport...</td>\n      <td>76</td>\n      <td>-103</td>\n    </tr>\n  </tbody>\n</table>\n<p>13628 rows × 8 columns</p>\n</div>"
     },
     "execution_count": 19,
     "metadata": {},
     "output_type": "execute_result"
    }
   ],
   "source": [
    "df"
   ],
   "metadata": {
    "collapsed": false,
    "pycharm": {
     "name": "#%%\n"
    }
   }
  },
  {
   "cell_type": "markdown",
   "source": [
    "## Implémentation de l'algorithme"
   ],
   "metadata": {
    "collapsed": false,
    "pycharm": {
     "name": "#%% md\n"
    }
   }
  },
  {
   "cell_type": "markdown",
   "source": [
    "### Séparation du jeu de données avec cross validation"
   ],
   "metadata": {
    "collapsed": false,
    "pycharm": {
     "name": "#%% md\n"
    }
   }
  },
  {
   "cell_type": "code",
   "execution_count": 20,
   "outputs": [],
   "source": [
    "X = df['processed_review']\n",
    "y = df['Rating']"
   ],
   "metadata": {
    "collapsed": false,
    "pycharm": {
     "name": "#%%\n"
    }
   }
  },
  {
   "cell_type": "code",
   "execution_count": 21,
   "outputs": [],
   "source": [
    "folds = StratifiedKFold(n_splits=5, shuffle=True, random_state=21)\n",
    "for train_index, test_index in folds.split(X, y):\n",
    "    X_train, X_test = X.iloc[train_index], X.iloc[test_index]\n",
    "    y_train, y_test = y.iloc[train_index], y.iloc[test_index]"
   ],
   "metadata": {
    "collapsed": false,
    "pycharm": {
     "name": "#%%\n"
    }
   }
  },
  {
   "cell_type": "code",
   "execution_count": 22,
   "outputs": [
    {
     "name": "stdout",
     "output_type": "stream",
     "text": [
      "Dimensions données d'entrainement:  (10903,) (10903,)\n",
      "Dimensions données test : (2725,) (2725,)\n"
     ]
    }
   ],
   "source": [
    "print('Dimensions données d\\'entrainement: ', X_train.shape, y_train.shape)\n",
    "print('Dimensions données test :', X_test.shape, y_test.shape)"
   ],
   "metadata": {
    "collapsed": false,
    "pycharm": {
     "name": "#%%\n"
    }
   }
  },
  {
   "cell_type": "markdown",
   "source": [
    "### Modèle 1 avec CountVectorizer"
   ],
   "metadata": {
    "collapsed": false,
    "pycharm": {
     "name": "#%% md\n"
    }
   }
  },
  {
   "cell_type": "markdown",
   "source": [
    "#### Extraction des features numériques"
   ],
   "metadata": {
    "collapsed": false,
    "pycharm": {
     "name": "#%% md\n"
    }
   }
  },
  {
   "cell_type": "code",
   "execution_count": 23,
   "outputs": [],
   "source": [
    "CV = CountVectorizer(stop_words = 'english')\n",
    "X_train_CV = CV.fit_transform(X_train)\n",
    "X_test_CV = CV.transform(X_test)"
   ],
   "metadata": {
    "collapsed": false,
    "pycharm": {
     "name": "#%%\n"
    }
   }
  },
  {
   "cell_type": "code",
   "execution_count": 24,
   "outputs": [
    {
     "name": "stderr",
     "output_type": "stream",
     "text": [
      "/Users/donor/PycharmProjects/de_job_market/venv/lib/python3.8/site-packages/sklearn/utils/deprecation.py:87: FutureWarning: Function get_feature_names is deprecated; get_feature_names is deprecated in 1.0 and will be removed in 1.2. Please use get_feature_names_out instead.\n",
      "  warnings.warn(msg, category=FutureWarning)\n"
     ]
    },
    {
     "data": {
      "text/plain": "       ab  aback  abandon  abandoned  abbey  abbreviated  abhorrence  \\\n0       0      0        0          0      0            0           0   \n1       0      0        0          0      0            0           0   \n2       0      0        0          0      0            0           0   \n3       0      0        0          0      0            0           0   \n4       0      0        0          0      0            0           0   \n...    ..    ...      ...        ...    ...          ...         ...   \n10898   0      0        0          0      0            0           0   \n10899   0      0        0          0      0            0           0   \n10900   0      0        0          0      0            0           0   \n10901   0      0        0          0      0            0           0   \n10902   0      0        0          0      0            0           0   \n\n       abhorrent  abide  ability  ...  zing  zip  zipped  zippered  zipping  \\\n0              0      0        0  ...     0    0       0         0        0   \n1              0      0        0  ...     0    0       0         0        0   \n2              0      0        0  ...     0    0       0         0        0   \n3              0      0        0  ...     0    0       0         0        0   \n4              0      0        0  ...     0    0       0         0        0   \n...          ...    ...      ...  ...   ...  ...     ...       ...      ...   \n10898          0      0        0  ...     0    0       0         0        0   \n10899          0      0        0  ...     0    0       0         0        0   \n10900          0      0        0  ...     0    0       0         0        0   \n10901          0      0        0  ...     0    0       0         0        0   \n10902          0      0        0  ...     0    0       0         0        0   \n\n       zombie  zone  zoned  zoo  zoom  \n0           0     0      0    0     0  \n1           0     0      0    0     0  \n2           0     0      0    0     0  \n3           0     0      0    0     0  \n4           0     0      0    0     0  \n...       ...   ...    ...  ...   ...  \n10898       0     0      0    0     0  \n10899       0     0      0    0     0  \n10900       0     0      0    0     0  \n10901       0     0      0    0     0  \n10902       0     0      0    0     0  \n\n[10903 rows x 12898 columns]",
      "text/html": "<div>\n<style scoped>\n    .dataframe tbody tr th:only-of-type {\n        vertical-align: middle;\n    }\n\n    .dataframe tbody tr th {\n        vertical-align: top;\n    }\n\n    .dataframe thead th {\n        text-align: right;\n    }\n</style>\n<table border=\"1\" class=\"dataframe\">\n  <thead>\n    <tr style=\"text-align: right;\">\n      <th></th>\n      <th>ab</th>\n      <th>aback</th>\n      <th>abandon</th>\n      <th>abandoned</th>\n      <th>abbey</th>\n      <th>abbreviated</th>\n      <th>abhorrence</th>\n      <th>abhorrent</th>\n      <th>abide</th>\n      <th>ability</th>\n      <th>...</th>\n      <th>zing</th>\n      <th>zip</th>\n      <th>zipped</th>\n      <th>zippered</th>\n      <th>zipping</th>\n      <th>zombie</th>\n      <th>zone</th>\n      <th>zoned</th>\n      <th>zoo</th>\n      <th>zoom</th>\n    </tr>\n  </thead>\n  <tbody>\n    <tr>\n      <th>0</th>\n      <td>0</td>\n      <td>0</td>\n      <td>0</td>\n      <td>0</td>\n      <td>0</td>\n      <td>0</td>\n      <td>0</td>\n      <td>0</td>\n      <td>0</td>\n      <td>0</td>\n      <td>...</td>\n      <td>0</td>\n      <td>0</td>\n      <td>0</td>\n      <td>0</td>\n      <td>0</td>\n      <td>0</td>\n      <td>0</td>\n      <td>0</td>\n      <td>0</td>\n      <td>0</td>\n    </tr>\n    <tr>\n      <th>1</th>\n      <td>0</td>\n      <td>0</td>\n      <td>0</td>\n      <td>0</td>\n      <td>0</td>\n      <td>0</td>\n      <td>0</td>\n      <td>0</td>\n      <td>0</td>\n      <td>0</td>\n      <td>...</td>\n      <td>0</td>\n      <td>0</td>\n      <td>0</td>\n      <td>0</td>\n      <td>0</td>\n      <td>0</td>\n      <td>0</td>\n      <td>0</td>\n      <td>0</td>\n      <td>0</td>\n    </tr>\n    <tr>\n      <th>2</th>\n      <td>0</td>\n      <td>0</td>\n      <td>0</td>\n      <td>0</td>\n      <td>0</td>\n      <td>0</td>\n      <td>0</td>\n      <td>0</td>\n      <td>0</td>\n      <td>0</td>\n      <td>...</td>\n      <td>0</td>\n      <td>0</td>\n      <td>0</td>\n      <td>0</td>\n      <td>0</td>\n      <td>0</td>\n      <td>0</td>\n      <td>0</td>\n      <td>0</td>\n      <td>0</td>\n    </tr>\n    <tr>\n      <th>3</th>\n      <td>0</td>\n      <td>0</td>\n      <td>0</td>\n      <td>0</td>\n      <td>0</td>\n      <td>0</td>\n      <td>0</td>\n      <td>0</td>\n      <td>0</td>\n      <td>0</td>\n      <td>...</td>\n      <td>0</td>\n      <td>0</td>\n      <td>0</td>\n      <td>0</td>\n      <td>0</td>\n      <td>0</td>\n      <td>0</td>\n      <td>0</td>\n      <td>0</td>\n      <td>0</td>\n    </tr>\n    <tr>\n      <th>4</th>\n      <td>0</td>\n      <td>0</td>\n      <td>0</td>\n      <td>0</td>\n      <td>0</td>\n      <td>0</td>\n      <td>0</td>\n      <td>0</td>\n      <td>0</td>\n      <td>0</td>\n      <td>...</td>\n      <td>0</td>\n      <td>0</td>\n      <td>0</td>\n      <td>0</td>\n      <td>0</td>\n      <td>0</td>\n      <td>0</td>\n      <td>0</td>\n      <td>0</td>\n      <td>0</td>\n    </tr>\n    <tr>\n      <th>...</th>\n      <td>...</td>\n      <td>...</td>\n      <td>...</td>\n      <td>...</td>\n      <td>...</td>\n      <td>...</td>\n      <td>...</td>\n      <td>...</td>\n      <td>...</td>\n      <td>...</td>\n      <td>...</td>\n      <td>...</td>\n      <td>...</td>\n      <td>...</td>\n      <td>...</td>\n      <td>...</td>\n      <td>...</td>\n      <td>...</td>\n      <td>...</td>\n      <td>...</td>\n      <td>...</td>\n    </tr>\n    <tr>\n      <th>10898</th>\n      <td>0</td>\n      <td>0</td>\n      <td>0</td>\n      <td>0</td>\n      <td>0</td>\n      <td>0</td>\n      <td>0</td>\n      <td>0</td>\n      <td>0</td>\n      <td>0</td>\n      <td>...</td>\n      <td>0</td>\n      <td>0</td>\n      <td>0</td>\n      <td>0</td>\n      <td>0</td>\n      <td>0</td>\n      <td>0</td>\n      <td>0</td>\n      <td>0</td>\n      <td>0</td>\n    </tr>\n    <tr>\n      <th>10899</th>\n      <td>0</td>\n      <td>0</td>\n      <td>0</td>\n      <td>0</td>\n      <td>0</td>\n      <td>0</td>\n      <td>0</td>\n      <td>0</td>\n      <td>0</td>\n      <td>0</td>\n      <td>...</td>\n      <td>0</td>\n      <td>0</td>\n      <td>0</td>\n      <td>0</td>\n      <td>0</td>\n      <td>0</td>\n      <td>0</td>\n      <td>0</td>\n      <td>0</td>\n      <td>0</td>\n    </tr>\n    <tr>\n      <th>10900</th>\n      <td>0</td>\n      <td>0</td>\n      <td>0</td>\n      <td>0</td>\n      <td>0</td>\n      <td>0</td>\n      <td>0</td>\n      <td>0</td>\n      <td>0</td>\n      <td>0</td>\n      <td>...</td>\n      <td>0</td>\n      <td>0</td>\n      <td>0</td>\n      <td>0</td>\n      <td>0</td>\n      <td>0</td>\n      <td>0</td>\n      <td>0</td>\n      <td>0</td>\n      <td>0</td>\n    </tr>\n    <tr>\n      <th>10901</th>\n      <td>0</td>\n      <td>0</td>\n      <td>0</td>\n      <td>0</td>\n      <td>0</td>\n      <td>0</td>\n      <td>0</td>\n      <td>0</td>\n      <td>0</td>\n      <td>0</td>\n      <td>...</td>\n      <td>0</td>\n      <td>0</td>\n      <td>0</td>\n      <td>0</td>\n      <td>0</td>\n      <td>0</td>\n      <td>0</td>\n      <td>0</td>\n      <td>0</td>\n      <td>0</td>\n    </tr>\n    <tr>\n      <th>10902</th>\n      <td>0</td>\n      <td>0</td>\n      <td>0</td>\n      <td>0</td>\n      <td>0</td>\n      <td>0</td>\n      <td>0</td>\n      <td>0</td>\n      <td>0</td>\n      <td>0</td>\n      <td>...</td>\n      <td>0</td>\n      <td>0</td>\n      <td>0</td>\n      <td>0</td>\n      <td>0</td>\n      <td>0</td>\n      <td>0</td>\n      <td>0</td>\n      <td>0</td>\n      <td>0</td>\n    </tr>\n  </tbody>\n</table>\n<p>10903 rows × 12898 columns</p>\n</div>"
     },
     "execution_count": 24,
     "metadata": {},
     "output_type": "execute_result"
    }
   ],
   "source": [
    "CV_df = pd.DataFrame(X_train_CV.toarray(), columns=CV.get_feature_names())\n",
    "CV_df"
   ],
   "metadata": {
    "collapsed": false,
    "pycharm": {
     "name": "#%%\n"
    }
   }
  },
  {
   "cell_type": "markdown",
   "source": [
    "#### Entraînement du modèle"
   ],
   "metadata": {
    "collapsed": false
   }
  },
  {
   "cell_type": "code",
   "execution_count": 25,
   "outputs": [
    {
     "data": {
      "text/plain": "MultinomialNB()"
     },
     "execution_count": 25,
     "metadata": {},
     "output_type": "execute_result"
    }
   ],
   "source": [
    "clf = MultinomialNB()\n",
    "clf.fit(X_train_CV, y_train)"
   ],
   "metadata": {
    "collapsed": false,
    "pycharm": {
     "name": "#%%\n"
    }
   }
  },
  {
   "cell_type": "code",
   "execution_count": 26,
   "outputs": [
    {
     "name": "stdout",
     "output_type": "stream",
     "text": [
      "Résultats Multinomial Naive Bayes données d'entraînement : 0.7271393194533614\n",
      "Résultats Multinomial Naive Bayes données test : 0.5577981651376147\n"
     ]
    }
   ],
   "source": [
    "print('Résultats Multinomial Naive Bayes données d\\'entraînement :', clf.score(X_train_CV, y_train))\n",
    "print('Résultats Multinomial Naive Bayes données test :', clf.score(X_test_CV, y_test))"
   ],
   "metadata": {
    "collapsed": false,
    "pycharm": {
     "name": "#%%\n"
    }
   }
  },
  {
   "cell_type": "code",
   "execution_count": 27,
   "outputs": [
    {
     "name": "stdout",
     "output_type": "stream",
     "text": [
      "              precision    recall  f1-score   support\n",
      "\n",
      "           1       0.52      0.22      0.31       165\n",
      "           2       0.30      0.15      0.20       209\n",
      "           3       0.40      0.41      0.40       417\n",
      "           4       0.41      0.36      0.38       713\n",
      "           5       0.68      0.84      0.75      1221\n",
      "\n",
      "    accuracy                           0.56      2725\n",
      "   macro avg       0.46      0.39      0.41      2725\n",
      "weighted avg       0.53      0.56      0.53      2725\n",
      "\n"
     ]
    }
   ],
   "source": [
    "predicted_result = clf.predict(X_test_CV)\n",
    "print(classification_report(y_test, predicted_result))"
   ],
   "metadata": {
    "collapsed": false,
    "pycharm": {
     "name": "#%%\n"
    }
   }
  },
  {
   "cell_type": "markdown",
   "source": [
    "#### Interprétation des résultats\n",
    "\n",
    "Le modèle est plus précis pour prédire les extrémités : 52% pour les notes de 1 et 68% pour les notes 5.\n",
    "Cela montre les challenges de la classification de texte où les nuances sont difficiles à prendre en compte."
   ],
   "metadata": {
    "collapsed": false,
    "pycharm": {
     "name": "#%% md\n"
    }
   }
  },
  {
   "cell_type": "markdown",
   "source": [
    "### Modèle 2 avec TfidfVectorizer"
   ],
   "metadata": {
    "collapsed": false
   }
  },
  {
   "cell_type": "markdown",
   "source": [
    "#### Extraction des features numériques"
   ],
   "metadata": {
    "collapsed": false,
    "pycharm": {
     "name": "#%% md\n"
    }
   }
  },
  {
   "cell_type": "code",
   "execution_count": 28,
   "outputs": [
    {
     "name": "stdout",
     "output_type": "stream",
     "text": [
      "(10903, 12898)\n",
      "(2725, 12898)\n"
     ]
    }
   ],
   "source": [
    "TV = TfidfVectorizer(stop_words = 'english')\n",
    "\n",
    "X_train_tfidf = TV.fit_transform(X_train)\n",
    "X_test_tfidf = TV.transform(X_test)\n",
    "\n",
    "print(X_train_tfidf.shape)\n",
    "print(X_test_tfidf.shape)"
   ],
   "metadata": {
    "collapsed": false,
    "pycharm": {
     "name": "#%%\n"
    }
   }
  },
  {
   "cell_type": "code",
   "execution_count": 29,
   "outputs": [
    {
     "name": "stderr",
     "output_type": "stream",
     "text": [
      "/Users/donor/PycharmProjects/de_job_market/venv/lib/python3.8/site-packages/sklearn/utils/deprecation.py:87: FutureWarning: Function get_feature_names is deprecated; get_feature_names is deprecated in 1.0 and will be removed in 1.2. Please use get_feature_names_out instead.\n",
      "  warnings.warn(msg, category=FutureWarning)\n"
     ]
    },
    {
     "data": {
      "text/plain": "        ab  aback  abandon  abandoned  abbey  abbreviated  abhorrence  \\\n0      0.0    0.0      0.0        0.0    0.0          0.0         0.0   \n1      0.0    0.0      0.0        0.0    0.0          0.0         0.0   \n2      0.0    0.0      0.0        0.0    0.0          0.0         0.0   \n3      0.0    0.0      0.0        0.0    0.0          0.0         0.0   \n4      0.0    0.0      0.0        0.0    0.0          0.0         0.0   \n...    ...    ...      ...        ...    ...          ...         ...   \n10898  0.0    0.0      0.0        0.0    0.0          0.0         0.0   \n10899  0.0    0.0      0.0        0.0    0.0          0.0         0.0   \n10900  0.0    0.0      0.0        0.0    0.0          0.0         0.0   \n10901  0.0    0.0      0.0        0.0    0.0          0.0         0.0   \n10902  0.0    0.0      0.0        0.0    0.0          0.0         0.0   \n\n       abhorrent  abide  ability  ...  zing  zip  zipped  zippered  zipping  \\\n0            0.0    0.0      0.0  ...   0.0  0.0     0.0       0.0      0.0   \n1            0.0    0.0      0.0  ...   0.0  0.0     0.0       0.0      0.0   \n2            0.0    0.0      0.0  ...   0.0  0.0     0.0       0.0      0.0   \n3            0.0    0.0      0.0  ...   0.0  0.0     0.0       0.0      0.0   \n4            0.0    0.0      0.0  ...   0.0  0.0     0.0       0.0      0.0   \n...          ...    ...      ...  ...   ...  ...     ...       ...      ...   \n10898        0.0    0.0      0.0  ...   0.0  0.0     0.0       0.0      0.0   \n10899        0.0    0.0      0.0  ...   0.0  0.0     0.0       0.0      0.0   \n10900        0.0    0.0      0.0  ...   0.0  0.0     0.0       0.0      0.0   \n10901        0.0    0.0      0.0  ...   0.0  0.0     0.0       0.0      0.0   \n10902        0.0    0.0      0.0  ...   0.0  0.0     0.0       0.0      0.0   \n\n       zombie  zone  zoned  zoo  zoom  \n0         0.0   0.0    0.0  0.0   0.0  \n1         0.0   0.0    0.0  0.0   0.0  \n2         0.0   0.0    0.0  0.0   0.0  \n3         0.0   0.0    0.0  0.0   0.0  \n4         0.0   0.0    0.0  0.0   0.0  \n...       ...   ...    ...  ...   ...  \n10898     0.0   0.0    0.0  0.0   0.0  \n10899     0.0   0.0    0.0  0.0   0.0  \n10900     0.0   0.0    0.0  0.0   0.0  \n10901     0.0   0.0    0.0  0.0   0.0  \n10902     0.0   0.0    0.0  0.0   0.0  \n\n[10903 rows x 12898 columns]",
      "text/html": "<div>\n<style scoped>\n    .dataframe tbody tr th:only-of-type {\n        vertical-align: middle;\n    }\n\n    .dataframe tbody tr th {\n        vertical-align: top;\n    }\n\n    .dataframe thead th {\n        text-align: right;\n    }\n</style>\n<table border=\"1\" class=\"dataframe\">\n  <thead>\n    <tr style=\"text-align: right;\">\n      <th></th>\n      <th>ab</th>\n      <th>aback</th>\n      <th>abandon</th>\n      <th>abandoned</th>\n      <th>abbey</th>\n      <th>abbreviated</th>\n      <th>abhorrence</th>\n      <th>abhorrent</th>\n      <th>abide</th>\n      <th>ability</th>\n      <th>...</th>\n      <th>zing</th>\n      <th>zip</th>\n      <th>zipped</th>\n      <th>zippered</th>\n      <th>zipping</th>\n      <th>zombie</th>\n      <th>zone</th>\n      <th>zoned</th>\n      <th>zoo</th>\n      <th>zoom</th>\n    </tr>\n  </thead>\n  <tbody>\n    <tr>\n      <th>0</th>\n      <td>0.0</td>\n      <td>0.0</td>\n      <td>0.0</td>\n      <td>0.0</td>\n      <td>0.0</td>\n      <td>0.0</td>\n      <td>0.0</td>\n      <td>0.0</td>\n      <td>0.0</td>\n      <td>0.0</td>\n      <td>...</td>\n      <td>0.0</td>\n      <td>0.0</td>\n      <td>0.0</td>\n      <td>0.0</td>\n      <td>0.0</td>\n      <td>0.0</td>\n      <td>0.0</td>\n      <td>0.0</td>\n      <td>0.0</td>\n      <td>0.0</td>\n    </tr>\n    <tr>\n      <th>1</th>\n      <td>0.0</td>\n      <td>0.0</td>\n      <td>0.0</td>\n      <td>0.0</td>\n      <td>0.0</td>\n      <td>0.0</td>\n      <td>0.0</td>\n      <td>0.0</td>\n      <td>0.0</td>\n      <td>0.0</td>\n      <td>...</td>\n      <td>0.0</td>\n      <td>0.0</td>\n      <td>0.0</td>\n      <td>0.0</td>\n      <td>0.0</td>\n      <td>0.0</td>\n      <td>0.0</td>\n      <td>0.0</td>\n      <td>0.0</td>\n      <td>0.0</td>\n    </tr>\n    <tr>\n      <th>2</th>\n      <td>0.0</td>\n      <td>0.0</td>\n      <td>0.0</td>\n      <td>0.0</td>\n      <td>0.0</td>\n      <td>0.0</td>\n      <td>0.0</td>\n      <td>0.0</td>\n      <td>0.0</td>\n      <td>0.0</td>\n      <td>...</td>\n      <td>0.0</td>\n      <td>0.0</td>\n      <td>0.0</td>\n      <td>0.0</td>\n      <td>0.0</td>\n      <td>0.0</td>\n      <td>0.0</td>\n      <td>0.0</td>\n      <td>0.0</td>\n      <td>0.0</td>\n    </tr>\n    <tr>\n      <th>3</th>\n      <td>0.0</td>\n      <td>0.0</td>\n      <td>0.0</td>\n      <td>0.0</td>\n      <td>0.0</td>\n      <td>0.0</td>\n      <td>0.0</td>\n      <td>0.0</td>\n      <td>0.0</td>\n      <td>0.0</td>\n      <td>...</td>\n      <td>0.0</td>\n      <td>0.0</td>\n      <td>0.0</td>\n      <td>0.0</td>\n      <td>0.0</td>\n      <td>0.0</td>\n      <td>0.0</td>\n      <td>0.0</td>\n      <td>0.0</td>\n      <td>0.0</td>\n    </tr>\n    <tr>\n      <th>4</th>\n      <td>0.0</td>\n      <td>0.0</td>\n      <td>0.0</td>\n      <td>0.0</td>\n      <td>0.0</td>\n      <td>0.0</td>\n      <td>0.0</td>\n      <td>0.0</td>\n      <td>0.0</td>\n      <td>0.0</td>\n      <td>...</td>\n      <td>0.0</td>\n      <td>0.0</td>\n      <td>0.0</td>\n      <td>0.0</td>\n      <td>0.0</td>\n      <td>0.0</td>\n      <td>0.0</td>\n      <td>0.0</td>\n      <td>0.0</td>\n      <td>0.0</td>\n    </tr>\n    <tr>\n      <th>...</th>\n      <td>...</td>\n      <td>...</td>\n      <td>...</td>\n      <td>...</td>\n      <td>...</td>\n      <td>...</td>\n      <td>...</td>\n      <td>...</td>\n      <td>...</td>\n      <td>...</td>\n      <td>...</td>\n      <td>...</td>\n      <td>...</td>\n      <td>...</td>\n      <td>...</td>\n      <td>...</td>\n      <td>...</td>\n      <td>...</td>\n      <td>...</td>\n      <td>...</td>\n      <td>...</td>\n    </tr>\n    <tr>\n      <th>10898</th>\n      <td>0.0</td>\n      <td>0.0</td>\n      <td>0.0</td>\n      <td>0.0</td>\n      <td>0.0</td>\n      <td>0.0</td>\n      <td>0.0</td>\n      <td>0.0</td>\n      <td>0.0</td>\n      <td>0.0</td>\n      <td>...</td>\n      <td>0.0</td>\n      <td>0.0</td>\n      <td>0.0</td>\n      <td>0.0</td>\n      <td>0.0</td>\n      <td>0.0</td>\n      <td>0.0</td>\n      <td>0.0</td>\n      <td>0.0</td>\n      <td>0.0</td>\n    </tr>\n    <tr>\n      <th>10899</th>\n      <td>0.0</td>\n      <td>0.0</td>\n      <td>0.0</td>\n      <td>0.0</td>\n      <td>0.0</td>\n      <td>0.0</td>\n      <td>0.0</td>\n      <td>0.0</td>\n      <td>0.0</td>\n      <td>0.0</td>\n      <td>...</td>\n      <td>0.0</td>\n      <td>0.0</td>\n      <td>0.0</td>\n      <td>0.0</td>\n      <td>0.0</td>\n      <td>0.0</td>\n      <td>0.0</td>\n      <td>0.0</td>\n      <td>0.0</td>\n      <td>0.0</td>\n    </tr>\n    <tr>\n      <th>10900</th>\n      <td>0.0</td>\n      <td>0.0</td>\n      <td>0.0</td>\n      <td>0.0</td>\n      <td>0.0</td>\n      <td>0.0</td>\n      <td>0.0</td>\n      <td>0.0</td>\n      <td>0.0</td>\n      <td>0.0</td>\n      <td>...</td>\n      <td>0.0</td>\n      <td>0.0</td>\n      <td>0.0</td>\n      <td>0.0</td>\n      <td>0.0</td>\n      <td>0.0</td>\n      <td>0.0</td>\n      <td>0.0</td>\n      <td>0.0</td>\n      <td>0.0</td>\n    </tr>\n    <tr>\n      <th>10901</th>\n      <td>0.0</td>\n      <td>0.0</td>\n      <td>0.0</td>\n      <td>0.0</td>\n      <td>0.0</td>\n      <td>0.0</td>\n      <td>0.0</td>\n      <td>0.0</td>\n      <td>0.0</td>\n      <td>0.0</td>\n      <td>...</td>\n      <td>0.0</td>\n      <td>0.0</td>\n      <td>0.0</td>\n      <td>0.0</td>\n      <td>0.0</td>\n      <td>0.0</td>\n      <td>0.0</td>\n      <td>0.0</td>\n      <td>0.0</td>\n      <td>0.0</td>\n    </tr>\n    <tr>\n      <th>10902</th>\n      <td>0.0</td>\n      <td>0.0</td>\n      <td>0.0</td>\n      <td>0.0</td>\n      <td>0.0</td>\n      <td>0.0</td>\n      <td>0.0</td>\n      <td>0.0</td>\n      <td>0.0</td>\n      <td>0.0</td>\n      <td>...</td>\n      <td>0.0</td>\n      <td>0.0</td>\n      <td>0.0</td>\n      <td>0.0</td>\n      <td>0.0</td>\n      <td>0.0</td>\n      <td>0.0</td>\n      <td>0.0</td>\n      <td>0.0</td>\n      <td>0.0</td>\n    </tr>\n  </tbody>\n</table>\n<p>10903 rows × 12898 columns</p>\n</div>"
     },
     "execution_count": 29,
     "metadata": {},
     "output_type": "execute_result"
    }
   ],
   "source": [
    "CV_tfidf = pd.DataFrame(X_train_tfidf.toarray(), columns=TV.get_feature_names())\n",
    "CV_tfidf"
   ],
   "metadata": {
    "collapsed": false,
    "pycharm": {
     "name": "#%%\n"
    }
   }
  },
  {
   "cell_type": "markdown",
   "source": [
    "#### Entraînement du modèle"
   ],
   "metadata": {
    "collapsed": false,
    "pycharm": {
     "name": "#%% md\n"
    }
   }
  },
  {
   "cell_type": "code",
   "execution_count": 30,
   "outputs": [
    {
     "name": "stdout",
     "output_type": "stream",
     "text": [
      "0.4841786664220857\n",
      "0.45541284403669724\n"
     ]
    }
   ],
   "source": [
    "clf2 = MultinomialNB()\n",
    "\n",
    "clf2.fit(X_train_tfidf, y_train)\n",
    "print(clf2.score(X_train_tfidf, y_train))\n",
    "\n",
    "print (clf2.score(X_test_tfidf, y_test))"
   ],
   "metadata": {
    "collapsed": false,
    "pycharm": {
     "name": "#%%\n"
    }
   }
  },
  {
   "cell_type": "code",
   "execution_count": 31,
   "outputs": [
    {
     "name": "stdout",
     "output_type": "stream",
     "text": [
      "              precision    recall  f1-score   support\n",
      "\n",
      "           1       0.00      0.00      0.00       165\n",
      "           2       0.00      0.00      0.00       209\n",
      "           3       0.22      0.01      0.02       417\n",
      "           4       0.12      0.03      0.05       713\n",
      "           5       0.48      1.00      0.65      1221\n",
      "\n",
      "    accuracy                           0.46      2725\n",
      "   macro avg       0.16      0.21      0.14      2725\n",
      "weighted avg       0.28      0.46      0.30      2725\n",
      "\n"
     ]
    },
    {
     "name": "stderr",
     "output_type": "stream",
     "text": [
      "/Users/donor/PycharmProjects/de_job_market/venv/lib/python3.8/site-packages/sklearn/metrics/_classification.py:1318: UndefinedMetricWarning: Precision and F-score are ill-defined and being set to 0.0 in labels with no predicted samples. Use `zero_division` parameter to control this behavior.\n",
      "  _warn_prf(average, modifier, msg_start, len(result))\n",
      "/Users/donor/PycharmProjects/de_job_market/venv/lib/python3.8/site-packages/sklearn/metrics/_classification.py:1318: UndefinedMetricWarning: Precision and F-score are ill-defined and being set to 0.0 in labels with no predicted samples. Use `zero_division` parameter to control this behavior.\n",
      "  _warn_prf(average, modifier, msg_start, len(result))\n",
      "/Users/donor/PycharmProjects/de_job_market/venv/lib/python3.8/site-packages/sklearn/metrics/_classification.py:1318: UndefinedMetricWarning: Precision and F-score are ill-defined and being set to 0.0 in labels with no predicted samples. Use `zero_division` parameter to control this behavior.\n",
      "  _warn_prf(average, modifier, msg_start, len(result))\n"
     ]
    }
   ],
   "source": [
    "predicted_result_2 = clf2.predict(X_test_tfidf)\n",
    "print(classification_report(y_test,predicted_result_2))"
   ],
   "metadata": {
    "collapsed": false,
    "pycharm": {
     "name": "#%%\n"
    }
   }
  },
  {
   "cell_type": "markdown",
   "source": [
    "#### Interprétation des résultats\n",
    "\n",
    "Le modèle est plus précis pour les notes qui comptent le plus de reviews : 48% de précision pour les notes 5 et 0 pour les notes 1 qui ont respectivement 6611 et 828 observations."
   ],
   "metadata": {
    "collapsed": false,
    "pycharm": {
     "name": "#%% md\n"
    }
   }
  },
  {
   "cell_type": "markdown",
   "source": [
    "### Modèle 3 avec 2 classes"
   ],
   "metadata": {
    "collapsed": false,
    "pycharm": {
     "name": "#%% md\n"
    }
   }
  },
  {
   "cell_type": "code",
   "execution_count": 32,
   "outputs": [],
   "source": [
    "y = y.replace([1, 2, 3], 0)\n",
    "y = y.replace([4, 5], 1)"
   ],
   "metadata": {
    "collapsed": false,
    "pycharm": {
     "name": "#%%\n"
    }
   }
  },
  {
   "cell_type": "code",
   "execution_count": 33,
   "outputs": [
    {
     "data": {
      "text/plain": "1    9673\n0    3955\nName: Rating, dtype: int64"
     },
     "execution_count": 33,
     "metadata": {},
     "output_type": "execute_result"
    }
   ],
   "source": [
    "y.value_counts()"
   ],
   "metadata": {
    "collapsed": false,
    "pycharm": {
     "name": "#%%\n"
    }
   }
  },
  {
   "cell_type": "code",
   "execution_count": 34,
   "outputs": [
    {
     "data": {
      "text/plain": "<Figure size 432x288 with 1 Axes>",
      "image/png": "[encoded data removed]"
     },
     "metadata": {
      "needs_background": "light"
     },
     "output_type": "display_data"
    }
   ],
   "source": [
    "plt.bar(range(2), y.value_counts())\n",
    "plt.title('Répartition des reviews positives et négatives')\n",
    "plt.xticks([]);"
   ],
   "metadata": {
    "collapsed": false,
    "pycharm": {
     "name": "#%%\n"
    }
   }
  },
  {
   "cell_type": "code",
   "execution_count": 35,
   "outputs": [],
   "source": [
    "folds = KFold(n_splits=5, shuffle=True, random_state=21)\n",
    "for train_index, test_index in folds.split(X, y):\n",
    "    X_train, X_test = X.iloc[train_index], X.iloc[test_index]\n",
    "    y_train, y_test = y.iloc[train_index], y.iloc[test_index]"
   ],
   "metadata": {
    "collapsed": false,
    "pycharm": {
     "name": "#%%\n"
    }
   }
  },
  {
   "cell_type": "code",
   "execution_count": 36,
   "outputs": [],
   "source": [
    "CV = CountVectorizer(stop_words = 'english')\n",
    "X_train_CV = CV.fit_transform(X_train)\n",
    "X_test_CV = CV.transform(X_test)"
   ],
   "metadata": {
    "collapsed": false,
    "pycharm": {
     "name": "#%%\n"
    }
   }
  },
  {
   "cell_type": "code",
   "execution_count": 37,
   "outputs": [
    {
     "data": {
      "text/plain": "ComplementNB()"
     },
     "execution_count": 37,
     "metadata": {},
     "output_type": "execute_result"
    }
   ],
   "source": [
    "cnb = ComplementNB()\n",
    "cnb.fit(X_train_CV, y_train)"
   ],
   "metadata": {
    "collapsed": false,
    "pycharm": {
     "name": "#%%\n"
    }
   }
  },
  {
   "cell_type": "code",
   "execution_count": 38,
   "outputs": [
    {
     "name": "stdout",
     "output_type": "stream",
     "text": [
      "Résultats Complement Naive Bayes données d'entraînement : 0.8898468311473906\n",
      "Résultats Complement Naive Bayes données test : 0.8539449541284404\n"
     ]
    }
   ],
   "source": [
    "print('Résultats Complement Naive Bayes données d\\'entraînement :', cnb.score(X_train_CV, y_train))\n",
    "print('Résultats Complement Naive Bayes données test :', cnb.score(X_test_CV, y_test))"
   ],
   "metadata": {
    "collapsed": false,
    "pycharm": {
     "name": "#%%\n"
    }
   }
  },
  {
   "cell_type": "code",
   "execution_count": 39,
   "outputs": [
    {
     "name": "stdout",
     "output_type": "stream",
     "text": [
      "              precision    recall  f1-score   support\n",
      "\n",
      "           0       0.77      0.76      0.77       858\n",
      "           1       0.89      0.90      0.89      1867\n",
      "\n",
      "    accuracy                           0.85      2725\n",
      "   macro avg       0.83      0.83      0.83      2725\n",
      "weighted avg       0.85      0.85      0.85      2725\n",
      "\n"
     ]
    }
   ],
   "source": [
    "predicted_result = cnb.predict(X_test_CV)\n",
    "print(classification_report(y_test, predicted_result))"
   ],
   "metadata": {
    "collapsed": false,
    "pycharm": {
     "name": "#%%\n"
    }
   }
  },
  {
   "cell_type": "markdown",
   "source": [
    "#### Interprétation des résultats\n",
    "\n",
    "Réduire le nombre de classes augmente la précision.\n",
    "Le modèle est plus performant sur la classe positive qui compte 3 à 4 fois plus de données."
   ],
   "metadata": {
    "collapsed": false,
    "pycharm": {
     "name": "#%% md\n"
    }
   }
  },
  {
   "cell_type": "markdown",
   "source": [
    "### Modèle 4 avec GridSearch"
   ],
   "metadata": {
    "collapsed": false,
    "pycharm": {
     "name": "#%% md\n"
    }
   }
  },
  {
   "cell_type": "code",
   "execution_count": 40,
   "outputs": [],
   "source": [
    "pipeline = Pipeline(\n",
    "    [\n",
    "        (\"vect\", CountVectorizer()),\n",
    "        (\"tfidf\", TfidfTransformer()),\n",
    "        (\"clf\", SGDClassifier()),\n",
    "    ]\n",
    ")\n",
    "\n",
    "# uncommenting more parameters will give better exploring power but will\n",
    "# increase processing time in a combinatorial way\n",
    "parameters = {\n",
    "    \"vect__max_df\": (0.5, 0.75, 1.0),\n",
    "    # 'vect__max_features': (None, 5000, 10000, 50000),\n",
    "    \"vect__ngram_range\": ((1, 1), (1, 2)),  # unigrams or bigrams\n",
    "    # 'tfidf__use_idf': (True, False),\n",
    "    # 'tfidf__norm': ('l1', 'l2'),\n",
    "    \"clf__max_iter\": (20,),\n",
    "    \"clf__alpha\": (0.00001, 0.000001),\n",
    "    \"clf__penalty\": (\"l2\", \"elasticnet\"),\n",
    "    # 'clf__max_iter': (10, 50, 80),\n",
    "}"
   ],
   "metadata": {
    "collapsed": false,
    "pycharm": {
     "name": "#%%\n"
    }
   }
  },
  {
   "cell_type": "code",
   "execution_count": 41,
   "outputs": [
    {
     "name": "stdout",
     "output_type": "stream",
     "text": [
      "Performing grid search...\n",
      "pipeline: ['vect', 'tfidf', 'clf']\n",
      "parameters:\n",
      "{'clf__alpha': (1e-05, 1e-06),\n",
      " 'clf__max_iter': (20,),\n",
      " 'clf__penalty': ('l2', 'elasticnet'),\n",
      " 'vect__max_df': (0.5, 0.75, 1.0),\n",
      " 'vect__ngram_range': ((1, 1), (1, 2))}\n",
      "Fitting 5 folds for each of 24 candidates, totalling 120 fits\n",
      "done in 74.534s\n",
      "\n",
      "Best score: 0.873\n",
      "Best parameters set:\n",
      "\tclf__alpha: 1e-05\n",
      "\tclf__max_iter: 20\n",
      "\tclf__penalty: 'l2'\n",
      "\tvect__max_df: 0.75\n",
      "\tvect__ngram_range: (1, 2)\n"
     ]
    }
   ],
   "source": [
    "# find the best parameters for both the feature extraction and the\n",
    "# classifier\n",
    "grid_search = GridSearchCV(pipeline, parameters, n_jobs=-1, verbose=1)\n",
    "\n",
    "print(\"Performing grid search...\")\n",
    "print(\"pipeline:\", [name for name, _ in pipeline.steps])\n",
    "print(\"parameters:\")\n",
    "pprint(parameters)\n",
    "\n",
    "t0 = time()\n",
    "grid_search.fit(X, y)\n",
    "\n",
    "print(\"done in %0.3fs\" % (time() - t0))\n",
    "print()\n",
    "\n",
    "print(\"Best score: %0.3f\" % grid_search.best_score_)\n",
    "print(\"Best parameters set:\")\n",
    "best_parameters = grid_search.best_estimator_.get_params()\n",
    "for param_name in sorted(parameters.keys()):\n",
    "    print(\"\\t%s: %r\" % (param_name, best_parameters[param_name]))"
   ],
   "metadata": {
    "collapsed": false,
    "pycharm": {
     "name": "#%%\n"
    }
   }
  },
  {
   "cell_type": "markdown",
   "source": [
    "### Modèle 5 avec TextBlob"
   ],
   "metadata": {
    "collapsed": false,
    "pycharm": {
     "name": "#%% md\n"
    }
   }
  },
  {
   "cell_type": "code",
   "execution_count": 42,
   "outputs": [
    {
     "name": "stderr",
     "output_type": "stream",
     "text": [
      "/var/folders/m_/2w2qlxsn13s9qyf11rtgzkkr0000gn/T/ipykernel_83873/3607210847.py:1: SettingWithCopyWarning: \n",
      "A value is trying to be set on a copy of a slice from a DataFrame.\n",
      "Try using .loc[row_indexer,col_indexer] = value instead\n",
      "\n",
      "See the caveats in the documentation: https://pandas.pydata.org/pandas-docs/stable/user_guide/indexing.html#returning-a-view-versus-a-copy\n",
      "  df['polarity'] = df['processed_review'].apply(lambda x: TextBlob(x).sentiment[0])\n"
     ]
    }
   ],
   "source": [
    "df['polarity'] = df['processed_review'].apply(lambda x: TextBlob(x).sentiment[0])"
   ],
   "metadata": {
    "collapsed": false,
    "pycharm": {
     "name": "#%%\n"
    }
   }
  },
  {
   "cell_type": "code",
   "execution_count": 43,
   "outputs": [
    {
     "data": {
      "text/plain": "       Rating Year_Month     Reviewer_Location  \\\n0           5     2019-3  United Arab Emirates   \n1           4     2018-6        United Kingdom   \n2           5     2019-4        United Kingdom   \n3           4     2019-4             Australia   \n4           5    missing                France   \n...       ...        ...                   ...   \n13625       5    missing        United Kingdom   \n13626       5    missing                Canada   \n13627       5    missing          South Africa   \n13628       4    missing         United States   \n13629       4    missing        United Kingdom   \n\n                                             Review_Text  Review_Length  \\\n0      We've been to Disneyland Hongkong and Tokyo, s...             91   \n1      I went to Disneyland Paris in April 2018 on Ea...            176   \n2      What a fantastic place, the queues were decent...             58   \n3      We didn't realise it was school holidays when ...            148   \n4      A Trip to Disney makes you all warm and fuzzy ...            133   \n...                                                  ...            ...   \n13625  i went to disneyland paris in july 03 and thou...            173   \n13626  2 adults and 1 child of 11 visited Disneyland ...            191   \n13627  My eleven year old daughter and myself went to...            109   \n13628  This hotel, part of the Disneyland Paris compl...            112   \n13629  I went to the Disneyparis resort, in 1996, wit...            179   \n\n                                        processed_review  \\\n0      far one best looking forward visit biggest one...   \n1      went weekend know say cant choose date loved m...   \n2      fantastic place queue decent best time year ap...   \n3      realise school holiday went consequently extre...   \n4      trip make warm fuzzy actual kid big one make f...   \n...                                                  ...   \n13625  went thought brilliant visited hotel stayed ba...   \n13626  adult child visited beginning absolute fantast...   \n13627  eleven year old daughter went visit son decide...   \n13628  hotel part complex wonderful place family sinc...   \n13629  went resort small child minute enter transport...   \n\n       Review_Length_preprocessed  diff  polarity  \n0                              39   -52  0.287500  \n1                              68  -108  0.468750  \n2                              24   -34  0.135185  \n3                              71   -77  0.138026  \n4                              58   -75  0.243750  \n...                           ...   ...       ...  \n13625                          68  -105  0.252778  \n13626                          70  -121  0.161053  \n13627                          43   -66  0.212500  \n13628                          54   -58  0.274603  \n13629                          76  -103  0.247381  \n\n[11976 rows x 9 columns]",
      "text/html": "<div>\n<style scoped>\n    .dataframe tbody tr th:only-of-type {\n        vertical-align: middle;\n    }\n\n    .dataframe tbody tr th {\n        vertical-align: top;\n    }\n\n    .dataframe thead th {\n        text-align: right;\n    }\n</style>\n<table border=\"1\" class=\"dataframe\">\n  <thead>\n    <tr style=\"text-align: right;\">\n      <th></th>\n      <th>Rating</th>\n      <th>Year_Month</th>\n      <th>Reviewer_Location</th>\n      <th>Review_Text</th>\n      <th>Review_Length</th>\n      <th>processed_review</th>\n      <th>Review_Length_preprocessed</th>\n      <th>diff</th>\n      <th>polarity</th>\n    </tr>\n  </thead>\n  <tbody>\n    <tr>\n      <th>0</th>\n      <td>5</td>\n      <td>2019-3</td>\n      <td>United Arab Emirates</td>\n      <td>We've been to Disneyland Hongkong and Tokyo, s...</td>\n      <td>91</td>\n      <td>far one best looking forward visit biggest one...</td>\n      <td>39</td>\n      <td>-52</td>\n      <td>0.287500</td>\n    </tr>\n    <tr>\n      <th>1</th>\n      <td>4</td>\n      <td>2018-6</td>\n      <td>United Kingdom</td>\n      <td>I went to Disneyland Paris in April 2018 on Ea...</td>\n      <td>176</td>\n      <td>went weekend know say cant choose date loved m...</td>\n      <td>68</td>\n      <td>-108</td>\n      <td>0.468750</td>\n    </tr>\n    <tr>\n      <th>2</th>\n      <td>5</td>\n      <td>2019-4</td>\n      <td>United Kingdom</td>\n      <td>What a fantastic place, the queues were decent...</td>\n      <td>58</td>\n      <td>fantastic place queue decent best time year ap...</td>\n      <td>24</td>\n      <td>-34</td>\n      <td>0.135185</td>\n    </tr>\n    <tr>\n      <th>3</th>\n      <td>4</td>\n      <td>2019-4</td>\n      <td>Australia</td>\n      <td>We didn't realise it was school holidays when ...</td>\n      <td>148</td>\n      <td>realise school holiday went consequently extre...</td>\n      <td>71</td>\n      <td>-77</td>\n      <td>0.138026</td>\n    </tr>\n    <tr>\n      <th>4</th>\n      <td>5</td>\n      <td>missing</td>\n      <td>France</td>\n      <td>A Trip to Disney makes you all warm and fuzzy ...</td>\n      <td>133</td>\n      <td>trip make warm fuzzy actual kid big one make f...</td>\n      <td>58</td>\n      <td>-75</td>\n      <td>0.243750</td>\n    </tr>\n    <tr>\n      <th>...</th>\n      <td>...</td>\n      <td>...</td>\n      <td>...</td>\n      <td>...</td>\n      <td>...</td>\n      <td>...</td>\n      <td>...</td>\n      <td>...</td>\n      <td>...</td>\n    </tr>\n    <tr>\n      <th>13625</th>\n      <td>5</td>\n      <td>missing</td>\n      <td>United Kingdom</td>\n      <td>i went to disneyland paris in july 03 and thou...</td>\n      <td>173</td>\n      <td>went thought brilliant visited hotel stayed ba...</td>\n      <td>68</td>\n      <td>-105</td>\n      <td>0.252778</td>\n    </tr>\n    <tr>\n      <th>13626</th>\n      <td>5</td>\n      <td>missing</td>\n      <td>Canada</td>\n      <td>2 adults and 1 child of 11 visited Disneyland ...</td>\n      <td>191</td>\n      <td>adult child visited beginning absolute fantast...</td>\n      <td>70</td>\n      <td>-121</td>\n      <td>0.161053</td>\n    </tr>\n    <tr>\n      <th>13627</th>\n      <td>5</td>\n      <td>missing</td>\n      <td>South Africa</td>\n      <td>My eleven year old daughter and myself went to...</td>\n      <td>109</td>\n      <td>eleven year old daughter went visit son decide...</td>\n      <td>43</td>\n      <td>-66</td>\n      <td>0.212500</td>\n    </tr>\n    <tr>\n      <th>13628</th>\n      <td>4</td>\n      <td>missing</td>\n      <td>United States</td>\n      <td>This hotel, part of the Disneyland Paris compl...</td>\n      <td>112</td>\n      <td>hotel part complex wonderful place family sinc...</td>\n      <td>54</td>\n      <td>-58</td>\n      <td>0.274603</td>\n    </tr>\n    <tr>\n      <th>13629</th>\n      <td>4</td>\n      <td>missing</td>\n      <td>United Kingdom</td>\n      <td>I went to the Disneyparis resort, in 1996, wit...</td>\n      <td>179</td>\n      <td>went resort small child minute enter transport...</td>\n      <td>76</td>\n      <td>-103</td>\n      <td>0.247381</td>\n    </tr>\n  </tbody>\n</table>\n<p>11976 rows × 9 columns</p>\n</div>"
     },
     "execution_count": 43,
     "metadata": {},
     "output_type": "execute_result"
    }
   ],
   "source": [
    "df[df['polarity'] > 0]"
   ],
   "metadata": {
    "collapsed": false,
    "pycharm": {
     "name": "#%%\n"
    }
   }
  },
  {
   "cell_type": "code",
   "execution_count": 44,
   "outputs": [
    {
     "data": {
      "text/plain": "       Rating Year_Month Reviewer_Location  \\\n8           2     2019-4            Greece   \n12          5     2019-4             Malta   \n15          5     2019-4      Saudi Arabia   \n24          5    2018-12            Israel   \n27          1     2019-4    United Kingdom   \n...       ...        ...               ...   \n13576       2    missing    United Kingdom   \n13607       2    missing    United Kingdom   \n13609       1    missing     United States   \n13610       2    missing       Switzerland   \n13621       2    missing     United States   \n\n                                             Review_Text  Review_Length  \\\n8      We booked tickets on line for Disneyland, this...            216   \n12     This is a place everyone deserves to go at lea...             62   \n15     I had been there twice with my  grandson, I wi...             36   \n24     we have traveled during December. the day was ...             51   \n27     Its a shame this park carry the name Disney......            178   \n...                                                  ...            ...   \n13576  Not what I had expected having visited the 2 A...            133   \n13607  We've just come back from a couple of days at ...            186   \n13609  Having spent three days at the Disneyland Pari...            160   \n13610  The parades were great, but the bathrooms were...             27   \n13621  I would not recommend going if you have been t...             46   \n\n                                        processed_review  \\\n8      booked ticket line something recommend line al...   \n12     place everyone deserves least life time enter ...   \n15     twice grandson never give grandson never good ...   \n24     traveled day bit rainy crowded went dining big...   \n27     shame park carry name build place year back co...   \n...                                                  ...   \n13576  expected visited theme park found village smel...   \n13607  come back couple day agree previous review wri...   \n13609  spent three day resort nothing praise park ent...   \n13610  parade great bathroom filthy could trying hard...   \n13621  would recommend going resort one fall short ch...   \n\n       Review_Length_preprocessed  diff  polarity  \n8                              87  -129 -0.035870  \n12                             27   -35 -0.111111  \n15                             13   -23 -0.216667  \n24                             20   -31 -0.200000  \n27                             81   -97 -0.030303  \n...                           ...   ...       ...  \n13576                          52   -81 -0.029365  \n13607                          63  -123 -0.037879  \n13609                          71   -89 -0.065000  \n13610                          12   -15 -0.135417  \n13621                          19   -27 -0.133333  \n\n[1574 rows x 9 columns]",
      "text/html": "<div>\n<style scoped>\n    .dataframe tbody tr th:only-of-type {\n        vertical-align: middle;\n    }\n\n    .dataframe tbody tr th {\n        vertical-align: top;\n    }\n\n    .dataframe thead th {\n        text-align: right;\n    }\n</style>\n<table border=\"1\" class=\"dataframe\">\n  <thead>\n    <tr style=\"text-align: right;\">\n      <th></th>\n      <th>Rating</th>\n      <th>Year_Month</th>\n      <th>Reviewer_Location</th>\n      <th>Review_Text</th>\n      <th>Review_Length</th>\n      <th>processed_review</th>\n      <th>Review_Length_preprocessed</th>\n      <th>diff</th>\n      <th>polarity</th>\n    </tr>\n  </thead>\n  <tbody>\n    <tr>\n      <th>8</th>\n      <td>2</td>\n      <td>2019-4</td>\n      <td>Greece</td>\n      <td>We booked tickets on line for Disneyland, this...</td>\n      <td>216</td>\n      <td>booked ticket line something recommend line al...</td>\n      <td>87</td>\n      <td>-129</td>\n      <td>-0.035870</td>\n    </tr>\n    <tr>\n      <th>12</th>\n      <td>5</td>\n      <td>2019-4</td>\n      <td>Malta</td>\n      <td>This is a place everyone deserves to go at lea...</td>\n      <td>62</td>\n      <td>place everyone deserves least life time enter ...</td>\n      <td>27</td>\n      <td>-35</td>\n      <td>-0.111111</td>\n    </tr>\n    <tr>\n      <th>15</th>\n      <td>5</td>\n      <td>2019-4</td>\n      <td>Saudi Arabia</td>\n      <td>I had been there twice with my  grandson, I wi...</td>\n      <td>36</td>\n      <td>twice grandson never give grandson never good ...</td>\n      <td>13</td>\n      <td>-23</td>\n      <td>-0.216667</td>\n    </tr>\n    <tr>\n      <th>24</th>\n      <td>5</td>\n      <td>2018-12</td>\n      <td>Israel</td>\n      <td>we have traveled during December. the day was ...</td>\n      <td>51</td>\n      <td>traveled day bit rainy crowded went dining big...</td>\n      <td>20</td>\n      <td>-31</td>\n      <td>-0.200000</td>\n    </tr>\n    <tr>\n      <th>27</th>\n      <td>1</td>\n      <td>2019-4</td>\n      <td>United Kingdom</td>\n      <td>Its a shame this park carry the name Disney......</td>\n      <td>178</td>\n      <td>shame park carry name build place year back co...</td>\n      <td>81</td>\n      <td>-97</td>\n      <td>-0.030303</td>\n    </tr>\n    <tr>\n      <th>...</th>\n      <td>...</td>\n      <td>...</td>\n      <td>...</td>\n      <td>...</td>\n      <td>...</td>\n      <td>...</td>\n      <td>...</td>\n      <td>...</td>\n      <td>...</td>\n    </tr>\n    <tr>\n      <th>13576</th>\n      <td>2</td>\n      <td>missing</td>\n      <td>United Kingdom</td>\n      <td>Not what I had expected having visited the 2 A...</td>\n      <td>133</td>\n      <td>expected visited theme park found village smel...</td>\n      <td>52</td>\n      <td>-81</td>\n      <td>-0.029365</td>\n    </tr>\n    <tr>\n      <th>13607</th>\n      <td>2</td>\n      <td>missing</td>\n      <td>United Kingdom</td>\n      <td>We've just come back from a couple of days at ...</td>\n      <td>186</td>\n      <td>come back couple day agree previous review wri...</td>\n      <td>63</td>\n      <td>-123</td>\n      <td>-0.037879</td>\n    </tr>\n    <tr>\n      <th>13609</th>\n      <td>1</td>\n      <td>missing</td>\n      <td>United States</td>\n      <td>Having spent three days at the Disneyland Pari...</td>\n      <td>160</td>\n      <td>spent three day resort nothing praise park ent...</td>\n      <td>71</td>\n      <td>-89</td>\n      <td>-0.065000</td>\n    </tr>\n    <tr>\n      <th>13610</th>\n      <td>2</td>\n      <td>missing</td>\n      <td>Switzerland</td>\n      <td>The parades were great, but the bathrooms were...</td>\n      <td>27</td>\n      <td>parade great bathroom filthy could trying hard...</td>\n      <td>12</td>\n      <td>-15</td>\n      <td>-0.135417</td>\n    </tr>\n    <tr>\n      <th>13621</th>\n      <td>2</td>\n      <td>missing</td>\n      <td>United States</td>\n      <td>I would not recommend going if you have been t...</td>\n      <td>46</td>\n      <td>would recommend going resort one fall short ch...</td>\n      <td>19</td>\n      <td>-27</td>\n      <td>-0.133333</td>\n    </tr>\n  </tbody>\n</table>\n<p>1574 rows × 9 columns</p>\n</div>"
     },
     "execution_count": 44,
     "metadata": {},
     "output_type": "execute_result"
    }
   ],
   "source": [
    "df[df['polarity'] < 0]"
   ],
   "metadata": {
    "collapsed": false,
    "pycharm": {
     "name": "#%%\n"
    }
   }
  },
  {
   "cell_type": "code",
   "execution_count": 45,
   "outputs": [
    {
     "data": {
      "text/plain": "1    405\n3    393\n2    336\n4    245\n5    195\nName: Rating, dtype: int64"
     },
     "execution_count": 45,
     "metadata": {},
     "output_type": "execute_result"
    }
   ],
   "source": [
    "df[df['polarity'] < 0]['Rating'].value_counts()"
   ],
   "metadata": {
    "collapsed": false,
    "pycharm": {
     "name": "#%%\n"
    }
   }
  },
  {
   "cell_type": "code",
   "execution_count": 46,
   "outputs": [
    {
     "data": {
      "text/plain": "5    5876\n4    3299\n3    1679\n2     704\n1     418\nName: Rating, dtype: int64"
     },
     "execution_count": 46,
     "metadata": {},
     "output_type": "execute_result"
    }
   ],
   "source": [
    "df[df['polarity'] > 0]['Rating'].value_counts()"
   ],
   "metadata": {
    "collapsed": false,
    "pycharm": {
     "name": "#%%\n"
    }
   }
  }
 ],
 "metadata": {
  "kernelspec": {
   "display_name": "Python 3",
   "language": "python",
   "name": "python3"
  },
  "language_info": {
   "codemirror_mode": {
    "name": "ipython",
    "version": 2
   },
   "file_extension": ".py",
   "mimetype": "text/x-python",
   "name": "python",
   "nbconvert_exporter": "python",
   "pygments_lexer": "ipython2",
   "version": "2.7.6"
  }
 },
 "nbformat": 4,
 "nbformat_minor": 0
}