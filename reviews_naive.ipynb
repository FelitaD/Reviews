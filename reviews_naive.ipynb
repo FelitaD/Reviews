{
 "cells": [
  {
   "cell_type": "markdown",
   "metadata": {
    "collapsed": true,
    "pycharm": {
     "name": "#%% md\n"
    }
   },
   "source": [
    "# Predict reviews rating with Multinomial Naive Bayes"
   ]
  },
  {
   "cell_type": "code",
   "execution_count": 1,
   "outputs": [],
   "source": [
    "import pandas as pd\n",
    "import nltk\n",
    "from nltk.corpus import stopwords\n",
    "from textblob import Word, TextBlob"
   ],
   "metadata": {
    "collapsed": false,
    "pycharm": {
     "name": "#%%\n"
    }
   }
  },
  {
   "cell_type": "code",
   "execution_count": 2,
   "outputs": [],
   "source": [
    "df = pd.read_csv('reviews.csv')"
   ],
   "metadata": {
    "collapsed": false,
    "pycharm": {
     "name": "#%%\n"
    }
   }
  },
  {
   "cell_type": "code",
   "execution_count": 3,
   "outputs": [
    {
     "name": "stderr",
     "output_type": "stream",
     "text": [
      "[nltk_data] Downloading package stopwords to /Users/donor/nltk_data...\n",
      "[nltk_data]   Package stopwords is already up-to-date!\n",
      "[nltk_data] Downloading package wordnet to /Users/donor/nltk_data...\n",
      "[nltk_data]   Package wordnet is already up-to-date!\n",
      "[nltk_data] Downloading package omw-1.4 to /Users/donor/nltk_data...\n",
      "[nltk_data]   Package omw-1.4 is already up-to-date!\n"
     ]
    },
    {
     "data": {
      "text/plain": "True"
     },
     "execution_count": 3,
     "metadata": {},
     "output_type": "execute_result"
    }
   ],
   "source": [
    "nltk.download('stopwords')\n",
    "nltk.download('wordnet')\n",
    "stop_words = stopwords.words('english')\n",
    "custom_stop_words = ['Disney', 'Disneyland', 'Disneyworld']\n",
    "nltk.download('omw-1.4')"
   ],
   "metadata": {
    "collapsed": false,
    "pycharm": {
     "name": "#%%\n"
    }
   }
  },
  {
   "cell_type": "code",
   "execution_count": 4,
   "outputs": [],
   "source": [
    "def preprocess_reviews(review, custom_stopwords):\n",
    "    preprocessed_review = review\n",
    "    preprocessed_review.replace('[^\\w\\s]', '') # remove whitespace at the beginning of the review\n",
    "    preprocessed_review = ' '.join(word for word in preprocessed_review.split() if word not in stop_words)\n",
    "    preprocessed_review = ' '.join(Word(word).lemmatize() for word in preprocessed_review.split())\n",
    "    return preprocessed_review"
   ],
   "metadata": {
    "collapsed": false,
    "pycharm": {
     "name": "#%%\n"
    }
   }
  },
  {
   "cell_type": "code",
   "execution_count": 5,
   "outputs": [
    {
     "data": {
      "text/plain": "       Rating Year_Month     Reviewer_Location  \\\n0           5     2019-3  United Arab Emirates   \n1           4     2018-6        United Kingdom   \n2           5     2019-4        United Kingdom   \n3           4     2019-4             Australia   \n4           5    missing                France   \n...       ...        ...                   ...   \n13625       5    missing        United Kingdom   \n13626       5    missing                Canada   \n13627       5    missing          South Africa   \n13628       4    missing         United States   \n13629       4    missing        United Kingdom   \n\n                                             Review_Text  \\\n0      We've been to Disneyland Hongkong and Tokyo, s...   \n1      I went to Disneyland Paris in April 2018 on Ea...   \n2      What a fantastic place, the queues were decent...   \n3      We didn't realise it was school holidays when ...   \n4      A Trip to Disney makes you all warm and fuzzy ...   \n...                                                  ...   \n13625  i went to disneyland paris in july 03 and thou...   \n13626  2 adults and 1 child of 11 visited Disneyland ...   \n13627  My eleven year old daughter and myself went to...   \n13628  This hotel, part of the Disneyland Paris compl...   \n13629  I went to the Disneyparis resort, in 1996, wit...   \n\n                                        processed_review  \n0      We've Disneyland Hongkong Tokyo, far one best....  \n1      I went Disneyland Paris April 2018 Easter week...  \n2      What fantastic place, queue decent best time y...  \n3      We realise school holiday went, consequently e...  \n4      A Trip Disney make warm fuzzy actual kid again...  \n...                                                  ...  \n13625  went disneyland paris july 03 thought brillian...  \n13626  2 adult 1 child 11 visited Disneyland Paris be...  \n13627  My eleven year old daughter went visit son Lon...  \n13628  This hotel, part Disneyland Paris complex, won...  \n13629  I went Disneyparis resort, 1996, small child. ...  \n\n[13630 rows x 5 columns]",
      "text/html": "<div>\n<style scoped>\n    .dataframe tbody tr th:only-of-type {\n        vertical-align: middle;\n    }\n\n    .dataframe tbody tr th {\n        vertical-align: top;\n    }\n\n    .dataframe thead th {\n        text-align: right;\n    }\n</style>\n<table border=\"1\" class=\"dataframe\">\n  <thead>\n    <tr style=\"text-align: right;\">\n      <th></th>\n      <th>Rating</th>\n      <th>Year_Month</th>\n      <th>Reviewer_Location</th>\n      <th>Review_Text</th>\n      <th>processed_review</th>\n    </tr>\n  </thead>\n  <tbody>\n    <tr>\n      <th>0</th>\n      <td>5</td>\n      <td>2019-3</td>\n      <td>United Arab Emirates</td>\n      <td>We've been to Disneyland Hongkong and Tokyo, s...</td>\n      <td>We've Disneyland Hongkong Tokyo, far one best....</td>\n    </tr>\n    <tr>\n      <th>1</th>\n      <td>4</td>\n      <td>2018-6</td>\n      <td>United Kingdom</td>\n      <td>I went to Disneyland Paris in April 2018 on Ea...</td>\n      <td>I went Disneyland Paris April 2018 Easter week...</td>\n    </tr>\n    <tr>\n      <th>2</th>\n      <td>5</td>\n      <td>2019-4</td>\n      <td>United Kingdom</td>\n      <td>What a fantastic place, the queues were decent...</td>\n      <td>What fantastic place, queue decent best time y...</td>\n    </tr>\n    <tr>\n      <th>3</th>\n      <td>4</td>\n      <td>2019-4</td>\n      <td>Australia</td>\n      <td>We didn't realise it was school holidays when ...</td>\n      <td>We realise school holiday went, consequently e...</td>\n    </tr>\n    <tr>\n      <th>4</th>\n      <td>5</td>\n      <td>missing</td>\n      <td>France</td>\n      <td>A Trip to Disney makes you all warm and fuzzy ...</td>\n      <td>A Trip Disney make warm fuzzy actual kid again...</td>\n    </tr>\n    <tr>\n      <th>...</th>\n      <td>...</td>\n      <td>...</td>\n      <td>...</td>\n      <td>...</td>\n      <td>...</td>\n    </tr>\n    <tr>\n      <th>13625</th>\n      <td>5</td>\n      <td>missing</td>\n      <td>United Kingdom</td>\n      <td>i went to disneyland paris in july 03 and thou...</td>\n      <td>went disneyland paris july 03 thought brillian...</td>\n    </tr>\n    <tr>\n      <th>13626</th>\n      <td>5</td>\n      <td>missing</td>\n      <td>Canada</td>\n      <td>2 adults and 1 child of 11 visited Disneyland ...</td>\n      <td>2 adult 1 child 11 visited Disneyland Paris be...</td>\n    </tr>\n    <tr>\n      <th>13627</th>\n      <td>5</td>\n      <td>missing</td>\n      <td>South Africa</td>\n      <td>My eleven year old daughter and myself went to...</td>\n      <td>My eleven year old daughter went visit son Lon...</td>\n    </tr>\n    <tr>\n      <th>13628</th>\n      <td>4</td>\n      <td>missing</td>\n      <td>United States</td>\n      <td>This hotel, part of the Disneyland Paris compl...</td>\n      <td>This hotel, part Disneyland Paris complex, won...</td>\n    </tr>\n    <tr>\n      <th>13629</th>\n      <td>4</td>\n      <td>missing</td>\n      <td>United Kingdom</td>\n      <td>I went to the Disneyparis resort, in 1996, wit...</td>\n      <td>I went Disneyparis resort, 1996, small child. ...</td>\n    </tr>\n  </tbody>\n</table>\n<p>13630 rows × 5 columns</p>\n</div>"
     },
     "execution_count": 5,
     "metadata": {},
     "output_type": "execute_result"
    }
   ],
   "source": [
    "df['processed_review'] = df['Review_Text'].apply(lambda x: preprocess_reviews(x, custom_stop_words))\n",
    "df"
   ],
   "metadata": {
    "collapsed": false,
    "pycharm": {
     "name": "#%%\n"
    }
   }
  },
  {
   "cell_type": "code",
   "execution_count": 6,
   "outputs": [],
   "source": [
    "X = df['processed_review']\n",
    "y = df['Rating']"
   ],
   "metadata": {
    "collapsed": false,
    "pycharm": {
     "name": "#%%\n"
    }
   }
  },
  {
   "cell_type": "code",
   "execution_count": 7,
   "outputs": [],
   "source": [
    "from sklearn.model_selection import train_test_split\n",
    "X_train, X_test, y_train, y_test = train_test_split(X, y, test_size=0.3)"
   ],
   "metadata": {
    "collapsed": false,
    "pycharm": {
     "name": "#%%\n"
    }
   }
  },
  {
   "cell_type": "code",
   "execution_count": 8,
   "outputs": [],
   "source": [
    "from sklearn.feature_extraction.text import CountVectorizer"
   ],
   "metadata": {
    "collapsed": false,
    "pycharm": {
     "name": "#%%\n"
    }
   }
  },
  {
   "cell_type": "code",
   "execution_count": 9,
   "outputs": [],
   "source": [
    "vect = CountVectorizer(stop_words = 'english')\n",
    "X_train_matrix = vect.fit_transform(X_train)"
   ],
   "metadata": {
    "collapsed": false,
    "pycharm": {
     "name": "#%%\n"
    }
   }
  },
  {
   "cell_type": "code",
   "execution_count": 10,
   "outputs": [
    {
     "name": "stdout",
     "output_type": "stream",
     "text": [
      "0.7585158788386962\n",
      "0.5385179750550256\n"
     ]
    }
   ],
   "source": [
    "from sklearn.naive_bayes import MultinomialNB\n",
    "\n",
    "clf=MultinomialNB()\n",
    "clf.fit(X_train_matrix, y_train)\n",
    "print(clf.score(X_train_matrix, y_train))\n",
    "\n",
    "X_test_matrix = vect.transform(X_test)\n",
    "print (clf.score(X_test_matrix, y_test))"
   ],
   "metadata": {
    "collapsed": false,
    "pycharm": {
     "name": "#%%\n"
    }
   }
  },
  {
   "cell_type": "code",
   "execution_count": 11,
   "outputs": [
    {
     "name": "stdout",
     "output_type": "stream",
     "text": [
      "              precision    recall  f1-score   support\n",
      "\n",
      "           1       0.66      0.13      0.21       247\n",
      "           2       0.32      0.06      0.10       311\n",
      "           3       0.36      0.37      0.37       627\n",
      "           4       0.35      0.31      0.33      1065\n",
      "           5       0.66      0.86      0.75      1839\n",
      "\n",
      "    accuracy                           0.54      4089\n",
      "   macro avg       0.47      0.35      0.35      4089\n",
      "weighted avg       0.51      0.54      0.50      4089\n",
      "\n"
     ]
    }
   ],
   "source": [
    "predicted_result=clf.predict(X_test_matrix)\n",
    "from sklearn.metrics import classification_report\n",
    "print(classification_report(y_test,predicted_result))"
   ],
   "metadata": {
    "collapsed": false,
    "pycharm": {
     "name": "#%%\n"
    }
   }
  },
  {
   "cell_type": "code",
   "execution_count": 12,
   "outputs": [
    {
     "data": {
      "text/plain": "(9541, 22894)"
     },
     "execution_count": 12,
     "metadata": {},
     "output_type": "execute_result"
    }
   ],
   "source": [
    "from sklearn.feature_extraction.text import TfidfVectorizer\n",
    "vectorizer = TfidfVectorizer(stop_words = 'english')\n",
    "\n",
    "X_train_tfidf = vectorizer.fit_transform(X_train)\n",
    "X_train_tfidf.shape"
   ],
   "metadata": {
    "collapsed": false,
    "pycharm": {
     "name": "#%%\n"
    }
   }
  },
  {
   "cell_type": "code",
   "execution_count": 13,
   "outputs": [
    {
     "name": "stdout",
     "output_type": "stream",
     "text": [
      "0.4588617545330678\n",
      "0.44925409635607727\n"
     ]
    }
   ],
   "source": [
    "from sklearn.naive_bayes import MultinomialNB\n",
    "clf2=MultinomialNB()\n",
    "clf2.fit(X_train_tfidf, y_train)\n",
    "print(clf2.score(X_train_tfidf, y_train))\n",
    "X_test_tfidf = vectorizer.transform(X_test)\n",
    "print (clf2.score(X_test_tfidf, y_test))"
   ],
   "metadata": {
    "collapsed": false,
    "pycharm": {
     "name": "#%%\n"
    }
   }
  },
  {
   "cell_type": "code",
   "execution_count": 14,
   "outputs": [
    {
     "name": "stdout",
     "output_type": "stream",
     "text": [
      "              precision    recall  f1-score   support\n",
      "\n",
      "           1       0.00      0.00      0.00       247\n",
      "           2       0.00      0.00      0.00       311\n",
      "           3       0.00      0.00      0.00       627\n",
      "           4       0.03      0.00      0.00      1065\n",
      "           5       0.46      1.00      0.63      1839\n",
      "\n",
      "    accuracy                           0.45      4089\n",
      "   macro avg       0.10      0.20      0.13      4089\n",
      "weighted avg       0.21      0.45      0.28      4089\n",
      "\n"
     ]
    },
    {
     "name": "stderr",
     "output_type": "stream",
     "text": [
      "/Users/donor/PycharmProjects/de_job_market/venv/lib/python3.8/site-packages/sklearn/metrics/_classification.py:1318: UndefinedMetricWarning: Precision and F-score are ill-defined and being set to 0.0 in labels with no predicted samples. Use `zero_division` parameter to control this behavior.\n",
      "  _warn_prf(average, modifier, msg_start, len(result))\n",
      "/Users/donor/PycharmProjects/de_job_market/venv/lib/python3.8/site-packages/sklearn/metrics/_classification.py:1318: UndefinedMetricWarning: Precision and F-score are ill-defined and being set to 0.0 in labels with no predicted samples. Use `zero_division` parameter to control this behavior.\n",
      "  _warn_prf(average, modifier, msg_start, len(result))\n",
      "/Users/donor/PycharmProjects/de_job_market/venv/lib/python3.8/site-packages/sklearn/metrics/_classification.py:1318: UndefinedMetricWarning: Precision and F-score are ill-defined and being set to 0.0 in labels with no predicted samples. Use `zero_division` parameter to control this behavior.\n",
      "  _warn_prf(average, modifier, msg_start, len(result))\n"
     ]
    }
   ],
   "source": [
    "predicted_result_2=clf2.predict(X_test_tfidf)\n",
    "from sklearn.metrics import classification_report\n",
    "print(classification_report(y_test,predicted_result_2))"
   ],
   "metadata": {
    "collapsed": false,
    "pycharm": {
     "name": "#%%\n"
    }
   }
  },
  {
   "cell_type": "code",
   "execution_count": null,
   "outputs": [],
   "source": [],
   "metadata": {
    "collapsed": false,
    "pycharm": {
     "name": "#%%\n"
    }
   }
  }
 ],
 "metadata": {
  "kernelspec": {
   "display_name": "Python 3",
   "language": "python",
   "name": "python3"
  },
  "language_info": {
   "codemirror_mode": {
    "name": "ipython",
    "version": 2
   },
   "file_extension": ".py",
   "mimetype": "text/x-python",
   "name": "python",
   "nbconvert_exporter": "python",
   "pygments_lexer": "ipython2",
   "version": "2.7.6"
  }
 },
 "nbformat": 4,
 "nbformat_minor": 0
}