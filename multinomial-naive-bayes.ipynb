{
 "metadata": {
  "kernelspec": {
   "language": "python",
   "display_name": "Python 3",
   "name": "python3"
  },
  "language_info": {
   "name": "python",
   "version": "3.6.6",
   "mimetype": "text/x-python",
   "codemirror_mode": {
    "name": "ipython",
    "version": 3
   },
   "pygments_lexer": "ipython3",
   "nbconvert_exporter": "python",
   "file_extension": ".py"
  }
 },
 "nbformat_minor": 4,
 "nbformat": 4,
 "cells": [
  {
   "cell_type": "code",
   "source": [
    "import os\n",
    "for dirname, _, filenames in os.walk('/Users/donor/PycharmProjects/Reviews/tuto_data'):\n",
    "    for filename in filenames:\n",
    "        print(os.path.join(dirname, filename))\n"
   ],
   "metadata": {
    "_uuid": "8f2839f25d086af736a60e9eeb907d3b93b6e0e5",
    "_cell_guid": "b1076dfc-b9ad-4769-8c92-a6c4dae69d19",
    "execution": {
     "iopub.status.busy": "2022-02-10T13:14:13.405494Z",
     "iopub.execute_input": "2022-02-10T13:14:13.406208Z",
     "iopub.status.idle": "2022-02-10T13:14:13.417393Z",
     "shell.execute_reply.started": "2022-02-10T13:14:13.40613Z",
     "shell.execute_reply": "2022-02-10T13:14:13.416534Z"
    },
    "trusted": true
   },
   "execution_count": 24,
   "outputs": [
    {
     "name": "stdout",
     "output_type": "stream",
     "text": [
      "/Users/donor/PycharmProjects/Reviews/tuto_data/test.csv\n",
      "/Users/donor/PycharmProjects/Reviews/tuto_data/train.csv\n",
      "/Users/donor/PycharmProjects/Reviews/tuto_data/sample_submission.csv\n"
     ]
    }
   ]
  },
  {
   "cell_type": "code",
   "source": [
    "import numpy as np \n",
    "import pandas as pd"
   ],
   "metadata": {
    "_uuid": "d629ff2d2480ee46fbb7e2d37f6b5fab8052498a",
    "_cell_guid": "79c7e3d0-c299-4dcb-8224-4455121ee9b0",
    "execution": {
     "iopub.status.busy": "2022-02-10T13:14:13.419565Z",
     "iopub.execute_input": "2022-02-10T13:14:13.420401Z",
     "iopub.status.idle": "2022-02-10T13:14:13.709025Z",
     "shell.execute_reply.started": "2022-02-10T13:14:13.420337Z",
     "shell.execute_reply": "2022-02-10T13:14:13.707809Z"
    },
    "trusted": true
   },
   "execution_count": 25,
   "outputs": []
  },
  {
   "cell_type": "code",
   "source": [
    "#READING INPUT\n",
    "data = pd.read_csv(\"/Users/donor/PycharmProjects/Reviews/tuto_data/train.csv\")\n",
    "data.head()"
   ],
   "metadata": {
    "execution": {
     "iopub.status.busy": "2022-02-10T13:14:13.710391Z",
     "iopub.execute_input": "2022-02-10T13:14:13.710688Z",
     "iopub.status.idle": "2022-02-10T13:14:13.852404Z",
     "shell.execute_reply.started": "2022-02-10T13:14:13.710641Z",
     "shell.execute_reply": "2022-02-10T13:14:13.850152Z"
    },
    "trusted": true
   },
   "execution_count": 26,
   "outputs": [
    {
     "data": {
      "text/plain": "        id                                               text author\n0  id26305  This process, however, afforded me no means of...    EAP\n1  id17569  It never once occurred to me that the fumbling...    HPL\n2  id11008  In his left hand was a gold snuff box, from wh...    EAP\n3  id27763  How lovely is spring As we looked from Windsor...    MWS\n4  id12958  Finding nothing else, not even gold, the Super...    HPL",
      "text/html": "<div>\n<style scoped>\n    .dataframe tbody tr th:only-of-type {\n        vertical-align: middle;\n    }\n\n    .dataframe tbody tr th {\n        vertical-align: top;\n    }\n\n    .dataframe thead th {\n        text-align: right;\n    }\n</style>\n<table border=\"1\" class=\"dataframe\">\n  <thead>\n    <tr style=\"text-align: right;\">\n      <th></th>\n      <th>id</th>\n      <th>text</th>\n      <th>author</th>\n    </tr>\n  </thead>\n  <tbody>\n    <tr>\n      <th>0</th>\n      <td>id26305</td>\n      <td>This process, however, afforded me no means of...</td>\n      <td>EAP</td>\n    </tr>\n    <tr>\n      <th>1</th>\n      <td>id17569</td>\n      <td>It never once occurred to me that the fumbling...</td>\n      <td>HPL</td>\n    </tr>\n    <tr>\n      <th>2</th>\n      <td>id11008</td>\n      <td>In his left hand was a gold snuff box, from wh...</td>\n      <td>EAP</td>\n    </tr>\n    <tr>\n      <th>3</th>\n      <td>id27763</td>\n      <td>How lovely is spring As we looked from Windsor...</td>\n      <td>MWS</td>\n    </tr>\n    <tr>\n      <th>4</th>\n      <td>id12958</td>\n      <td>Finding nothing else, not even gold, the Super...</td>\n      <td>HPL</td>\n    </tr>\n  </tbody>\n</table>\n</div>"
     },
     "execution_count": 26,
     "metadata": {},
     "output_type": "execute_result"
    }
   ]
  },
  {
   "cell_type": "markdown",
   "source": [
    "we map \"EAP\" to 0 \"HPL\" to 1 and \"MWS\" to 2 as it will be more convenient for our classifier. \n",
    "In other words we are just telling our computer that if classifier predicts 0 for the text then it means that it is preicting \"EAP\", if 1 then it means that it is predicting \"HPL\", if 2 then it means that it is predicting \"MWS\"."
   ],
   "metadata": {}
  },
  {
   "cell_type": "code",
   "source": [
    "data['author_num'] = data[\"author\"].map({'EAP':0, 'HPL':1, 'MWS':2})\n",
    "data.head()"
   ],
   "metadata": {
    "execution": {
     "iopub.status.busy": "2022-02-10T13:14:13.853384Z",
     "iopub.status.idle": "2022-02-10T13:14:13.853809Z"
    },
    "trusted": true
   },
   "execution_count": 27,
   "outputs": [
    {
     "data": {
      "text/plain": "        id                                               text author  \\\n0  id26305  This process, however, afforded me no means of...    EAP   \n1  id17569  It never once occurred to me that the fumbling...    HPL   \n2  id11008  In his left hand was a gold snuff box, from wh...    EAP   \n3  id27763  How lovely is spring As we looked from Windsor...    MWS   \n4  id12958  Finding nothing else, not even gold, the Super...    HPL   \n\n   author_num  \n0           0  \n1           1  \n2           0  \n3           2  \n4           1  ",
      "text/html": "<div>\n<style scoped>\n    .dataframe tbody tr th:only-of-type {\n        vertical-align: middle;\n    }\n\n    .dataframe tbody tr th {\n        vertical-align: top;\n    }\n\n    .dataframe thead th {\n        text-align: right;\n    }\n</style>\n<table border=\"1\" class=\"dataframe\">\n  <thead>\n    <tr style=\"text-align: right;\">\n      <th></th>\n      <th>id</th>\n      <th>text</th>\n      <th>author</th>\n      <th>author_num</th>\n    </tr>\n  </thead>\n  <tbody>\n    <tr>\n      <th>0</th>\n      <td>id26305</td>\n      <td>This process, however, afforded me no means of...</td>\n      <td>EAP</td>\n      <td>0</td>\n    </tr>\n    <tr>\n      <th>1</th>\n      <td>id17569</td>\n      <td>It never once occurred to me that the fumbling...</td>\n      <td>HPL</td>\n      <td>1</td>\n    </tr>\n    <tr>\n      <th>2</th>\n      <td>id11008</td>\n      <td>In his left hand was a gold snuff box, from wh...</td>\n      <td>EAP</td>\n      <td>0</td>\n    </tr>\n    <tr>\n      <th>3</th>\n      <td>id27763</td>\n      <td>How lovely is spring As we looked from Windsor...</td>\n      <td>MWS</td>\n      <td>2</td>\n    </tr>\n    <tr>\n      <th>4</th>\n      <td>id12958</td>\n      <td>Finding nothing else, not even gold, the Super...</td>\n      <td>HPL</td>\n      <td>1</td>\n    </tr>\n  </tbody>\n</table>\n</div>"
     },
     "execution_count": 27,
     "metadata": {},
     "output_type": "execute_result"
    }
   ]
  },
  {
   "cell_type": "markdown",
   "source": [
    "## Define X and y"
   ],
   "metadata": {}
  },
  {
   "cell_type": "code",
   "source": [
    "X = data['text']\n",
    "y = data['author_num']"
   ],
   "metadata": {
    "execution": {
     "iopub.status.busy": "2022-02-10T13:14:13.855496Z",
     "iopub.status.idle": "2022-02-10T13:14:13.856175Z"
    },
    "trusted": true
   },
   "execution_count": 28,
   "outputs": []
  },
  {
   "cell_type": "markdown",
   "source": [
    "## Split training and test data"
   ],
   "metadata": {}
  },
  {
   "cell_type": "code",
   "source": [
    "from sklearn.model_selection import train_test_split\n",
    "X_train, X_test, y_train, y_test = train_test_split(X, y, test_size=0.3)"
   ],
   "metadata": {
    "execution": {
     "iopub.status.busy": "2022-02-10T13:14:13.85744Z",
     "iopub.status.idle": "2022-02-10T13:14:13.857977Z"
    },
    "trusted": true
   },
   "execution_count": 29,
   "outputs": []
  },
  {
   "cell_type": "markdown",
   "source": [
    "## Vectorisation\n",
    "\n",
    "#### Count Vectorizer: builds a dictionary of features and transforms documents to feature vectors.\n",
    "\n"
   ],
   "metadata": {}
  },
  {
   "cell_type": "code",
   "source": [
    "from sklearn.feature_extraction.text import CountVectorizer"
   ],
   "metadata": {
    "execution": {
     "iopub.status.busy": "2022-02-10T13:14:13.859005Z",
     "iopub.status.idle": "2022-02-10T13:14:13.859548Z"
    },
    "trusted": true
   },
   "execution_count": 30,
   "outputs": []
  },
  {
   "cell_type": "markdown",
   "source": [
    "* example\n",
    "* below: the word \"life\" has been found 2 times in sentence 0 and in sentence 1\n",
    "* the word paul has been found 1 time in sentence 0 and 0 times in sentence 1\n",
    "* and so on..."
   ],
   "metadata": {}
  },
  {
   "cell_type": "code",
   "source": [
    "text=[\"My name is Paul my life is Jane! And we live our life together\" , \"My name is Guido my life is Victoria! And we live our life together\"]\n",
    "toy = CountVectorizer(stop_words = 'english')\n",
    "toy.fit_transform(text)\n",
    "matrix = toy.transform(text)\n",
    "features = toy.get_feature_names()\n",
    "df_res = pd.DataFrame(matrix.toarray(), columns=features)\n",
    "df_res"
   ],
   "metadata": {
    "execution": {
     "iopub.status.busy": "2022-02-10T13:14:13.860661Z",
     "iopub.status.idle": "2022-02-10T13:14:13.861185Z"
    },
    "trusted": true
   },
   "execution_count": 10,
   "outputs": [
    {
     "name": "stderr",
     "output_type": "stream",
     "text": [
      "/Users/donor/PycharmProjects/de_job_market/venv/lib/python3.8/site-packages/sklearn/utils/deprecation.py:87: FutureWarning: Function get_feature_names is deprecated; get_feature_names is deprecated in 1.0 and will be removed in 1.2. Please use get_feature_names_out instead.\n",
      "  warnings.warn(msg, category=FutureWarning)\n"
     ]
    },
    {
     "data": {
      "text/plain": "   guido  jane  life  live  paul  victoria\n0      0     1     2     1     1         0\n1      1     0     2     1     0         1",
      "text/html": "<div>\n<style scoped>\n    .dataframe tbody tr th:only-of-type {\n        vertical-align: middle;\n    }\n\n    .dataframe tbody tr th {\n        vertical-align: top;\n    }\n\n    .dataframe thead th {\n        text-align: right;\n    }\n</style>\n<table border=\"1\" class=\"dataframe\">\n  <thead>\n    <tr style=\"text-align: right;\">\n      <th></th>\n      <th>guido</th>\n      <th>jane</th>\n      <th>life</th>\n      <th>live</th>\n      <th>paul</th>\n      <th>victoria</th>\n    </tr>\n  </thead>\n  <tbody>\n    <tr>\n      <th>0</th>\n      <td>0</td>\n      <td>1</td>\n      <td>2</td>\n      <td>1</td>\n      <td>1</td>\n      <td>0</td>\n    </tr>\n    <tr>\n      <th>1</th>\n      <td>1</td>\n      <td>0</td>\n      <td>2</td>\n      <td>1</td>\n      <td>0</td>\n      <td>1</td>\n    </tr>\n  </tbody>\n</table>\n</div>"
     },
     "execution_count": 10,
     "metadata": {},
     "output_type": "execute_result"
    }
   ]
  },
  {
   "cell_type": "code",
   "source": [
    "vect = CountVectorizer(stop_words = 'english')"
   ],
   "metadata": {
    "execution": {
     "iopub.status.busy": "2022-02-10T13:14:13.862226Z",
     "iopub.status.idle": "2022-02-10T13:14:13.862606Z"
    },
    "trusted": true
   },
   "execution_count": 31,
   "outputs": []
  },
  {
   "cell_type": "code",
   "source": [
    "X_train_matrix = vect.fit_transform(X_train)\n",
    "X_train_matrix"
   ],
   "metadata": {
    "execution": {
     "iopub.status.busy": "2022-02-10T13:14:13.863469Z",
     "iopub.status.idle": "2022-02-10T13:14:13.863958Z"
    },
    "trusted": true
   },
   "execution_count": 32,
   "outputs": [
    {
     "data": {
      "text/plain": "<13705x21557 sparse matrix of type '<class 'numpy.int64'>'\n\twith 154054 stored elements in Compressed Sparse Row format>"
     },
     "execution_count": 32,
     "metadata": {},
     "output_type": "execute_result"
    }
   ]
  },
  {
   "cell_type": "markdown",
   "source": [
    "## Model 1 with count vectorizer"
   ],
   "metadata": {}
  },
  {
   "cell_type": "code",
   "source": [
    "from sklearn.naive_bayes import MultinomialNB\n",
    "\n",
    "clf=MultinomialNB()\n",
    "clf.fit(X_train_matrix, y_train)\n",
    "print(clf.score(X_train_matrix, y_train))\n",
    "\n",
    "X_test_matrix = vect.transform(X_test) \n",
    "print (clf.score(X_test_matrix, y_test))"
   ],
   "metadata": {
    "execution": {
     "iopub.status.busy": "2022-02-10T13:14:13.864951Z",
     "iopub.status.idle": "2022-02-10T13:14:13.865302Z"
    },
    "trusted": true
   },
   "execution_count": 33,
   "outputs": [
    {
     "name": "stdout",
     "output_type": "stream",
     "text": [
      "0.9173294418095586\n",
      "0.8207354443309499\n"
     ]
    }
   ]
  },
  {
   "cell_type": "code",
   "source": [
    "predicted_result=clf.predict(X_test_matrix)\n",
    "from sklearn.metrics import classification_report\n",
    "print(classification_report(y_test,predicted_result))"
   ],
   "metadata": {
    "execution": {
     "iopub.status.busy": "2022-02-10T13:14:13.866322Z",
     "iopub.status.idle": "2022-02-10T13:14:13.866759Z"
    },
    "trusted": true
   },
   "execution_count": 15,
   "outputs": [
    {
     "name": "stdout",
     "output_type": "stream",
     "text": [
      "              precision    recall  f1-score   support\n",
      "\n",
      "           0       0.83      0.79      0.81      2353\n",
      "           1       0.84      0.82      0.83      1694\n",
      "           2       0.79      0.85      0.82      1827\n",
      "\n",
      "    accuracy                           0.82      5874\n",
      "   macro avg       0.82      0.82      0.82      5874\n",
      "weighted avg       0.82      0.82      0.82      5874\n",
      "\n"
     ]
    }
   ]
  },
  {
   "cell_type": "markdown",
   "source": [
    "#### Tf-idf: \n",
    "\n",
    "* Since longer documents will have higher average count values than shorter documents, even though they might talk about the same topics, we can divide the number of occurrences of each word in a document by the total number of words in the document: **tf** for Term Frequencies.\n",
    "\n",
    "* **idf** for “Term Frequency times Inverse Document Frequency” : Downscale weights for words that occur in many documents in the corpus and are therefore less informative than those that occur only in a smaller portion of the corpus.\n",
    "\n",
    "* CountVectorizer and TfidTransformer steps into one using [TfidVectorizer](https://scikit-learn.org/stable/modules/generated/sklearn.feature_extraction.text.TfidfVectorizer.html):"
   ],
   "metadata": {}
  },
  {
   "cell_type": "code",
   "source": [
    "from sklearn.feature_extraction.text import TfidfVectorizer\n",
    "vectorizer = TfidfVectorizer(stop_words = 'english')\n",
    "\n",
    "X_train_tfidf = vectorizer.fit_transform(X_train) \n",
    "X_train_tfidf.shape"
   ],
   "metadata": {
    "execution": {
     "iopub.status.busy": "2022-02-10T13:14:13.867645Z",
     "iopub.status.idle": "2022-02-10T13:14:13.868178Z"
    },
    "trusted": true
   },
   "execution_count": 16,
   "outputs": [
    {
     "data": {
      "text/plain": "(13705, 21564)"
     },
     "execution_count": 16,
     "metadata": {},
     "output_type": "execute_result"
    }
   ]
  },
  {
   "cell_type": "markdown",
   "source": [
    "## Model 2 with TfidVectorizer"
   ],
   "metadata": {}
  },
  {
   "cell_type": "code",
   "source": [
    "from sklearn.naive_bayes import MultinomialNB\n",
    "clf2=MultinomialNB()\n",
    "clf2.fit(X_train_tfidf, y_train)\n",
    "print(clf2.score(X_train_tfidf, y_train))\n",
    "X_test_tfidf = vectorizer.transform(X_test) \n",
    "print (clf2.score(X_test_tfidf, y_test))"
   ],
   "metadata": {
    "execution": {
     "iopub.status.busy": "2022-02-10T13:14:13.868961Z",
     "iopub.status.idle": "2022-02-10T13:14:13.869429Z"
    },
    "trusted": true
   },
   "execution_count": 17,
   "outputs": [
    {
     "name": "stdout",
     "output_type": "stream",
     "text": [
      "0.9161619846771252\n",
      "0.8094994892747702\n"
     ]
    }
   ]
  },
  {
   "cell_type": "markdown",
   "source": [
    "* it doesn't perform better in term of accuracy"
   ],
   "metadata": {}
  },
  {
   "cell_type": "code",
   "source": [
    "predicted_result_2=clf2.predict(X_test_tfidf)\n",
    "from sklearn.metrics import classification_report\n",
    "print(classification_report(y_test,predicted_result_2))"
   ],
   "metadata": {
    "execution": {
     "iopub.status.busy": "2022-02-10T13:14:13.870405Z",
     "iopub.status.idle": "2022-02-10T13:14:13.870712Z"
    },
    "trusted": true
   },
   "execution_count": 18,
   "outputs": [
    {
     "name": "stdout",
     "output_type": "stream",
     "text": [
      "              precision    recall  f1-score   support\n",
      "\n",
      "           0       0.75      0.88      0.81      2353\n",
      "           1       0.90      0.72      0.80      1694\n",
      "           2       0.84      0.80      0.82      1827\n",
      "\n",
      "    accuracy                           0.81      5874\n",
      "   macro avg       0.83      0.80      0.81      5874\n",
      "weighted avg       0.82      0.81      0.81      5874\n",
      "\n"
     ]
    }
   ]
  },
  {
   "cell_type": "markdown",
   "source": [
    "* there might be something to learn from the predictions on class 2"
   ],
   "metadata": {}
  },
  {
   "cell_type": "markdown",
   "source": [
    "# Submission"
   ],
   "metadata": {}
  },
  {
   "cell_type": "code",
   "source": [
    "sample = pd.read_csv(\"/Users/donor/PycharmProjects/Reviews/tuto_data/sample_submission.csv\")\n",
    "sample.head()"
   ],
   "metadata": {
    "execution": {
     "iopub.status.busy": "2022-02-10T13:14:13.87148Z",
     "iopub.status.idle": "2022-02-10T13:14:13.871805Z"
    },
    "trusted": true
   },
   "execution_count": 20,
   "outputs": [
    {
     "data": {
      "text/plain": "        id       EAP       HPL       MWS\n0  id02310  0.403494  0.287808  0.308698\n1  id24541  0.403494  0.287808  0.308698\n2  id00134  0.403494  0.287808  0.308698\n3  id27757  0.403494  0.287808  0.308698\n4  id04081  0.403494  0.287808  0.308698",
      "text/html": "<div>\n<style scoped>\n    .dataframe tbody tr th:only-of-type {\n        vertical-align: middle;\n    }\n\n    .dataframe tbody tr th {\n        vertical-align: top;\n    }\n\n    .dataframe thead th {\n        text-align: right;\n    }\n</style>\n<table border=\"1\" class=\"dataframe\">\n  <thead>\n    <tr style=\"text-align: right;\">\n      <th></th>\n      <th>id</th>\n      <th>EAP</th>\n      <th>HPL</th>\n      <th>MWS</th>\n    </tr>\n  </thead>\n  <tbody>\n    <tr>\n      <th>0</th>\n      <td>id02310</td>\n      <td>0.403494</td>\n      <td>0.287808</td>\n      <td>0.308698</td>\n    </tr>\n    <tr>\n      <th>1</th>\n      <td>id24541</td>\n      <td>0.403494</td>\n      <td>0.287808</td>\n      <td>0.308698</td>\n    </tr>\n    <tr>\n      <th>2</th>\n      <td>id00134</td>\n      <td>0.403494</td>\n      <td>0.287808</td>\n      <td>0.308698</td>\n    </tr>\n    <tr>\n      <th>3</th>\n      <td>id27757</td>\n      <td>0.403494</td>\n      <td>0.287808</td>\n      <td>0.308698</td>\n    </tr>\n    <tr>\n      <th>4</th>\n      <td>id04081</td>\n      <td>0.403494</td>\n      <td>0.287808</td>\n      <td>0.308698</td>\n    </tr>\n  </tbody>\n</table>\n</div>"
     },
     "execution_count": 20,
     "metadata": {},
     "output_type": "execute_result"
    }
   ]
  },
  {
   "cell_type": "code",
   "source": [
    "test = pd.read_csv(\"/Users/donor/PycharmProjects/Reviews/tuto_data/test.csv\")\n",
    "test_matrix = vect.transform(test[\"text\"])\n",
    "predicted_result = clf.predict_proba(test_matrix)"
   ],
   "metadata": {
    "execution": {
     "iopub.status.busy": "2022-02-10T13:14:13.872523Z",
     "iopub.status.idle": "2022-02-10T13:14:13.872913Z"
    },
    "trusted": true
   },
   "execution_count": 21,
   "outputs": []
  },
  {
   "cell_type": "code",
   "source": "result=pd.DataFrame()\nresult[\"id\"]=test[\"id\"]\nresult[\"EAP\"]=predicted_result[:,0]\nresult[\"HPL\"]=predicted_result[:,1]\nresult[\"MWS\"]=predicted_result[:,2]\nresult.head()",
   "metadata": {
    "execution": {
     "iopub.status.busy": "2022-02-10T13:14:13.873701Z",
     "iopub.status.idle": "2022-02-10T13:14:13.874358Z"
    },
    "trusted": true
   },
   "execution_count": 22,
   "outputs": [
    {
     "data": {
      "text/plain": "        id       EAP       HPL           MWS\n0  id02310  0.004487  0.000462  9.950503e-01\n1  id24541  0.999986  0.000013  1.200479e-06\n2  id00134  0.181945  0.817808  2.470055e-04\n3  id27757  0.235618  0.764382  3.242965e-07\n4  id04081  0.961043  0.031715  7.242041e-03",
      "text/html": "<div>\n<style scoped>\n    .dataframe tbody tr th:only-of-type {\n        vertical-align: middle;\n    }\n\n    .dataframe tbody tr th {\n        vertical-align: top;\n    }\n\n    .dataframe thead th {\n        text-align: right;\n    }\n</style>\n<table border=\"1\" class=\"dataframe\">\n  <thead>\n    <tr style=\"text-align: right;\">\n      <th></th>\n      <th>id</th>\n      <th>EAP</th>\n      <th>HPL</th>\n      <th>MWS</th>\n    </tr>\n  </thead>\n  <tbody>\n    <tr>\n      <th>0</th>\n      <td>id02310</td>\n      <td>0.004487</td>\n      <td>0.000462</td>\n      <td>9.950503e-01</td>\n    </tr>\n    <tr>\n      <th>1</th>\n      <td>id24541</td>\n      <td>0.999986</td>\n      <td>0.000013</td>\n      <td>1.200479e-06</td>\n    </tr>\n    <tr>\n      <th>2</th>\n      <td>id00134</td>\n      <td>0.181945</td>\n      <td>0.817808</td>\n      <td>2.470055e-04</td>\n    </tr>\n    <tr>\n      <th>3</th>\n      <td>id27757</td>\n      <td>0.235618</td>\n      <td>0.764382</td>\n      <td>3.242965e-07</td>\n    </tr>\n    <tr>\n      <th>4</th>\n      <td>id04081</td>\n      <td>0.961043</td>\n      <td>0.031715</td>\n      <td>7.242041e-03</td>\n    </tr>\n  </tbody>\n</table>\n</div>"
     },
     "execution_count": 22,
     "metadata": {},
     "output_type": "execute_result"
    }
   ]
  },
  {
   "cell_type": "code",
   "source": "result.to_csv(\"submission_v1.csv\", index=False)",
   "metadata": {
    "execution": {
     "iopub.status.busy": "2022-02-10T13:14:13.875105Z",
     "iopub.status.idle": "2022-02-10T13:14:13.875711Z"
    },
    "trusted": true
   },
   "execution_count": 23,
   "outputs": []
  },
  {
   "cell_type": "code",
   "source": "",
   "metadata": {
    "trusted": true
   },
   "execution_count": null,
   "outputs": []
  }
 ]
}