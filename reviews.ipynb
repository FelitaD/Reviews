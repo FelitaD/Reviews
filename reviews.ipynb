{
 "cells": [
  {
   "cell_type": "markdown",
   "metadata": {
    "collapsed": true,
    "pycharm": {
     "name": "#%% md\n"
    }
   },
   "source": [
    "https://docs.google.com/presentation/d/1hrdgmIETLXMcO9jCtLcY_GM0wNb1cGKs/edit#slide=id.g11091aa2c13_1_81\n",
    "Explorer un jeu de données\n",
    "Nettoyer un jeu de données\n",
    "Formatter un jeu de données\n",
    "Appliquer des algorithmes de Machine Learning\n",
    "Optimiser des algorithmes de Machine Learning"
   ]
  },
  {
   "cell_type": "markdown",
   "source": [
    "# Projet Machine Learning - Reviews"
   ],
   "metadata": {
    "collapsed": false,
    "pycharm": {
     "name": "#%% md\n"
    }
   }
  },
  {
   "cell_type": "code",
   "execution_count": 1,
   "outputs": [],
   "source": [
    "import pandas as pd\n",
    "import nltk\n",
    "from nltk.corpus import stopwords\n",
    "from textblob import Word, TextBlob"
   ],
   "metadata": {
    "collapsed": false,
    "pycharm": {
     "name": "#%%\n"
    }
   }
  },
  {
   "cell_type": "markdown",
   "source": [
    "## Exploration du dataset"
   ],
   "metadata": {
    "collapsed": false,
    "pycharm": {
     "name": "#%% md\n"
    }
   }
  },
  {
   "cell_type": "code",
   "execution_count": null,
   "outputs": [],
   "source": [
    "df = pd.read_csv('reviews.csv')"
   ],
   "metadata": {
    "collapsed": false,
    "pycharm": {
     "name": "#%%\n"
    }
   }
  },
  {
   "cell_type": "code",
   "execution_count": 3,
   "outputs": [
    {
     "data": {
      "text/plain": "       Rating Year_Month     Reviewer_Location  \\\n0           5     2019-3  United Arab Emirates   \n1           4     2018-6        United Kingdom   \n2           5     2019-4        United Kingdom   \n3           4     2019-4             Australia   \n4           5    missing                France   \n...       ...        ...                   ...   \n13625       5    missing        United Kingdom   \n13626       5    missing                Canada   \n13627       5    missing          South Africa   \n13628       4    missing         United States   \n13629       4    missing        United Kingdom   \n\n                                             Review_Text  \n0      We've been to Disneyland Hongkong and Tokyo, s...  \n1      I went to Disneyland Paris in April 2018 on Ea...  \n2      What a fantastic place, the queues were decent...  \n3      We didn't realise it was school holidays when ...  \n4      A Trip to Disney makes you all warm and fuzzy ...  \n...                                                  ...  \n13625  i went to disneyland paris in july 03 and thou...  \n13626  2 adults and 1 child of 11 visited Disneyland ...  \n13627  My eleven year old daughter and myself went to...  \n13628  This hotel, part of the Disneyland Paris compl...  \n13629  I went to the Disneyparis resort, in 1996, wit...  \n\n[13630 rows x 4 columns]",
      "text/html": "<div>\n<style scoped>\n    .dataframe tbody tr th:only-of-type {\n        vertical-align: middle;\n    }\n\n    .dataframe tbody tr th {\n        vertical-align: top;\n    }\n\n    .dataframe thead th {\n        text-align: right;\n    }\n</style>\n<table border=\"1\" class=\"dataframe\">\n  <thead>\n    <tr style=\"text-align: right;\">\n      <th></th>\n      <th>Rating</th>\n      <th>Year_Month</th>\n      <th>Reviewer_Location</th>\n      <th>Review_Text</th>\n    </tr>\n  </thead>\n  <tbody>\n    <tr>\n      <th>0</th>\n      <td>5</td>\n      <td>2019-3</td>\n      <td>United Arab Emirates</td>\n      <td>We've been to Disneyland Hongkong and Tokyo, s...</td>\n    </tr>\n    <tr>\n      <th>1</th>\n      <td>4</td>\n      <td>2018-6</td>\n      <td>United Kingdom</td>\n      <td>I went to Disneyland Paris in April 2018 on Ea...</td>\n    </tr>\n    <tr>\n      <th>2</th>\n      <td>5</td>\n      <td>2019-4</td>\n      <td>United Kingdom</td>\n      <td>What a fantastic place, the queues were decent...</td>\n    </tr>\n    <tr>\n      <th>3</th>\n      <td>4</td>\n      <td>2019-4</td>\n      <td>Australia</td>\n      <td>We didn't realise it was school holidays when ...</td>\n    </tr>\n    <tr>\n      <th>4</th>\n      <td>5</td>\n      <td>missing</td>\n      <td>France</td>\n      <td>A Trip to Disney makes you all warm and fuzzy ...</td>\n    </tr>\n    <tr>\n      <th>...</th>\n      <td>...</td>\n      <td>...</td>\n      <td>...</td>\n      <td>...</td>\n    </tr>\n    <tr>\n      <th>13625</th>\n      <td>5</td>\n      <td>missing</td>\n      <td>United Kingdom</td>\n      <td>i went to disneyland paris in july 03 and thou...</td>\n    </tr>\n    <tr>\n      <th>13626</th>\n      <td>5</td>\n      <td>missing</td>\n      <td>Canada</td>\n      <td>2 adults and 1 child of 11 visited Disneyland ...</td>\n    </tr>\n    <tr>\n      <th>13627</th>\n      <td>5</td>\n      <td>missing</td>\n      <td>South Africa</td>\n      <td>My eleven year old daughter and myself went to...</td>\n    </tr>\n    <tr>\n      <th>13628</th>\n      <td>4</td>\n      <td>missing</td>\n      <td>United States</td>\n      <td>This hotel, part of the Disneyland Paris compl...</td>\n    </tr>\n    <tr>\n      <th>13629</th>\n      <td>4</td>\n      <td>missing</td>\n      <td>United Kingdom</td>\n      <td>I went to the Disneyparis resort, in 1996, wit...</td>\n    </tr>\n  </tbody>\n</table>\n<p>13630 rows × 4 columns</p>\n</div>"
     },
     "execution_count": 3,
     "metadata": {},
     "output_type": "execute_result"
    }
   ],
   "source": [
    "df"
   ],
   "metadata": {
    "collapsed": false,
    "pycharm": {
     "name": "#%%\n"
    }
   }
  },
  {
   "cell_type": "markdown",
   "source": [
    "## Preprocessing"
   ],
   "metadata": {
    "collapsed": false,
    "pycharm": {
     "name": "#%% md\n"
    }
   }
  },
  {
   "cell_type": "code",
   "execution_count": 35,
   "outputs": [
    {
     "name": "stderr",
     "output_type": "stream",
     "text": [
      "[nltk_data] Downloading package stopwords to /Users/donor/nltk_data...\n",
      "[nltk_data]   Package stopwords is already up-to-date!\n",
      "[nltk_data] Downloading package wordnet to /Users/donor/nltk_data...\n",
      "[nltk_data]   Package wordnet is already up-to-date!\n",
      "[nltk_data] Downloading package omw-1.4 to /Users/donor/nltk_data...\n",
      "[nltk_data]   Unzipping corpora/omw-1.4.zip.\n"
     ]
    },
    {
     "data": {
      "text/plain": "True"
     },
     "execution_count": 35,
     "metadata": {},
     "output_type": "execute_result"
    }
   ],
   "source": [
    "nltk.download('stopwords')\n",
    "nltk.download('wordnet')\n",
    "stop_words = stopwords.words('english')\n",
    "custom_stop_words = ['Disney', 'Disneyland', 'Disneyworld']\n",
    "nltk.download('omw-1.4')"
   ],
   "metadata": {
    "collapsed": false,
    "pycharm": {
     "name": "#%%\n"
    }
   }
  },
  {
   "cell_type": "code",
   "execution_count": 36,
   "outputs": [],
   "source": [
    "def preprocess_reviews(review, custom_stopwords):\n",
    "    preprocessed_review = review\n",
    "    preprocessed_review.replace('[^\\w\\s]', '') # remove whitespace at the beginning of the review\n",
    "    preprocessed_review = ' '.join(word for word in preprocessed_review.split() if word not in stop_words)\n",
    "    preprocessed_review = ' '.join(Word(word).lemmatize() for word in preprocessed_review.split())\n",
    "    return preprocessed_review"
   ],
   "metadata": {
    "collapsed": false,
    "pycharm": {
     "name": "#%%\n"
    }
   }
  },
  {
   "cell_type": "code",
   "execution_count": 37,
   "outputs": [
    {
     "data": {
      "text/plain": "       Rating Year_Month     Reviewer_Location  \\\n0           5     2019-3  United Arab Emirates   \n1           4     2018-6        United Kingdom   \n2           5     2019-4        United Kingdom   \n3           4     2019-4             Australia   \n4           5    missing                France   \n...       ...        ...                   ...   \n13625       5    missing        United Kingdom   \n13626       5    missing                Canada   \n13627       5    missing          South Africa   \n13628       4    missing         United States   \n13629       4    missing        United Kingdom   \n\n                                             Review_Text  \\\n0      We've been to Disneyland Hongkong and Tokyo, s...   \n1      I went to Disneyland Paris in April 2018 on Ea...   \n2      What a fantastic place, the queues were decent...   \n3      We didn't realise it was school holidays when ...   \n4      A Trip to Disney makes you all warm and fuzzy ...   \n...                                                  ...   \n13625  i went to disneyland paris in july 03 and thou...   \n13626  2 adults and 1 child of 11 visited Disneyland ...   \n13627  My eleven year old daughter and myself went to...   \n13628  This hotel, part of the Disneyland Paris compl...   \n13629  I went to the Disneyparis resort, in 1996, wit...   \n\n                                        processed_review  \n0      We've Disneyland Hongkong Tokyo, far one best....  \n1      I went Disneyland Paris April 2018 Easter week...  \n2      What fantastic place, queue decent best time y...  \n3      We realise school holiday went, consequently e...  \n4      A Trip Disney make warm fuzzy actual kid again...  \n...                                                  ...  \n13625  went disneyland paris july 03 thought brillian...  \n13626  2 adult 1 child 11 visited Disneyland Paris be...  \n13627  My eleven year old daughter went visit son Lon...  \n13628  This hotel, part Disneyland Paris complex, won...  \n13629  I went Disneyparis resort, 1996, small child. ...  \n\n[13630 rows x 5 columns]",
      "text/html": "<div>\n<style scoped>\n    .dataframe tbody tr th:only-of-type {\n        vertical-align: middle;\n    }\n\n    .dataframe tbody tr th {\n        vertical-align: top;\n    }\n\n    .dataframe thead th {\n        text-align: right;\n    }\n</style>\n<table border=\"1\" class=\"dataframe\">\n  <thead>\n    <tr style=\"text-align: right;\">\n      <th></th>\n      <th>Rating</th>\n      <th>Year_Month</th>\n      <th>Reviewer_Location</th>\n      <th>Review_Text</th>\n      <th>processed_review</th>\n    </tr>\n  </thead>\n  <tbody>\n    <tr>\n      <th>0</th>\n      <td>5</td>\n      <td>2019-3</td>\n      <td>United Arab Emirates</td>\n      <td>We've been to Disneyland Hongkong and Tokyo, s...</td>\n      <td>We've Disneyland Hongkong Tokyo, far one best....</td>\n    </tr>\n    <tr>\n      <th>1</th>\n      <td>4</td>\n      <td>2018-6</td>\n      <td>United Kingdom</td>\n      <td>I went to Disneyland Paris in April 2018 on Ea...</td>\n      <td>I went Disneyland Paris April 2018 Easter week...</td>\n    </tr>\n    <tr>\n      <th>2</th>\n      <td>5</td>\n      <td>2019-4</td>\n      <td>United Kingdom</td>\n      <td>What a fantastic place, the queues were decent...</td>\n      <td>What fantastic place, queue decent best time y...</td>\n    </tr>\n    <tr>\n      <th>3</th>\n      <td>4</td>\n      <td>2019-4</td>\n      <td>Australia</td>\n      <td>We didn't realise it was school holidays when ...</td>\n      <td>We realise school holiday went, consequently e...</td>\n    </tr>\n    <tr>\n      <th>4</th>\n      <td>5</td>\n      <td>missing</td>\n      <td>France</td>\n      <td>A Trip to Disney makes you all warm and fuzzy ...</td>\n      <td>A Trip Disney make warm fuzzy actual kid again...</td>\n    </tr>\n    <tr>\n      <th>...</th>\n      <td>...</td>\n      <td>...</td>\n      <td>...</td>\n      <td>...</td>\n      <td>...</td>\n    </tr>\n    <tr>\n      <th>13625</th>\n      <td>5</td>\n      <td>missing</td>\n      <td>United Kingdom</td>\n      <td>i went to disneyland paris in july 03 and thou...</td>\n      <td>went disneyland paris july 03 thought brillian...</td>\n    </tr>\n    <tr>\n      <th>13626</th>\n      <td>5</td>\n      <td>missing</td>\n      <td>Canada</td>\n      <td>2 adults and 1 child of 11 visited Disneyland ...</td>\n      <td>2 adult 1 child 11 visited Disneyland Paris be...</td>\n    </tr>\n    <tr>\n      <th>13627</th>\n      <td>5</td>\n      <td>missing</td>\n      <td>South Africa</td>\n      <td>My eleven year old daughter and myself went to...</td>\n      <td>My eleven year old daughter went visit son Lon...</td>\n    </tr>\n    <tr>\n      <th>13628</th>\n      <td>4</td>\n      <td>missing</td>\n      <td>United States</td>\n      <td>This hotel, part of the Disneyland Paris compl...</td>\n      <td>This hotel, part Disneyland Paris complex, won...</td>\n    </tr>\n    <tr>\n      <th>13629</th>\n      <td>4</td>\n      <td>missing</td>\n      <td>United Kingdom</td>\n      <td>I went to the Disneyparis resort, in 1996, wit...</td>\n      <td>I went Disneyparis resort, 1996, small child. ...</td>\n    </tr>\n  </tbody>\n</table>\n<p>13630 rows × 5 columns</p>\n</div>"
     },
     "execution_count": 37,
     "metadata": {},
     "output_type": "execute_result"
    }
   ],
   "source": [
    "df['processed_review'] = df['Review_Text'].apply(lambda x: preprocess_reviews(x, custom_stop_words))\n",
    "df"
   ],
   "metadata": {
    "collapsed": false,
    "pycharm": {
     "name": "#%%\n"
    }
   }
  },
  {
   "cell_type": "code",
   "execution_count": 40,
   "outputs": [
    {
     "data": {
      "text/plain": "\"I went Disneyland Paris April 2018 Easter weekend, I know say June 2018 I can't choose date then, I loved it, mum went I autism managed get disability pas parks. Disney excellent disability access cater type disabilities, visible (wheelchair users, etc.) invisible (autism, etc.), managed get lot ride pas queue normal queue entrance disabilities. I fault one thing I went met Spider man photo taken pay photo expensive, even pay one photo. The food spectacular edible nice, variety food outlet plenty choice. I would loved go Halloween Christmas I would love go again.\""
     },
     "execution_count": 40,
     "metadata": {},
     "output_type": "execute_result"
    }
   ],
   "source": [
    "df['processed_review'][1]"
   ],
   "metadata": {
    "collapsed": false,
    "pycharm": {
     "name": "#%%\n"
    }
   }
  },
  {
   "cell_type": "code",
   "execution_count": 41,
   "outputs": [
    {
     "data": {
      "text/plain": "\"I went to Disneyland Paris in April 2018 on Easter weekend, I know it says June 2018 but I can't choose a date before then, and I loved it, me and my mum went and as I have autism we managed to get a disability pass for both parks. Disney are excellent with disability access and cater to all types of disabilities, both visible (wheelchair users, etc.) and invisible (autism, etc.), we managed to get on a lot of rides because with the pass you don't queue in the normal queue but the entrance for disabilities. I can only fault one thing when I went we met Spider man and had photos taken but you have to pay for the photos and they are very expensive, even to just pay for one photo. The food wasn't spectacular but it was edible and nice, there is a variety of food outlets so there was plenty of choice. I would loved to go again in Halloween or Christmas but if not I would just love to go again.\""
     },
     "execution_count": 41,
     "metadata": {},
     "output_type": "execute_result"
    }
   ],
   "source": [
    "df['Review_Text'][1]"
   ],
   "metadata": {
    "collapsed": false,
    "pycharm": {
     "name": "#%%\n"
    }
   }
  },
  {
   "cell_type": "markdown",
   "source": [
    "## Calculate sentiment"
   ],
   "metadata": {
    "collapsed": false,
    "pycharm": {
     "name": "#%% md\n"
    }
   }
  },
  {
   "cell_type": "code",
   "execution_count": 46,
   "outputs": [],
   "source": [
    "df['polarity'] = df['processed_review'].apply(lambda x: TextBlob(x).sentiment[0])\n",
    "df['subjectivity'] = df['processed_review'].apply(lambda x: TextBlob(x).sentiment[1])"
   ],
   "metadata": {
    "collapsed": false,
    "pycharm": {
     "name": "#%%\n"
    }
   }
  },
  {
   "cell_type": "code",
   "execution_count": 47,
   "outputs": [
    {
     "data": {
      "text/plain": "       Rating Year_Month     Reviewer_Location  \\\n0           5     2019-3  United Arab Emirates   \n1           4     2018-6        United Kingdom   \n2           5     2019-4        United Kingdom   \n3           4     2019-4             Australia   \n4           5    missing                France   \n...       ...        ...                   ...   \n13625       5    missing        United Kingdom   \n13626       5    missing                Canada   \n13627       5    missing          South Africa   \n13628       4    missing         United States   \n13629       4    missing        United Kingdom   \n\n                                             Review_Text  \\\n0      We've been to Disneyland Hongkong and Tokyo, s...   \n1      I went to Disneyland Paris in April 2018 on Ea...   \n2      What a fantastic place, the queues were decent...   \n3      We didn't realise it was school holidays when ...   \n4      A Trip to Disney makes you all warm and fuzzy ...   \n...                                                  ...   \n13625  i went to disneyland paris in july 03 and thou...   \n13626  2 adults and 1 child of 11 visited Disneyland ...   \n13627  My eleven year old daughter and myself went to...   \n13628  This hotel, part of the Disneyland Paris compl...   \n13629  I went to the Disneyparis resort, in 1996, wit...   \n\n                                        processed_review  subjectivity  \\\n0      We've Disneyland Hongkong Tokyo, far one best....      0.550000   \n1      I went Disneyland Paris April 2018 Easter week...      0.806250   \n2      What fantastic place, queue decent best time y...      0.566667   \n3      We realise school holiday went, consequently e...      0.539500   \n4      A Trip Disney make warm fuzzy actual kid again...      0.554167   \n...                                                  ...           ...   \n13625  went disneyland paris july 03 thought brillian...      0.595833   \n13626  2 adult 1 child 11 visited Disneyland Paris be...      0.603667   \n13627  My eleven year old daughter went visit son Lon...      0.337500   \n13628  This hotel, part Disneyland Paris complex, won...      0.519780   \n13629  I went Disneyparis resort, 1996, small child. ...      0.505238   \n\n       polarity  \n0      0.287500  \n1      0.468750  \n2      0.135185  \n3      0.164875  \n4      0.243750  \n...         ...  \n13625  0.275000  \n13626  0.153000  \n13627  0.212500  \n13628  0.253480  \n13629  0.247381  \n\n[13630 rows x 7 columns]",
      "text/html": "<div>\n<style scoped>\n    .dataframe tbody tr th:only-of-type {\n        vertical-align: middle;\n    }\n\n    .dataframe tbody tr th {\n        vertical-align: top;\n    }\n\n    .dataframe thead th {\n        text-align: right;\n    }\n</style>\n<table border=\"1\" class=\"dataframe\">\n  <thead>\n    <tr style=\"text-align: right;\">\n      <th></th>\n      <th>Rating</th>\n      <th>Year_Month</th>\n      <th>Reviewer_Location</th>\n      <th>Review_Text</th>\n      <th>processed_review</th>\n      <th>subjectivity</th>\n      <th>polarity</th>\n    </tr>\n  </thead>\n  <tbody>\n    <tr>\n      <th>0</th>\n      <td>5</td>\n      <td>2019-3</td>\n      <td>United Arab Emirates</td>\n      <td>We've been to Disneyland Hongkong and Tokyo, s...</td>\n      <td>We've Disneyland Hongkong Tokyo, far one best....</td>\n      <td>0.550000</td>\n      <td>0.287500</td>\n    </tr>\n    <tr>\n      <th>1</th>\n      <td>4</td>\n      <td>2018-6</td>\n      <td>United Kingdom</td>\n      <td>I went to Disneyland Paris in April 2018 on Ea...</td>\n      <td>I went Disneyland Paris April 2018 Easter week...</td>\n      <td>0.806250</td>\n      <td>0.468750</td>\n    </tr>\n    <tr>\n      <th>2</th>\n      <td>5</td>\n      <td>2019-4</td>\n      <td>United Kingdom</td>\n      <td>What a fantastic place, the queues were decent...</td>\n      <td>What fantastic place, queue decent best time y...</td>\n      <td>0.566667</td>\n      <td>0.135185</td>\n    </tr>\n    <tr>\n      <th>3</th>\n      <td>4</td>\n      <td>2019-4</td>\n      <td>Australia</td>\n      <td>We didn't realise it was school holidays when ...</td>\n      <td>We realise school holiday went, consequently e...</td>\n      <td>0.539500</td>\n      <td>0.164875</td>\n    </tr>\n    <tr>\n      <th>4</th>\n      <td>5</td>\n      <td>missing</td>\n      <td>France</td>\n      <td>A Trip to Disney makes you all warm and fuzzy ...</td>\n      <td>A Trip Disney make warm fuzzy actual kid again...</td>\n      <td>0.554167</td>\n      <td>0.243750</td>\n    </tr>\n    <tr>\n      <th>...</th>\n      <td>...</td>\n      <td>...</td>\n      <td>...</td>\n      <td>...</td>\n      <td>...</td>\n      <td>...</td>\n      <td>...</td>\n    </tr>\n    <tr>\n      <th>13625</th>\n      <td>5</td>\n      <td>missing</td>\n      <td>United Kingdom</td>\n      <td>i went to disneyland paris in july 03 and thou...</td>\n      <td>went disneyland paris july 03 thought brillian...</td>\n      <td>0.595833</td>\n      <td>0.275000</td>\n    </tr>\n    <tr>\n      <th>13626</th>\n      <td>5</td>\n      <td>missing</td>\n      <td>Canada</td>\n      <td>2 adults and 1 child of 11 visited Disneyland ...</td>\n      <td>2 adult 1 child 11 visited Disneyland Paris be...</td>\n      <td>0.603667</td>\n      <td>0.153000</td>\n    </tr>\n    <tr>\n      <th>13627</th>\n      <td>5</td>\n      <td>missing</td>\n      <td>South Africa</td>\n      <td>My eleven year old daughter and myself went to...</td>\n      <td>My eleven year old daughter went visit son Lon...</td>\n      <td>0.337500</td>\n      <td>0.212500</td>\n    </tr>\n    <tr>\n      <th>13628</th>\n      <td>4</td>\n      <td>missing</td>\n      <td>United States</td>\n      <td>This hotel, part of the Disneyland Paris compl...</td>\n      <td>This hotel, part Disneyland Paris complex, won...</td>\n      <td>0.519780</td>\n      <td>0.253480</td>\n    </tr>\n    <tr>\n      <th>13629</th>\n      <td>4</td>\n      <td>missing</td>\n      <td>United Kingdom</td>\n      <td>I went to the Disneyparis resort, in 1996, wit...</td>\n      <td>I went Disneyparis resort, 1996, small child. ...</td>\n      <td>0.505238</td>\n      <td>0.247381</td>\n    </tr>\n  </tbody>\n</table>\n<p>13630 rows × 7 columns</p>\n</div>"
     },
     "execution_count": 47,
     "metadata": {},
     "output_type": "execute_result"
    }
   ],
   "source": [
    "df"
   ],
   "metadata": {
    "collapsed": false,
    "pycharm": {
     "name": "#%%\n"
    }
   }
  },
  {
   "cell_type": "code",
   "execution_count": 48,
   "outputs": [
    {
     "ename": "SyntaxError",
     "evalue": "invalid syntax (2842003431.py, line 1)",
     "output_type": "error",
     "traceback": [
      "\u001B[0;36m  File \u001B[0;32m\"/var/folders/m_/2w2qlxsn13s9qyf11rtgzkkr0000gn/T/ipykernel_1165/2842003431.py\"\u001B[0;36m, line \u001B[0;32m1\u001B[0m\n\u001B[0;31m    kaggle competitions download -c sentiment-analysis-on-movie-reviews\u001B[0m\n\u001B[0m           ^\u001B[0m\n\u001B[0;31mSyntaxError\u001B[0m\u001B[0;31m:\u001B[0m invalid syntax\n"
     ]
    }
   ],
   "source": [
    "kaggle competitions download -c sentiment-analysis-on-movie-reviews"
   ],
   "metadata": {
    "collapsed": false,
    "pycharm": {
     "name": "#%%\n"
    }
   }
  },
  {
   "cell_type": "code",
   "execution_count": null,
   "outputs": [],
   "source": [],
   "metadata": {
    "collapsed": false,
    "pycharm": {
     "name": "#%%\n"
    }
   }
  }
 ],
 "metadata": {
  "kernelspec": {
   "display_name": "Python 3",
   "language": "python",
   "name": "python3"
  },
  "language_info": {
   "codemirror_mode": {
    "name": "ipython",
    "version": 2
   },
   "file_extension": ".py",
   "mimetype": "text/x-python",
   "name": "python",
   "nbconvert_exporter": "python",
   "pygments_lexer": "ipython2",
   "version": "2.7.6"
  }
 },
 "nbformat": 4,
 "nbformat_minor": 0
}