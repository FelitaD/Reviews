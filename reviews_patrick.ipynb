{
 "cells": [
  {
   "cell_type": "code",
   "execution_count": 9,
   "metadata": {
    "collapsed": true
   },
   "outputs": [
    {
     "name": "stderr",
     "output_type": "stream",
     "text": [
      "[nltk_data] Downloading package stopwords to /Users/donor/nltk_data...\n",
      "[nltk_data]   Package stopwords is already up-to-date!\n",
      "[nltk_data] Downloading package wordnet to /Users/donor/nltk_data...\n",
      "[nltk_data]   Package wordnet is already up-to-date!\n",
      "[nltk_data] Downloading package omw-1.4 to /Users/donor/nltk_data...\n",
      "[nltk_data]   Package omw-1.4 is already up-to-date!\n"
     ]
    }
   ],
   "source": [
    "import pandas as pd\n",
    "import re\n",
    "import nltk\n",
    "nltk.download('stopwords')\n",
    "nltk.download('wordnet')\n",
    "nltk.download('omw-1.4')\n",
    "from nltk.corpus import stopwords\n",
    "from nltk import word_tokenize\n",
    "from nltk.tokenize import sent_tokenize\n",
    "from nltk.stem.snowball import SnowballStemmer"
   ]
  },
  {
   "cell_type": "code",
   "execution_count": 2,
   "outputs": [
    {
     "data": {
      "text/plain": "   index  Rating Year_Month     Reviewer_Location  \\\n0      0       5     2019-3  United Arab Emirates   \n1      1       4     2018-6        United Kingdom   \n2      2       5     2019-4        United Kingdom   \n3      3       4     2019-4             Australia   \n4      4       5    missing                France   \n\n                                         Review_Text  \n0  We've been to Disneyland Hongkong and Tokyo, s...  \n1  I went to Disneyland Paris in April 2018 on Ea...  \n2  What a fantastic place, the queues were decent...  \n3  We didn't realise it was school holidays when ...  \n4  A Trip to Disney makes you all warm and fuzzy ...  ",
      "text/html": "<div>\n<style scoped>\n    .dataframe tbody tr th:only-of-type {\n        vertical-align: middle;\n    }\n\n    .dataframe tbody tr th {\n        vertical-align: top;\n    }\n\n    .dataframe thead th {\n        text-align: right;\n    }\n</style>\n<table border=\"1\" class=\"dataframe\">\n  <thead>\n    <tr style=\"text-align: right;\">\n      <th></th>\n      <th>index</th>\n      <th>Rating</th>\n      <th>Year_Month</th>\n      <th>Reviewer_Location</th>\n      <th>Review_Text</th>\n    </tr>\n  </thead>\n  <tbody>\n    <tr>\n      <th>0</th>\n      <td>0</td>\n      <td>5</td>\n      <td>2019-3</td>\n      <td>United Arab Emirates</td>\n      <td>We've been to Disneyland Hongkong and Tokyo, s...</td>\n    </tr>\n    <tr>\n      <th>1</th>\n      <td>1</td>\n      <td>4</td>\n      <td>2018-6</td>\n      <td>United Kingdom</td>\n      <td>I went to Disneyland Paris in April 2018 on Ea...</td>\n    </tr>\n    <tr>\n      <th>2</th>\n      <td>2</td>\n      <td>5</td>\n      <td>2019-4</td>\n      <td>United Kingdom</td>\n      <td>What a fantastic place, the queues were decent...</td>\n    </tr>\n    <tr>\n      <th>3</th>\n      <td>3</td>\n      <td>4</td>\n      <td>2019-4</td>\n      <td>Australia</td>\n      <td>We didn't realise it was school holidays when ...</td>\n    </tr>\n    <tr>\n      <th>4</th>\n      <td>4</td>\n      <td>5</td>\n      <td>missing</td>\n      <td>France</td>\n      <td>A Trip to Disney makes you all warm and fuzzy ...</td>\n    </tr>\n  </tbody>\n</table>\n</div>"
     },
     "execution_count": 2,
     "metadata": {},
     "output_type": "execute_result"
    }
   ],
   "source": [
    "df = pd.DataFrame(pd.read_csv('reviews.csv'))\n",
    "df = df.reset_index()\n",
    "df.head()"
   ],
   "metadata": {
    "collapsed": false,
    "pycharm": {
     "name": "#%%\n"
    }
   }
  },
  {
   "cell_type": "code",
   "execution_count": 5,
   "outputs": [],
   "source": [
    "df['year'] = df['Year_Month'].apply(lambda x : x.split('-')[0])"
   ],
   "metadata": {
    "collapsed": false,
    "pycharm": {
     "name": "#%%\n"
    }
   }
  },
  {
   "cell_type": "code",
   "execution_count": 6,
   "outputs": [
    {
     "data": {
      "text/plain": "       index  Rating Year_Month     Reviewer_Location  \\\n0          0       5     2019-3  United Arab Emirates   \n1          1       4     2018-6        United Kingdom   \n2          2       5     2019-4        United Kingdom   \n3          3       4     2019-4             Australia   \n4          4       5    missing                France   \n...      ...     ...        ...                   ...   \n13625  13625       5    missing        United Kingdom   \n13626  13626       5    missing                Canada   \n13627  13627       5    missing          South Africa   \n13628  13628       4    missing         United States   \n13629  13629       4    missing        United Kingdom   \n\n                                             Review_Text     year  \n0      We've been to Disneyland Hongkong and Tokyo, s...     2019  \n1      I went to Disneyland Paris in April 2018 on Ea...     2018  \n2      What a fantastic place, the queues were decent...     2019  \n3      We didn't realise it was school holidays when ...     2019  \n4      A Trip to Disney makes you all warm and fuzzy ...  missing  \n...                                                  ...      ...  \n13625  i went to disneyland paris in july 03 and thou...  missing  \n13626  2 adults and 1 child of 11 visited Disneyland ...  missing  \n13627  My eleven year old daughter and myself went to...  missing  \n13628  This hotel, part of the Disneyland Paris compl...  missing  \n13629  I went to the Disneyparis resort, in 1996, wit...  missing  \n\n[13630 rows x 6 columns]",
      "text/html": "<div>\n<style scoped>\n    .dataframe tbody tr th:only-of-type {\n        vertical-align: middle;\n    }\n\n    .dataframe tbody tr th {\n        vertical-align: top;\n    }\n\n    .dataframe thead th {\n        text-align: right;\n    }\n</style>\n<table border=\"1\" class=\"dataframe\">\n  <thead>\n    <tr style=\"text-align: right;\">\n      <th></th>\n      <th>index</th>\n      <th>Rating</th>\n      <th>Year_Month</th>\n      <th>Reviewer_Location</th>\n      <th>Review_Text</th>\n      <th>year</th>\n    </tr>\n  </thead>\n  <tbody>\n    <tr>\n      <th>0</th>\n      <td>0</td>\n      <td>5</td>\n      <td>2019-3</td>\n      <td>United Arab Emirates</td>\n      <td>We've been to Disneyland Hongkong and Tokyo, s...</td>\n      <td>2019</td>\n    </tr>\n    <tr>\n      <th>1</th>\n      <td>1</td>\n      <td>4</td>\n      <td>2018-6</td>\n      <td>United Kingdom</td>\n      <td>I went to Disneyland Paris in April 2018 on Ea...</td>\n      <td>2018</td>\n    </tr>\n    <tr>\n      <th>2</th>\n      <td>2</td>\n      <td>5</td>\n      <td>2019-4</td>\n      <td>United Kingdom</td>\n      <td>What a fantastic place, the queues were decent...</td>\n      <td>2019</td>\n    </tr>\n    <tr>\n      <th>3</th>\n      <td>3</td>\n      <td>4</td>\n      <td>2019-4</td>\n      <td>Australia</td>\n      <td>We didn't realise it was school holidays when ...</td>\n      <td>2019</td>\n    </tr>\n    <tr>\n      <th>4</th>\n      <td>4</td>\n      <td>5</td>\n      <td>missing</td>\n      <td>France</td>\n      <td>A Trip to Disney makes you all warm and fuzzy ...</td>\n      <td>missing</td>\n    </tr>\n    <tr>\n      <th>...</th>\n      <td>...</td>\n      <td>...</td>\n      <td>...</td>\n      <td>...</td>\n      <td>...</td>\n      <td>...</td>\n    </tr>\n    <tr>\n      <th>13625</th>\n      <td>13625</td>\n      <td>5</td>\n      <td>missing</td>\n      <td>United Kingdom</td>\n      <td>i went to disneyland paris in july 03 and thou...</td>\n      <td>missing</td>\n    </tr>\n    <tr>\n      <th>13626</th>\n      <td>13626</td>\n      <td>5</td>\n      <td>missing</td>\n      <td>Canada</td>\n      <td>2 adults and 1 child of 11 visited Disneyland ...</td>\n      <td>missing</td>\n    </tr>\n    <tr>\n      <th>13627</th>\n      <td>13627</td>\n      <td>5</td>\n      <td>missing</td>\n      <td>South Africa</td>\n      <td>My eleven year old daughter and myself went to...</td>\n      <td>missing</td>\n    </tr>\n    <tr>\n      <th>13628</th>\n      <td>13628</td>\n      <td>4</td>\n      <td>missing</td>\n      <td>United States</td>\n      <td>This hotel, part of the Disneyland Paris compl...</td>\n      <td>missing</td>\n    </tr>\n    <tr>\n      <th>13629</th>\n      <td>13629</td>\n      <td>4</td>\n      <td>missing</td>\n      <td>United Kingdom</td>\n      <td>I went to the Disneyparis resort, in 1996, wit...</td>\n      <td>missing</td>\n    </tr>\n  </tbody>\n</table>\n<p>13630 rows × 6 columns</p>\n</div>"
     },
     "execution_count": 6,
     "metadata": {},
     "output_type": "execute_result"
    }
   ],
   "source": [
    "df"
   ],
   "metadata": {
    "collapsed": false,
    "pycharm": {
     "name": "#%%\n"
    }
   }
  },
  {
   "cell_type": "code",
   "execution_count": 10,
   "outputs": [],
   "source": [
    "REMPLACE_SANS_ESPACE = re.compile(\"[;:!\\'?,\\\"()\\[\\]]\")\n",
    "REMPLACE_AVEC_ESPACE = re.compile(\"()|(\\-)|(\\/)|[.]\")\n",
    "PUR_NOMBRE = re.compile(\"[0-9]\")\n",
    "\n",
    "def preprocess(txt):\n",
    "    txt = PUR_NOMBRE.sub(\"\", txt) # retire les nombres (comme les années)\n",
    "    txt.replace('\\n', ' ')# Retire les \\n (retours chariots)\n",
    "    txt = REMPLACE_SANS_ESPACE.sub(\" \", txt)\n",
    "    txt = REMPLACE_AVEC_ESPACE.sub(\"\", txt)\n",
    "    txt = txt.lower()\n",
    "    return txt\n",
    "\n",
    "df['data'] = df['Review_Text'].apply(lambda x: preprocess(x))"
   ],
   "metadata": {
    "collapsed": false,
    "pycharm": {
     "name": "#%%\n"
    }
   }
  },
  {
   "cell_type": "code",
   "execution_count": null,
   "outputs": [],
   "source": [
    "stemmer = SnowballStemmer('english')\n",
    "df['data'] = df['data'].apply(lambda w: stemmer.stem(w))"
   ],
   "metadata": {
    "collapsed": false,
    "pycharm": {
     "name": "#%%\n"
    }
   }
  },
  {
   "cell_type": "code",
   "execution_count": 11,
   "outputs": [
    {
     "data": {
      "text/plain": "   index  Rating Year_Month     Reviewer_Location  \\\n0      0       5     2019-3  United Arab Emirates   \n1      1       4     2018-6        United Kingdom   \n2      2       5     2019-4        United Kingdom   \n3      3       4     2019-4             Australia   \n4      4       5    missing                France   \n\n                                         Review_Text     year  \\\n0  We've been to Disneyland Hongkong and Tokyo, s...     2019   \n1  I went to Disneyland Paris in April 2018 on Ea...     2018   \n2  What a fantastic place, the queues were decent...     2019   \n3  We didn't realise it was school holidays when ...     2019   \n4  A Trip to Disney makes you all warm and fuzzy ...  missing   \n\n                                                data  \n0  disneyland hongkong tokyo far one best looking...  \n1  went disneyland paris april easter weekend kno...  \n2  fantastic place queues decent best time year g...  \n3  realise school holidays went consequently extr...  \n4  trip disney makes warm fuzzy actual kid big us...  ",
      "text/html": "<div>\n<style scoped>\n    .dataframe tbody tr th:only-of-type {\n        vertical-align: middle;\n    }\n\n    .dataframe tbody tr th {\n        vertical-align: top;\n    }\n\n    .dataframe thead th {\n        text-align: right;\n    }\n</style>\n<table border=\"1\" class=\"dataframe\">\n  <thead>\n    <tr style=\"text-align: right;\">\n      <th></th>\n      <th>index</th>\n      <th>Rating</th>\n      <th>Year_Month</th>\n      <th>Reviewer_Location</th>\n      <th>Review_Text</th>\n      <th>year</th>\n      <th>data</th>\n    </tr>\n  </thead>\n  <tbody>\n    <tr>\n      <th>0</th>\n      <td>0</td>\n      <td>5</td>\n      <td>2019-3</td>\n      <td>United Arab Emirates</td>\n      <td>We've been to Disneyland Hongkong and Tokyo, s...</td>\n      <td>2019</td>\n      <td>disneyland hongkong tokyo far one best looking...</td>\n    </tr>\n    <tr>\n      <th>1</th>\n      <td>1</td>\n      <td>4</td>\n      <td>2018-6</td>\n      <td>United Kingdom</td>\n      <td>I went to Disneyland Paris in April 2018 on Ea...</td>\n      <td>2018</td>\n      <td>went disneyland paris april easter weekend kno...</td>\n    </tr>\n    <tr>\n      <th>2</th>\n      <td>2</td>\n      <td>5</td>\n      <td>2019-4</td>\n      <td>United Kingdom</td>\n      <td>What a fantastic place, the queues were decent...</td>\n      <td>2019</td>\n      <td>fantastic place queues decent best time year g...</td>\n    </tr>\n    <tr>\n      <th>3</th>\n      <td>3</td>\n      <td>4</td>\n      <td>2019-4</td>\n      <td>Australia</td>\n      <td>We didn't realise it was school holidays when ...</td>\n      <td>2019</td>\n      <td>realise school holidays went consequently extr...</td>\n    </tr>\n    <tr>\n      <th>4</th>\n      <td>4</td>\n      <td>5</td>\n      <td>missing</td>\n      <td>France</td>\n      <td>A Trip to Disney makes you all warm and fuzzy ...</td>\n      <td>missing</td>\n      <td>trip disney makes warm fuzzy actual kid big us...</td>\n    </tr>\n  </tbody>\n</table>\n</div>"
     },
     "execution_count": 11,
     "metadata": {},
     "output_type": "execute_result"
    }
   ],
   "source": [
    "eng_stopwords = set(stopwords.words('english'))\n",
    "filtre_stopen =  lambda text: [token for token in text if token.lower() not in eng_stopwords]\n",
    "df['data'] = [' '.join(filtre_stopen(word_tokenize(item))) for item in df['data']]\n",
    "df.head()"
   ],
   "metadata": {
    "collapsed": false,
    "pycharm": {
     "name": "#%%\n"
    }
   }
  },
  {
   "cell_type": "code",
   "execution_count": 16,
   "outputs": [
    {
     "data": {
      "text/plain": "Rating  polar\n1       0         828\n2       0        1044\n3       0        2083\n4       1        3564\n5       1        6111\ndtype: int64"
     },
     "execution_count": 16,
     "metadata": {},
     "output_type": "execute_result"
    }
   ],
   "source": [
    "# Polarisation des ratings :\n",
    "\n",
    "def setClassBin(i):\n",
    "    if i > 3:\n",
    "        return 1\n",
    "    else:\n",
    "        return 0\n",
    "\n",
    "df['polar'] = [setClassBin(x) for x in df.Rating]\n",
    "\n",
    "\n",
    "bilan = df.groupby(['Rating','polar'])\n",
    "bilan.size()"
   ],
   "metadata": {
    "collapsed": false,
    "pycharm": {
     "name": "#%%\n"
    }
   }
  },
  {
   "cell_type": "code",
   "execution_count": 17,
   "outputs": [
    {
     "data": {
      "text/plain": "   index  Rating Year_Month     Reviewer_Location  \\\n0      0       5     2019-3  United Arab Emirates   \n1      1       4     2018-6        United Kingdom   \n2      2       5     2019-4        United Kingdom   \n3      3       4     2019-4             Australia   \n4      4       5    missing                France   \n\n                                         Review_Text     year  \\\n0  We've been to Disneyland Hongkong and Tokyo, s...     2019   \n1  I went to Disneyland Paris in April 2018 on Ea...     2018   \n2  What a fantastic place, the queues were decent...     2019   \n3  We didn't realise it was school holidays when ...     2019   \n4  A Trip to Disney makes you all warm and fuzzy ...  missing   \n\n                                                data  polar  \n0  disneyland hongkong tokyo far one best looking...      1  \n1  went disneyland paris april easter weekend kno...      1  \n2  fantastic place queues decent best time year g...      1  \n3  realise school holidays went consequently extr...      1  \n4  trip disney makes warm fuzzy actual kid big us...      1  ",
      "text/html": "<div>\n<style scoped>\n    .dataframe tbody tr th:only-of-type {\n        vertical-align: middle;\n    }\n\n    .dataframe tbody tr th {\n        vertical-align: top;\n    }\n\n    .dataframe thead th {\n        text-align: right;\n    }\n</style>\n<table border=\"1\" class=\"dataframe\">\n  <thead>\n    <tr style=\"text-align: right;\">\n      <th></th>\n      <th>index</th>\n      <th>Rating</th>\n      <th>Year_Month</th>\n      <th>Reviewer_Location</th>\n      <th>Review_Text</th>\n      <th>year</th>\n      <th>data</th>\n      <th>polar</th>\n    </tr>\n  </thead>\n  <tbody>\n    <tr>\n      <th>0</th>\n      <td>0</td>\n      <td>5</td>\n      <td>2019-3</td>\n      <td>United Arab Emirates</td>\n      <td>We've been to Disneyland Hongkong and Tokyo, s...</td>\n      <td>2019</td>\n      <td>disneyland hongkong tokyo far one best looking...</td>\n      <td>1</td>\n    </tr>\n    <tr>\n      <th>1</th>\n      <td>1</td>\n      <td>4</td>\n      <td>2018-6</td>\n      <td>United Kingdom</td>\n      <td>I went to Disneyland Paris in April 2018 on Ea...</td>\n      <td>2018</td>\n      <td>went disneyland paris april easter weekend kno...</td>\n      <td>1</td>\n    </tr>\n    <tr>\n      <th>2</th>\n      <td>2</td>\n      <td>5</td>\n      <td>2019-4</td>\n      <td>United Kingdom</td>\n      <td>What a fantastic place, the queues were decent...</td>\n      <td>2019</td>\n      <td>fantastic place queues decent best time year g...</td>\n      <td>1</td>\n    </tr>\n    <tr>\n      <th>3</th>\n      <td>3</td>\n      <td>4</td>\n      <td>2019-4</td>\n      <td>Australia</td>\n      <td>We didn't realise it was school holidays when ...</td>\n      <td>2019</td>\n      <td>realise school holidays went consequently extr...</td>\n      <td>1</td>\n    </tr>\n    <tr>\n      <th>4</th>\n      <td>4</td>\n      <td>5</td>\n      <td>missing</td>\n      <td>France</td>\n      <td>A Trip to Disney makes you all warm and fuzzy ...</td>\n      <td>missing</td>\n      <td>trip disney makes warm fuzzy actual kid big us...</td>\n      <td>1</td>\n    </tr>\n  </tbody>\n</table>\n</div>"
     },
     "execution_count": 17,
     "metadata": {},
     "output_type": "execute_result"
    }
   ],
   "source": [
    "\n",
    "df.head()"
   ],
   "metadata": {
    "collapsed": false,
    "pycharm": {
     "name": "#%%\n"
    }
   }
  },
  {
   "cell_type": "code",
   "execution_count": 13,
   "outputs": [
    {
     "data": {
      "text/plain": "CountVectorizer(binary=True)"
     },
     "execution_count": 13,
     "metadata": {},
     "output_type": "execute_result"
    }
   ],
   "source": [
    "from sklearn.feature_extraction.text import CountVectorizer\n",
    "from sklearn.model_selection import train_test_split\n",
    "\n",
    "\n",
    "cv = CountVectorizer(binary=True)\n",
    "cv.fit(df[\"data\"])"
   ],
   "metadata": {
    "collapsed": false,
    "pycharm": {
     "name": "#%%\n"
    }
   }
  },
  {
   "cell_type": "code",
   "execution_count": 14,
   "outputs": [],
   "source": [
    "X = df['data']\n",
    "\n",
    "y = df['polar']\n",
    "\n",
    "X_train, X_test, y_train, y_test = train_test_split(X, y, test_size = 0.2,stratify=y)"
   ],
   "metadata": {
    "collapsed": false,
    "pycharm": {
     "name": "#%%\n"
    }
   }
  },
  {
   "cell_type": "code",
   "execution_count": 15,
   "outputs": [
    {
     "data": {
      "text/plain": "       0      1      2      3      4      5      6      7      8      9      \\\n0          0      0      0      0      0      0      0      0      0      0   \n1          0      0      0      0      0      0      0      0      0      0   \n2          0      0      0      0      0      0      0      0      0      0   \n3          0      0      0      0      0      0      0      0      0      0   \n4          0      0      0      0      0      0      0      0      0      0   \n...      ...    ...    ...    ...    ...    ...    ...    ...    ...    ...   \n13625      0      0      0      0      0      0      0      0      0      0   \n13626      0      0      0      0      0      0      0      0      0      0   \n13627      0      0      0      0      0      0      0      0      0      0   \n13628      0      0      0      0      0      0      0      0      0      0   \n13629      0      0      0      0      0      0      0      0      0      0   \n\n       ...  38154  38155  38156  38157  38158  38159  38160  38161  38162  \\\n0      ...      0      0      0      0      0      0      0      0      0   \n1      ...      0      0      0      0      0      0      0      0      0   \n2      ...      0      0      0      0      0      0      0      0      0   \n3      ...      0      0      0      0      0      0      0      0      0   \n4      ...      0      0      0      0      0      0      0      0      0   \n...    ...    ...    ...    ...    ...    ...    ...    ...    ...    ...   \n13625  ...      0      0      0      0      0      0      0      0      0   \n13626  ...      0      0      0      0      0      0      0      0      0   \n13627  ...      0      0      0      0      0      0      0      0      0   \n13628  ...      0      0      0      0      0      0      0      0      0   \n13629  ...      0      0      0      0      0      0      0      0      0   \n\n       38163  \n0          0  \n1          0  \n2          0  \n3          0  \n4          0  \n...      ...  \n13625      0  \n13626      0  \n13627      0  \n13628      0  \n13629      0  \n\n[13630 rows x 38164 columns]",
      "text/html": "<div>\n<style scoped>\n    .dataframe tbody tr th:only-of-type {\n        vertical-align: middle;\n    }\n\n    .dataframe tbody tr th {\n        vertical-align: top;\n    }\n\n    .dataframe thead th {\n        text-align: right;\n    }\n</style>\n<table border=\"1\" class=\"dataframe\">\n  <thead>\n    <tr style=\"text-align: right;\">\n      <th></th>\n      <th>0</th>\n      <th>1</th>\n      <th>2</th>\n      <th>3</th>\n      <th>4</th>\n      <th>5</th>\n      <th>6</th>\n      <th>7</th>\n      <th>8</th>\n      <th>9</th>\n      <th>...</th>\n      <th>38154</th>\n      <th>38155</th>\n      <th>38156</th>\n      <th>38157</th>\n      <th>38158</th>\n      <th>38159</th>\n      <th>38160</th>\n      <th>38161</th>\n      <th>38162</th>\n      <th>38163</th>\n    </tr>\n  </thead>\n  <tbody>\n    <tr>\n      <th>0</th>\n      <td>0</td>\n      <td>0</td>\n      <td>0</td>\n      <td>0</td>\n      <td>0</td>\n      <td>0</td>\n      <td>0</td>\n      <td>0</td>\n      <td>0</td>\n      <td>0</td>\n      <td>...</td>\n      <td>0</td>\n      <td>0</td>\n      <td>0</td>\n      <td>0</td>\n      <td>0</td>\n      <td>0</td>\n      <td>0</td>\n      <td>0</td>\n      <td>0</td>\n      <td>0</td>\n    </tr>\n    <tr>\n      <th>1</th>\n      <td>0</td>\n      <td>0</td>\n      <td>0</td>\n      <td>0</td>\n      <td>0</td>\n      <td>0</td>\n      <td>0</td>\n      <td>0</td>\n      <td>0</td>\n      <td>0</td>\n      <td>...</td>\n      <td>0</td>\n      <td>0</td>\n      <td>0</td>\n      <td>0</td>\n      <td>0</td>\n      <td>0</td>\n      <td>0</td>\n      <td>0</td>\n      <td>0</td>\n      <td>0</td>\n    </tr>\n    <tr>\n      <th>2</th>\n      <td>0</td>\n      <td>0</td>\n      <td>0</td>\n      <td>0</td>\n      <td>0</td>\n      <td>0</td>\n      <td>0</td>\n      <td>0</td>\n      <td>0</td>\n      <td>0</td>\n      <td>...</td>\n      <td>0</td>\n      <td>0</td>\n      <td>0</td>\n      <td>0</td>\n      <td>0</td>\n      <td>0</td>\n      <td>0</td>\n      <td>0</td>\n      <td>0</td>\n      <td>0</td>\n    </tr>\n    <tr>\n      <th>3</th>\n      <td>0</td>\n      <td>0</td>\n      <td>0</td>\n      <td>0</td>\n      <td>0</td>\n      <td>0</td>\n      <td>0</td>\n      <td>0</td>\n      <td>0</td>\n      <td>0</td>\n      <td>...</td>\n      <td>0</td>\n      <td>0</td>\n      <td>0</td>\n      <td>0</td>\n      <td>0</td>\n      <td>0</td>\n      <td>0</td>\n      <td>0</td>\n      <td>0</td>\n      <td>0</td>\n    </tr>\n    <tr>\n      <th>4</th>\n      <td>0</td>\n      <td>0</td>\n      <td>0</td>\n      <td>0</td>\n      <td>0</td>\n      <td>0</td>\n      <td>0</td>\n      <td>0</td>\n      <td>0</td>\n      <td>0</td>\n      <td>...</td>\n      <td>0</td>\n      <td>0</td>\n      <td>0</td>\n      <td>0</td>\n      <td>0</td>\n      <td>0</td>\n      <td>0</td>\n      <td>0</td>\n      <td>0</td>\n      <td>0</td>\n    </tr>\n    <tr>\n      <th>...</th>\n      <td>...</td>\n      <td>...</td>\n      <td>...</td>\n      <td>...</td>\n      <td>...</td>\n      <td>...</td>\n      <td>...</td>\n      <td>...</td>\n      <td>...</td>\n      <td>...</td>\n      <td>...</td>\n      <td>...</td>\n      <td>...</td>\n      <td>...</td>\n      <td>...</td>\n      <td>...</td>\n      <td>...</td>\n      <td>...</td>\n      <td>...</td>\n      <td>...</td>\n      <td>...</td>\n    </tr>\n    <tr>\n      <th>13625</th>\n      <td>0</td>\n      <td>0</td>\n      <td>0</td>\n      <td>0</td>\n      <td>0</td>\n      <td>0</td>\n      <td>0</td>\n      <td>0</td>\n      <td>0</td>\n      <td>0</td>\n      <td>...</td>\n      <td>0</td>\n      <td>0</td>\n      <td>0</td>\n      <td>0</td>\n      <td>0</td>\n      <td>0</td>\n      <td>0</td>\n      <td>0</td>\n      <td>0</td>\n      <td>0</td>\n    </tr>\n    <tr>\n      <th>13626</th>\n      <td>0</td>\n      <td>0</td>\n      <td>0</td>\n      <td>0</td>\n      <td>0</td>\n      <td>0</td>\n      <td>0</td>\n      <td>0</td>\n      <td>0</td>\n      <td>0</td>\n      <td>...</td>\n      <td>0</td>\n      <td>0</td>\n      <td>0</td>\n      <td>0</td>\n      <td>0</td>\n      <td>0</td>\n      <td>0</td>\n      <td>0</td>\n      <td>0</td>\n      <td>0</td>\n    </tr>\n    <tr>\n      <th>13627</th>\n      <td>0</td>\n      <td>0</td>\n      <td>0</td>\n      <td>0</td>\n      <td>0</td>\n      <td>0</td>\n      <td>0</td>\n      <td>0</td>\n      <td>0</td>\n      <td>0</td>\n      <td>...</td>\n      <td>0</td>\n      <td>0</td>\n      <td>0</td>\n      <td>0</td>\n      <td>0</td>\n      <td>0</td>\n      <td>0</td>\n      <td>0</td>\n      <td>0</td>\n      <td>0</td>\n    </tr>\n    <tr>\n      <th>13628</th>\n      <td>0</td>\n      <td>0</td>\n      <td>0</td>\n      <td>0</td>\n      <td>0</td>\n      <td>0</td>\n      <td>0</td>\n      <td>0</td>\n      <td>0</td>\n      <td>0</td>\n      <td>...</td>\n      <td>0</td>\n      <td>0</td>\n      <td>0</td>\n      <td>0</td>\n      <td>0</td>\n      <td>0</td>\n      <td>0</td>\n      <td>0</td>\n      <td>0</td>\n      <td>0</td>\n    </tr>\n    <tr>\n      <th>13629</th>\n      <td>0</td>\n      <td>0</td>\n      <td>0</td>\n      <td>0</td>\n      <td>0</td>\n      <td>0</td>\n      <td>0</td>\n      <td>0</td>\n      <td>0</td>\n      <td>0</td>\n      <td>...</td>\n      <td>0</td>\n      <td>0</td>\n      <td>0</td>\n      <td>0</td>\n      <td>0</td>\n      <td>0</td>\n      <td>0</td>\n      <td>0</td>\n      <td>0</td>\n      <td>0</td>\n    </tr>\n  </tbody>\n</table>\n<p>13630 rows × 38164 columns</p>\n</div>"
     },
     "execution_count": 15,
     "metadata": {},
     "output_type": "execute_result"
    }
   ],
   "source": [
    "Xf_onehot = cv.transform(df['data'])\n",
    "pd.DataFrame(Xf_onehot.toarray())"
   ],
   "metadata": {
    "collapsed": false,
    "pycharm": {
     "name": "#%%\n"
    }
   }
  },
  {
   "cell_type": "code",
   "execution_count": null,
   "outputs": [],
   "source": [],
   "metadata": {
    "collapsed": false,
    "pycharm": {
     "name": "#%%\n"
    }
   }
  }
 ],
 "metadata": {
  "kernelspec": {
   "display_name": "Python 3",
   "language": "python",
   "name": "python3"
  },
  "language_info": {
   "codemirror_mode": {
    "name": "ipython",
    "version": 2
   },
   "file_extension": ".py",
   "mimetype": "text/x-python",
   "name": "python",
   "nbconvert_exporter": "python",
   "pygments_lexer": "ipython2",
   "version": "2.7.6"
  }
 },
 "nbformat": 4,
 "nbformat_minor": 0
}