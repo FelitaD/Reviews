{
 "cells": [
  {
   "cell_type": "code",
   "metadata": {
    "tags": [],
    "cell_id": "c7437515-b414-4810-a714-d9eee3f81270",
    "deepnote_to_be_reexecuted": false,
    "source_hash": "5c43da47",
    "execution_start": 1644630074028,
    "execution_millis": 181,
    "deepnote_output_heights": [
     21.1875
    ],
    "deepnote_cell_type": "code"
   },
   "source": [
    "import pandas as pd\n",
    "\n",
    "df = pd.DataFrame(pd.read_csv('reviews.csv', sep = ',', header = 0, index_col = 0))\n",
    "df = df.reset_index()\n",
    "df.head()"
   ],
   "execution_count": 1,
   "outputs": [
    {
     "data": {
      "text/plain": "   Rating Year_Month     Reviewer_Location  \\\n0       5     2019-3  United Arab Emirates   \n1       4     2018-6        United Kingdom   \n2       5     2019-4        United Kingdom   \n3       4     2019-4             Australia   \n4       5    missing                France   \n\n                                         Review_Text  \n0  We've been to Disneyland Hongkong and Tokyo, s...  \n1  I went to Disneyland Paris in April 2018 on Ea...  \n2  What a fantastic place, the queues were decent...  \n3  We didn't realise it was school holidays when ...  \n4  A Trip to Disney makes you all warm and fuzzy ...  ",
      "text/html": "<div>\n<style scoped>\n    .dataframe tbody tr th:only-of-type {\n        vertical-align: middle;\n    }\n\n    .dataframe tbody tr th {\n        vertical-align: top;\n    }\n\n    .dataframe thead th {\n        text-align: right;\n    }\n</style>\n<table border=\"1\" class=\"dataframe\">\n  <thead>\n    <tr style=\"text-align: right;\">\n      <th></th>\n      <th>Rating</th>\n      <th>Year_Month</th>\n      <th>Reviewer_Location</th>\n      <th>Review_Text</th>\n    </tr>\n  </thead>\n  <tbody>\n    <tr>\n      <th>0</th>\n      <td>5</td>\n      <td>2019-3</td>\n      <td>United Arab Emirates</td>\n      <td>We've been to Disneyland Hongkong and Tokyo, s...</td>\n    </tr>\n    <tr>\n      <th>1</th>\n      <td>4</td>\n      <td>2018-6</td>\n      <td>United Kingdom</td>\n      <td>I went to Disneyland Paris in April 2018 on Ea...</td>\n    </tr>\n    <tr>\n      <th>2</th>\n      <td>5</td>\n      <td>2019-4</td>\n      <td>United Kingdom</td>\n      <td>What a fantastic place, the queues were decent...</td>\n    </tr>\n    <tr>\n      <th>3</th>\n      <td>4</td>\n      <td>2019-4</td>\n      <td>Australia</td>\n      <td>We didn't realise it was school holidays when ...</td>\n    </tr>\n    <tr>\n      <th>4</th>\n      <td>5</td>\n      <td>missing</td>\n      <td>France</td>\n      <td>A Trip to Disney makes you all warm and fuzzy ...</td>\n    </tr>\n  </tbody>\n</table>\n</div>"
     },
     "execution_count": 1,
     "metadata": {},
     "output_type": "execute_result"
    }
   ]
  },
  {
   "cell_type": "markdown",
   "source": [],
   "metadata": {
    "cell_id": "32ff1b64-825c-4170-854c-0497b0592746",
    "tags": [],
    "deepnote_cell_type": "markdown"
   }
  },
  {
   "cell_type": "code",
   "metadata": {
    "cell_id": "75183026-bd45-4e83-aee3-101a05d67384",
    "tags": [],
    "deepnote_to_be_reexecuted": false,
    "source_hash": "a3848adf",
    "execution_start": 1644688138281,
    "execution_millis": 338,
    "deepnote_output_heights": [
     40.390625
    ],
    "deepnote_cell_type": "code"
   },
   "source": [
    "# print(df)\n",
    "\n",
    "# Suppression des 'missing'\n",
    "\n",
    "# df[df['Year_Month'].str.contains('missing')==True].count().value_counts()\n",
    "# supp = df[df['Year_Month'].str.contains('missing')==True].index\n",
    "# print(supp)\n",
    "# df = df.drop(supp)\n",
    "# df.shape\n",
    "\n",
    "df[df['Review_Text'].str.contains('missing')==True].count().value_counts()\n",
    "# df=df.drop(df[df['Review_Text'].str.contains('missing')==True].index)\n",
    "# df.shape\n",
    "\n",
    "# df[df['Year_Month'].str.contains('missing')==True].count().value_counts()\n",
    "# # df=df.drop(df[df['Review_Text'].str.contains('missing')==True].index)\n",
    "# df.head()"
   ],
   "execution_count": 2,
   "outputs": [
    {
     "data": {
      "text/plain": "213    4\ndtype: int64"
     },
     "execution_count": 2,
     "metadata": {},
     "output_type": "execute_result"
    }
   ]
  },
  {
   "cell_type": "code",
   "execution_count": 10,
   "outputs": [
    {
     "data": {
      "text/plain": "       Rating Year_Month Reviewer_Location  \\\n91          1     2019-4     United States   \n99          3     2019-4     United States   \n177         2     2018-6         Australia   \n209         3     2019-2    United Kingdom   \n210         4     2019-2    United Kingdom   \n...       ...        ...               ...   \n13557       5    missing    United Kingdom   \n13579       4    missing    United Kingdom   \n13587       2    missing     United States   \n13598       3    missing    United Kingdom   \n13603       2    missing       Netherlands   \n\n                                             Review_Text  \n91     As my daughter grew up in southern California ...  \n99     With early morning entrance we had very short ...  \n177    I have visited Disneyland Anaheim probably 10 ...  \n209    I was expecting the same 'Magic' in Disneyland...  \n210    Two established theme parks with lots of rides...  \n...                                                  ...  \n13557  We have just got back from Disneyland Paris, a...  \n13579  People asked if my fiance and I were going to ...  \n13587  I was very disappointed with Disneyland Paris....  \n13598  My husband and I have just returned from Disne...  \n13603  We visited Disneyland Paris with our kids in O...  \n\n[213 rows x 4 columns]",
      "text/html": "<div>\n<style scoped>\n    .dataframe tbody tr th:only-of-type {\n        vertical-align: middle;\n    }\n\n    .dataframe tbody tr th {\n        vertical-align: top;\n    }\n\n    .dataframe thead th {\n        text-align: right;\n    }\n</style>\n<table border=\"1\" class=\"dataframe\">\n  <thead>\n    <tr style=\"text-align: right;\">\n      <th></th>\n      <th>Rating</th>\n      <th>Year_Month</th>\n      <th>Reviewer_Location</th>\n      <th>Review_Text</th>\n    </tr>\n  </thead>\n  <tbody>\n    <tr>\n      <th>91</th>\n      <td>1</td>\n      <td>2019-4</td>\n      <td>United States</td>\n      <td>As my daughter grew up in southern California ...</td>\n    </tr>\n    <tr>\n      <th>99</th>\n      <td>3</td>\n      <td>2019-4</td>\n      <td>United States</td>\n      <td>With early morning entrance we had very short ...</td>\n    </tr>\n    <tr>\n      <th>177</th>\n      <td>2</td>\n      <td>2018-6</td>\n      <td>Australia</td>\n      <td>I have visited Disneyland Anaheim probably 10 ...</td>\n    </tr>\n    <tr>\n      <th>209</th>\n      <td>3</td>\n      <td>2019-2</td>\n      <td>United Kingdom</td>\n      <td>I was expecting the same 'Magic' in Disneyland...</td>\n    </tr>\n    <tr>\n      <th>210</th>\n      <td>4</td>\n      <td>2019-2</td>\n      <td>United Kingdom</td>\n      <td>Two established theme parks with lots of rides...</td>\n    </tr>\n    <tr>\n      <th>...</th>\n      <td>...</td>\n      <td>...</td>\n      <td>...</td>\n      <td>...</td>\n    </tr>\n    <tr>\n      <th>13557</th>\n      <td>5</td>\n      <td>missing</td>\n      <td>United Kingdom</td>\n      <td>We have just got back from Disneyland Paris, a...</td>\n    </tr>\n    <tr>\n      <th>13579</th>\n      <td>4</td>\n      <td>missing</td>\n      <td>United Kingdom</td>\n      <td>People asked if my fiance and I were going to ...</td>\n    </tr>\n    <tr>\n      <th>13587</th>\n      <td>2</td>\n      <td>missing</td>\n      <td>United States</td>\n      <td>I was very disappointed with Disneyland Paris....</td>\n    </tr>\n    <tr>\n      <th>13598</th>\n      <td>3</td>\n      <td>missing</td>\n      <td>United Kingdom</td>\n      <td>My husband and I have just returned from Disne...</td>\n    </tr>\n    <tr>\n      <th>13603</th>\n      <td>2</td>\n      <td>missing</td>\n      <td>Netherlands</td>\n      <td>We visited Disneyland Paris with our kids in O...</td>\n    </tr>\n  </tbody>\n</table>\n<p>213 rows × 4 columns</p>\n</div>"
     },
     "execution_count": 10,
     "metadata": {},
     "output_type": "execute_result"
    }
   ],
   "source": [
    "df[df['Review_Text'].str.contains('missing')]"
   ],
   "metadata": {
    "collapsed": false,
    "pycharm": {
     "name": "#%%\n"
    }
   }
  },
  {
   "cell_type": "code",
   "execution_count": 11,
   "outputs": [
    {
     "data": {
      "text/plain": "'With early morning entrance we had very short lines (5 minutes max) so we were done by early afternoon. The rides themselves seem shorter. Indiana Jones is a roller coaster (I miss the Jeep) and there is no Splash Mountain. A few other big rides missing too. It looked liked Disneyland but the figures just stand in spots so people can line up and get pictures. I would spend money elsewhere if you have already been to Disneyland in the states. '"
     },
     "execution_count": 11,
     "metadata": {},
     "output_type": "execute_result"
    }
   ],
   "source": [
    "df.loc[99, 'Review_Text']"
   ],
   "metadata": {
    "collapsed": false,
    "pycharm": {
     "name": "#%%\n"
    }
   }
  },
  {
   "cell_type": "code",
   "metadata": {
    "cell_id": "52715b0f-c7e6-4121-84e1-49e8702d9ccd",
    "tags": [],
    "deepnote_to_be_reexecuted": false,
    "source_hash": "57031f81",
    "execution_start": 1644630082836,
    "execution_millis": 49,
    "deepnote_output_heights": [
     194
    ],
    "deepnote_cell_type": "code"
   },
   "source": [
    "\n",
    "# Traitement des dates\n",
    "\n",
    "df['year'] = df['Year_Month'].apply(lambda str : str.split('-')[0])\n",
    "# df['month'] = df['Year_Month'].apply(lambda str : str.split('-')[1])\n",
    "\n",
    "\n",
    "df.head()\n",
    "\n",
    "\n",
    "# print(df['Year_Month'].apply(lambda str : str.split('-')))"
   ],
   "execution_count": null,
   "outputs": [
    {
     "output_type": "execute_result",
     "execution_count": 4,
     "data": {
      "application/vnd.deepnote.dataframe.v3+json": {
       "column_count": 5,
       "row_count": 5,
       "columns": [
        {
         "name": "Rating",
         "dtype": "int64",
         "stats": {
          "unique_count": 2,
          "nan_count": 0,
          "min": "4",
          "max": "5",
          "histogram": [
           {
            "bin_start": 4,
            "bin_end": 4.1,
            "count": 2
           },
           {
            "bin_start": 4.1,
            "bin_end": 4.2,
            "count": 0
           },
           {
            "bin_start": 4.2,
            "bin_end": 4.3,
            "count": 0
           },
           {
            "bin_start": 4.3,
            "bin_end": 4.4,
            "count": 0
           },
           {
            "bin_start": 4.4,
            "bin_end": 4.5,
            "count": 0
           },
           {
            "bin_start": 4.5,
            "bin_end": 4.6,
            "count": 0
           },
           {
            "bin_start": 4.6,
            "bin_end": 4.7,
            "count": 0
           },
           {
            "bin_start": 4.7,
            "bin_end": 4.8,
            "count": 0
           },
           {
            "bin_start": 4.8,
            "bin_end": 4.9,
            "count": 0
           },
           {
            "bin_start": 4.9,
            "bin_end": 5,
            "count": 3
           }
          ]
         }
        },
        {
         "name": "Year_Month",
         "dtype": "object",
         "stats": {
          "unique_count": 4,
          "nan_count": 0,
          "categories": [
           {
            "name": "2019-4",
            "count": 2
           },
           {
            "name": "2019-3",
            "count": 1
           },
           {
            "name": "2 others",
            "count": 2
           }
          ]
         }
        },
        {
         "name": "Reviewer_Location",
         "dtype": "object",
         "stats": {
          "unique_count": 4,
          "nan_count": 0,
          "categories": [
           {
            "name": "United Kingdom",
            "count": 2
           },
           {
            "name": "United Arab Emirates",
            "count": 1
           },
           {
            "name": "2 others",
            "count": 2
           }
          ]
         }
        },
        {
         "name": "Review_Text",
         "dtype": "object",
         "stats": {
          "unique_count": 5,
          "nan_count": 0,
          "categories": [
           {
            "name": "We've been to Disneyland Hongkong and Tokyo, so far this one is the best. We're looking forward to visit the biggest one in Orlando. 1 day is not enough, it is recommended to stay in Disney Hotel   Resort so you can enjoy the fast track.. save huge amount of time.. if you're not staying there, plan and strategize your visit by getting all the fast track passes from kiosk nearby the attraction; then come back when it's time for your ride. The projection and fireworks show are out of this world!!",
            "count": 1
           },
           {
            "name": "I went to Disneyland Paris in April 2018 on Easter weekend, I know it says June 2018 but I can't choose a date before then, and I loved it, me and my mum went and as I have autism we managed to get a disability pass for both parks. Disney are excellent with disability access and cater to all types of disabilities, both visible (wheelchair users, etc.) and invisible (autism, etc.), we managed to get on a lot of rides because with the pass you don't queue in the normal queue but the entrance for disabilities. I can only fault one thing when I went we met Spider man and had photos taken but you have to pay for the photos and they are very expensive, even to just pay for one photo. The food wasn't spectacular but it was edible and nice, there is a variety of food outlets so there was plenty of choice. I would loved to go again in Halloween or Christmas but if not I would just love to go again.",
            "count": 1
           },
           {
            "name": "3 others",
            "count": 3
           }
          ]
         }
        },
        {
         "name": "year",
         "dtype": "object",
         "stats": {
          "unique_count": 3,
          "nan_count": 0,
          "categories": [
           {
            "name": "2019",
            "count": 3
           },
           {
            "name": "2018",
            "count": 1
           },
           {
            "name": "missing",
            "count": 1
           }
          ]
         }
        },
        {
         "name": "_deepnote_index_column",
         "dtype": "int64"
        }
       ],
       "rows": [
        {
         "Rating": 5,
         "Year_Month": "2019-3",
         "Reviewer_Location": "United Arab Emirates",
         "Review_Text": "We've been to Disneyland Hongkong and Tokyo, so far this one is the best. We're looking forward to …",
         "year": "2019",
         "_deepnote_index_column": 0
        },
        {
         "Rating": 4,
         "Year_Month": "2018-6",
         "Reviewer_Location": "United Kingdom",
         "Review_Text": "I went to Disneyland Paris in April 2018 on Easter weekend, I know it says June 2018 but I can't ch…",
         "year": "2018",
         "_deepnote_index_column": 1
        },
        {
         "Rating": 5,
         "Year_Month": "2019-4",
         "Reviewer_Location": "United Kingdom",
         "Review_Text": "What a fantastic place, the queues were decent as this is the best time of year to go apparently, w…",
         "year": "2019",
         "_deepnote_index_column": 2
        },
        {
         "Rating": 4,
         "Year_Month": "2019-4",
         "Reviewer_Location": "Australia",
         "Review_Text": "We didn't realise it was school holidays when we went, so consequently it was extremely busy with r…",
         "year": "2019",
         "_deepnote_index_column": 3
        },
        {
         "Rating": 5,
         "Year_Month": "missing",
         "Reviewer_Location": "France",
         "Review_Text": "A Trip to Disney makes you all warm and fuzzy and an actual kid again. It's not as big as the US on…",
         "year": "missing",
         "_deepnote_index_column": 4
        }
       ]
      },
      "text/plain": "   Rating Year_Month     Reviewer_Location  \\\n0       5     2019-3  United Arab Emirates   \n1       4     2018-6        United Kingdom   \n2       5     2019-4        United Kingdom   \n3       4     2019-4             Australia   \n4       5    missing                France   \n\n                                         Review_Text     year  \n0  We've been to Disneyland Hongkong and Tokyo, s...     2019  \n1  I went to Disneyland Paris in April 2018 on Ea...     2018  \n2  What a fantastic place, the queues were decent...     2019  \n3  We didn't realise it was school holidays when ...     2019  \n4  A Trip to Disney makes you all warm and fuzzy ...  missing  ",
      "text/html": "<div>\n<style scoped>\n    .dataframe tbody tr th:only-of-type {\n        vertical-align: middle;\n    }\n\n    .dataframe tbody tr th {\n        vertical-align: top;\n    }\n\n    .dataframe thead th {\n        text-align: right;\n    }\n</style>\n<table border=\"1\" class=\"dataframe\">\n  <thead>\n    <tr style=\"text-align: right;\">\n      <th></th>\n      <th>Rating</th>\n      <th>Year_Month</th>\n      <th>Reviewer_Location</th>\n      <th>Review_Text</th>\n      <th>year</th>\n    </tr>\n  </thead>\n  <tbody>\n    <tr>\n      <th>0</th>\n      <td>5</td>\n      <td>2019-3</td>\n      <td>United Arab Emirates</td>\n      <td>We've been to Disneyland Hongkong and Tokyo, s...</td>\n      <td>2019</td>\n    </tr>\n    <tr>\n      <th>1</th>\n      <td>4</td>\n      <td>2018-6</td>\n      <td>United Kingdom</td>\n      <td>I went to Disneyland Paris in April 2018 on Ea...</td>\n      <td>2018</td>\n    </tr>\n    <tr>\n      <th>2</th>\n      <td>5</td>\n      <td>2019-4</td>\n      <td>United Kingdom</td>\n      <td>What a fantastic place, the queues were decent...</td>\n      <td>2019</td>\n    </tr>\n    <tr>\n      <th>3</th>\n      <td>4</td>\n      <td>2019-4</td>\n      <td>Australia</td>\n      <td>We didn't realise it was school holidays when ...</td>\n      <td>2019</td>\n    </tr>\n    <tr>\n      <th>4</th>\n      <td>5</td>\n      <td>missing</td>\n      <td>France</td>\n      <td>A Trip to Disney makes you all warm and fuzzy ...</td>\n      <td>missing</td>\n    </tr>\n  </tbody>\n</table>\n</div>"
     },
     "metadata": {}
    }
   ]
  },
  {
   "cell_type": "code",
   "metadata": {
    "cell_id": "e105f8c2-145b-4275-91bf-29f877d9aaa6",
    "tags": [],
    "deepnote_to_be_reexecuted": false,
    "source_hash": "9d0b2e53",
    "execution_start": 1644629930335,
    "execution_millis": 16,
    "deepnote_output_heights": [
     null,
     21
    ],
    "deepnote_cell_type": "code"
   },
   "source": [
    "nltk.download('stopwords')\n",
    "nltk.download('wordnet')\n",
    "stop_words = stopwords.words('english')\n",
    "# custom_stop_words = ['Disney', 'Disneyland', 'Disneyworld']\n",
    "nltk.download('omw-1.4')"
   ],
   "execution_count": null,
   "outputs": [
    {
     "output_type": "error",
     "ename": "NameError",
     "evalue": "name 'nltk' is not defined",
     "traceback": [
      "\u001B[0;31m---------------------------------------------------------------------------\u001B[0m",
      "\u001B[0;31mNameError\u001B[0m                                 Traceback (most recent call last)",
      "\u001B[0;32m<ipython-input-10-db2b277ef308>\u001B[0m in \u001B[0;36m<module>\u001B[0;34m\u001B[0m\n\u001B[0;32m----> 1\u001B[0;31m \u001B[0mnltk\u001B[0m\u001B[0;34m.\u001B[0m\u001B[0mdownload\u001B[0m\u001B[0;34m(\u001B[0m\u001B[0;34m'stopwords'\u001B[0m\u001B[0;34m)\u001B[0m\u001B[0;34m\u001B[0m\u001B[0;34m\u001B[0m\u001B[0m\n\u001B[0m\u001B[1;32m      2\u001B[0m \u001B[0mnltk\u001B[0m\u001B[0;34m.\u001B[0m\u001B[0mdownload\u001B[0m\u001B[0;34m(\u001B[0m\u001B[0;34m'wordnet'\u001B[0m\u001B[0;34m)\u001B[0m\u001B[0;34m\u001B[0m\u001B[0;34m\u001B[0m\u001B[0m\n\u001B[1;32m      3\u001B[0m \u001B[0mstop_words\u001B[0m \u001B[0;34m=\u001B[0m \u001B[0mstopwords\u001B[0m\u001B[0;34m.\u001B[0m\u001B[0mwords\u001B[0m\u001B[0;34m(\u001B[0m\u001B[0;34m'english'\u001B[0m\u001B[0;34m)\u001B[0m\u001B[0;34m\u001B[0m\u001B[0;34m\u001B[0m\u001B[0m\n\u001B[1;32m      4\u001B[0m \u001B[0;31m# custom_stop_words = ['Disney', 'Disneyland', 'Disneyworld']\u001B[0m\u001B[0;34m\u001B[0m\u001B[0;34m\u001B[0m\u001B[0;34m\u001B[0m\u001B[0m\n\u001B[1;32m      5\u001B[0m \u001B[0mnltk\u001B[0m\u001B[0;34m.\u001B[0m\u001B[0mdownload\u001B[0m\u001B[0;34m(\u001B[0m\u001B[0;34m'omw-1.4'\u001B[0m\u001B[0;34m)\u001B[0m\u001B[0;34m\u001B[0m\u001B[0;34m\u001B[0m\u001B[0m\n",
      "\u001B[0;31mNameError\u001B[0m: name 'nltk' is not defined"
     ]
    }
   ]
  },
  {
   "cell_type": "code",
   "metadata": {
    "cell_id": "57dccf8a-abae-498c-b7ff-c02d2504196a",
    "tags": [],
    "deepnote_to_be_reexecuted": false,
    "source_hash": "5fbc7501",
    "execution_start": 1644630090351,
    "execution_millis": 14348,
    "deepnote_output_heights": [
     193.96875,
     194
    ],
    "deepnote_cell_type": "code"
   },
   "source": [
    "from nltk.corpus import stopwords\n",
    "from nltk import word_tokenize\n",
    "from nltk.tokenize import sent_tokenize\n",
    "import re\n",
    "# nltk.download('punkt')\n",
    "from nltk.stem.snowball import SnowballStemmer\n",
    "\n",
    "# data = df['Review_Text'][0]\n",
    "\n",
    "REMPLACE_SANS_ESPACE = re.compile(\"[;:!\\'?,\\\"()\\[\\]]\")\n",
    "REMPLACE_AVEC_ESPACE = re.compile(\"()|(\\-)|(\\/)|[.]\")\n",
    "PUR_NOMBRE = re.compile(\"[0-9]\")\n",
    "        \n",
    "def preprocess(txt):\n",
    "    txt = PUR_NOMBRE.sub(\"\", txt) # retire les nombres (comme les années)\n",
    "    txt.replace('\\n', ' ')# Retire les \\n (retours chariots)\n",
    "    txt = REMPLACE_SANS_ESPACE.sub(\" \", txt)\n",
    "    txt = REMPLACE_AVEC_ESPACE.sub(\"\", txt)\n",
    "    txt = txt.lower()\n",
    "    return txt\n",
    "\n",
    "df['data'] = df['Review_Text'].apply(lambda x: preprocess(x))\n",
    "\n",
    "# print(data)\n",
    "# ppdata = preprocess(data)\n",
    "# print(\"ppdata:\", ppdata)\n",
    "\n",
    "\n",
    "stemmer = SnowballStemmer('english') \n",
    "df['data'] = df['data'].apply(lambda w: stemmer.stem(w))\n",
    "\n",
    "\n",
    "\n",
    "eng_stopwords = set(stopwords.words('english'))\n",
    "filtre_stopen =  lambda text: [token for token in text if token.lower() not in eng_stopwords]\n",
    "df['data'] = [' '.join(filtre_stopen(word_tokenize(item))) for item in df['data']]\n",
    "df.head()\n",
    "\n",
    "\n",
    "\n",
    "# fd = nltk.FreqDist(stpdata) \n",
    "# print(fd.most_common())\n",
    "\n",
    "\n",
    "\n",
    "\n"
   ],
   "execution_count": 12,
   "outputs": [
    {
     "data": {
      "text/plain": "   Rating Year_Month     Reviewer_Location  \\\n0       5     2019-3  United Arab Emirates   \n1       4     2018-6        United Kingdom   \n2       5     2019-4        United Kingdom   \n3       4     2019-4             Australia   \n4       5    missing                France   \n\n                                         Review_Text  \\\n0  We've been to Disneyland Hongkong and Tokyo, s...   \n1  I went to Disneyland Paris in April 2018 on Ea...   \n2  What a fantastic place, the queues were decent...   \n3  We didn't realise it was school holidays when ...   \n4  A Trip to Disney makes you all warm and fuzzy ...   \n\n                                                data  \n0  disneyland hongkong tokyo far one best looking...  \n1  went disneyland paris april easter weekend kno...  \n2  fantastic place queues decent best time year g...  \n3  realise school holidays went consequently extr...  \n4  trip disney makes warm fuzzy actual kid big us...  ",
      "text/html": "<div>\n<style scoped>\n    .dataframe tbody tr th:only-of-type {\n        vertical-align: middle;\n    }\n\n    .dataframe tbody tr th {\n        vertical-align: top;\n    }\n\n    .dataframe thead th {\n        text-align: right;\n    }\n</style>\n<table border=\"1\" class=\"dataframe\">\n  <thead>\n    <tr style=\"text-align: right;\">\n      <th></th>\n      <th>Rating</th>\n      <th>Year_Month</th>\n      <th>Reviewer_Location</th>\n      <th>Review_Text</th>\n      <th>data</th>\n    </tr>\n  </thead>\n  <tbody>\n    <tr>\n      <th>0</th>\n      <td>5</td>\n      <td>2019-3</td>\n      <td>United Arab Emirates</td>\n      <td>We've been to Disneyland Hongkong and Tokyo, s...</td>\n      <td>disneyland hongkong tokyo far one best looking...</td>\n    </tr>\n    <tr>\n      <th>1</th>\n      <td>4</td>\n      <td>2018-6</td>\n      <td>United Kingdom</td>\n      <td>I went to Disneyland Paris in April 2018 on Ea...</td>\n      <td>went disneyland paris april easter weekend kno...</td>\n    </tr>\n    <tr>\n      <th>2</th>\n      <td>5</td>\n      <td>2019-4</td>\n      <td>United Kingdom</td>\n      <td>What a fantastic place, the queues were decent...</td>\n      <td>fantastic place queues decent best time year g...</td>\n    </tr>\n    <tr>\n      <th>3</th>\n      <td>4</td>\n      <td>2019-4</td>\n      <td>Australia</td>\n      <td>We didn't realise it was school holidays when ...</td>\n      <td>realise school holidays went consequently extr...</td>\n    </tr>\n    <tr>\n      <th>4</th>\n      <td>5</td>\n      <td>missing</td>\n      <td>France</td>\n      <td>A Trip to Disney makes you all warm and fuzzy ...</td>\n      <td>trip disney makes warm fuzzy actual kid big us...</td>\n    </tr>\n  </tbody>\n</table>\n</div>"
     },
     "execution_count": 12,
     "metadata": {},
     "output_type": "execute_result"
    }
   ]
  },
  {
   "cell_type": "code",
   "metadata": {
    "cell_id": "e3fa995e-1b35-4310-a6d2-4f501846a83d",
    "tags": [],
    "deepnote_to_be_reexecuted": false,
    "source_hash": "752affa4",
    "execution_start": 1644630113273,
    "execution_millis": 47,
    "deepnote_output_heights": [
     136.375
    ],
    "deepnote_cell_type": "code"
   },
   "source": [
    "# Polarisation des ratings :\n",
    "\n",
    "def setClassBin(i):\n",
    "    if i > 3:\n",
    "        return 1\n",
    "    else:\n",
    "        return 0\n",
    "\n",
    "df['polar'] = [setClassBin(x) for x in df.Rating]\n",
    "\n",
    "\n",
    "bilan=df.groupby(['Rating','polar'])\n",
    "bilan.size()\n",
    "\n",
    "df.head()"
   ],
   "execution_count": null,
   "outputs": [
    {
     "output_type": "execute_result",
     "execution_count": 7,
     "data": {
      "application/vnd.deepnote.dataframe.v3+json": {
       "column_count": 7,
       "row_count": 5,
       "columns": [
        {
         "name": "Rating",
         "dtype": "int64",
         "stats": {
          "unique_count": 2,
          "nan_count": 0,
          "min": "4",
          "max": "5",
          "histogram": [
           {
            "bin_start": 4,
            "bin_end": 4.1,
            "count": 2
           },
           {
            "bin_start": 4.1,
            "bin_end": 4.2,
            "count": 0
           },
           {
            "bin_start": 4.2,
            "bin_end": 4.3,
            "count": 0
           },
           {
            "bin_start": 4.3,
            "bin_end": 4.4,
            "count": 0
           },
           {
            "bin_start": 4.4,
            "bin_end": 4.5,
            "count": 0
           },
           {
            "bin_start": 4.5,
            "bin_end": 4.6,
            "count": 0
           },
           {
            "bin_start": 4.6,
            "bin_end": 4.7,
            "count": 0
           },
           {
            "bin_start": 4.7,
            "bin_end": 4.8,
            "count": 0
           },
           {
            "bin_start": 4.8,
            "bin_end": 4.9,
            "count": 0
           },
           {
            "bin_start": 4.9,
            "bin_end": 5,
            "count": 3
           }
          ]
         }
        },
        {
         "name": "Year_Month",
         "dtype": "object",
         "stats": {
          "unique_count": 4,
          "nan_count": 0,
          "categories": [
           {
            "name": "2019-4",
            "count": 2
           },
           {
            "name": "2019-3",
            "count": 1
           },
           {
            "name": "2 others",
            "count": 2
           }
          ]
         }
        },
        {
         "name": "Reviewer_Location",
         "dtype": "object",
         "stats": {
          "unique_count": 4,
          "nan_count": 0,
          "categories": [
           {
            "name": "United Kingdom",
            "count": 2
           },
           {
            "name": "United Arab Emirates",
            "count": 1
           },
           {
            "name": "2 others",
            "count": 2
           }
          ]
         }
        },
        {
         "name": "Review_Text",
         "dtype": "object",
         "stats": {
          "unique_count": 5,
          "nan_count": 0,
          "categories": [
           {
            "name": "We've been to Disneyland Hongkong and Tokyo, so far this one is the best. We're looking forward to visit the biggest one in Orlando. 1 day is not enough, it is recommended to stay in Disney Hotel   Resort so you can enjoy the fast track.. save huge amount of time.. if you're not staying there, plan and strategize your visit by getting all the fast track passes from kiosk nearby the attraction; then come back when it's time for your ride. The projection and fireworks show are out of this world!!",
            "count": 1
           },
           {
            "name": "I went to Disneyland Paris in April 2018 on Easter weekend, I know it says June 2018 but I can't choose a date before then, and I loved it, me and my mum went and as I have autism we managed to get a disability pass for both parks. Disney are excellent with disability access and cater to all types of disabilities, both visible (wheelchair users, etc.) and invisible (autism, etc.), we managed to get on a lot of rides because with the pass you don't queue in the normal queue but the entrance for disabilities. I can only fault one thing when I went we met Spider man and had photos taken but you have to pay for the photos and they are very expensive, even to just pay for one photo. The food wasn't spectacular but it was edible and nice, there is a variety of food outlets so there was plenty of choice. I would loved to go again in Halloween or Christmas but if not I would just love to go again.",
            "count": 1
           },
           {
            "name": "3 others",
            "count": 3
           }
          ]
         }
        },
        {
         "name": "year",
         "dtype": "object",
         "stats": {
          "unique_count": 3,
          "nan_count": 0,
          "categories": [
           {
            "name": "2019",
            "count": 3
           },
           {
            "name": "2018",
            "count": 1
           },
           {
            "name": "missing",
            "count": 1
           }
          ]
         }
        },
        {
         "name": "data",
         "dtype": "object",
         "stats": {
          "unique_count": 5,
          "nan_count": 0,
          "categories": [
           {
            "name": "disneyland hongkong tokyo far one best looking forward visit biggest one orlando day enough recommended stay disney hotel resort enjoy fast track save huge amount time staying plan strategize visit getting fast track passes kiosk nearby attraction come back time ride projection fireworks show world",
            "count": 1
           },
           {
            "name": "went disneyland paris april easter weekend know says june choose date loved mum went autism managed get disability pass parks disney excellent disability access cater types disabilities visible wheelchair users etc invisible autism etc managed get lot rides pass queue normal queue entrance disabilities fault one thing went met spider man photos taken pay photos expensive even pay one photo food spectacular edible nice variety food outlets plenty choice would loved go halloween christmas would love go",
            "count": 1
           },
           {
            "name": "3 others",
            "count": 3
           }
          ]
         }
        },
        {
         "name": "polar",
         "dtype": "int64",
         "stats": {
          "unique_count": 1,
          "nan_count": 0,
          "min": "1",
          "max": "1",
          "histogram": [
           {
            "bin_start": 0.5,
            "bin_end": 0.6,
            "count": 0
           },
           {
            "bin_start": 0.6,
            "bin_end": 0.7,
            "count": 0
           },
           {
            "bin_start": 0.7,
            "bin_end": 0.8,
            "count": 0
           },
           {
            "bin_start": 0.8,
            "bin_end": 0.9,
            "count": 0
           },
           {
            "bin_start": 0.9,
            "bin_end": 1,
            "count": 0
           },
           {
            "bin_start": 1,
            "bin_end": 1.1,
            "count": 5
           },
           {
            "bin_start": 1.1,
            "bin_end": 1.2000000000000002,
            "count": 0
           },
           {
            "bin_start": 1.2000000000000002,
            "bin_end": 1.3,
            "count": 0
           },
           {
            "bin_start": 1.3,
            "bin_end": 1.4,
            "count": 0
           },
           {
            "bin_start": 1.4,
            "bin_end": 1.5,
            "count": 0
           }
          ]
         }
        },
        {
         "name": "_deepnote_index_column",
         "dtype": "int64"
        }
       ],
       "rows": [
        {
         "Rating": 5,
         "Year_Month": "2019-3",
         "Reviewer_Location": "United Arab Emirates",
         "Review_Text": "We've been to Disneyland Hongkong and Tokyo, so far this one is the best. We're looking forward to …",
         "year": "2019",
         "data": "disneyland hongkong tokyo far one best looking forward visit biggest one orlando day enough recomme…",
         "polar": 1,
         "_deepnote_index_column": 0
        },
        {
         "Rating": 4,
         "Year_Month": "2018-6",
         "Reviewer_Location": "United Kingdom",
         "Review_Text": "I went to Disneyland Paris in April 2018 on Easter weekend, I know it says June 2018 but I can't ch…",
         "year": "2018",
         "data": "went disneyland paris april easter weekend know says june choose date loved mum went autism managed…",
         "polar": 1,
         "_deepnote_index_column": 1
        },
        {
         "Rating": 5,
         "Year_Month": "2019-4",
         "Reviewer_Location": "United Kingdom",
         "Review_Text": "What a fantastic place, the queues were decent as this is the best time of year to go apparently, w…",
         "year": "2019",
         "data": "fantastic place queues decent best time year go apparently managed see almost everything bit disapp…",
         "polar": 1,
         "_deepnote_index_column": 2
        },
        {
         "Rating": 4,
         "Year_Month": "2019-4",
         "Reviewer_Location": "Australia",
         "Review_Text": "We didn't realise it was school holidays when we went, so consequently it was extremely busy with r…",
         "year": "2019",
         "data": "realise school holidays went consequently extremely busy ride wait times minutes disappointing went…",
         "polar": 1,
         "_deepnote_index_column": 3
        },
        {
         "Rating": 5,
         "Year_Month": "missing",
         "Reviewer_Location": "France",
         "Review_Text": "A Trip to Disney makes you all warm and fuzzy and an actual kid again. It's not as big as the US on…",
         "year": "missing",
         "data": "trip disney makes warm fuzzy actual kid big us one makes fun filled happy day went rides possible i…",
         "polar": 1,
         "_deepnote_index_column": 4
        }
       ]
      },
      "text/plain": "   Rating Year_Month     Reviewer_Location  \\\n0       5     2019-3  United Arab Emirates   \n1       4     2018-6        United Kingdom   \n2       5     2019-4        United Kingdom   \n3       4     2019-4             Australia   \n4       5    missing                France   \n\n                                         Review_Text     year  \\\n0  We've been to Disneyland Hongkong and Tokyo, s...     2019   \n1  I went to Disneyland Paris in April 2018 on Ea...     2018   \n2  What a fantastic place, the queues were decent...     2019   \n3  We didn't realise it was school holidays when ...     2019   \n4  A Trip to Disney makes you all warm and fuzzy ...  missing   \n\n                                                data  polar  \n0  disneyland hongkong tokyo far one best looking...      1  \n1  went disneyland paris april easter weekend kno...      1  \n2  fantastic place queues decent best time year g...      1  \n3  realise school holidays went consequently extr...      1  \n4  trip disney makes warm fuzzy actual kid big us...      1  ",
      "text/html": "<div>\n<style scoped>\n    .dataframe tbody tr th:only-of-type {\n        vertical-align: middle;\n    }\n\n    .dataframe tbody tr th {\n        vertical-align: top;\n    }\n\n    .dataframe thead th {\n        text-align: right;\n    }\n</style>\n<table border=\"1\" class=\"dataframe\">\n  <thead>\n    <tr style=\"text-align: right;\">\n      <th></th>\n      <th>Rating</th>\n      <th>Year_Month</th>\n      <th>Reviewer_Location</th>\n      <th>Review_Text</th>\n      <th>year</th>\n      <th>data</th>\n      <th>polar</th>\n    </tr>\n  </thead>\n  <tbody>\n    <tr>\n      <th>0</th>\n      <td>5</td>\n      <td>2019-3</td>\n      <td>United Arab Emirates</td>\n      <td>We've been to Disneyland Hongkong and Tokyo, s...</td>\n      <td>2019</td>\n      <td>disneyland hongkong tokyo far one best looking...</td>\n      <td>1</td>\n    </tr>\n    <tr>\n      <th>1</th>\n      <td>4</td>\n      <td>2018-6</td>\n      <td>United Kingdom</td>\n      <td>I went to Disneyland Paris in April 2018 on Ea...</td>\n      <td>2018</td>\n      <td>went disneyland paris april easter weekend kno...</td>\n      <td>1</td>\n    </tr>\n    <tr>\n      <th>2</th>\n      <td>5</td>\n      <td>2019-4</td>\n      <td>United Kingdom</td>\n      <td>What a fantastic place, the queues were decent...</td>\n      <td>2019</td>\n      <td>fantastic place queues decent best time year g...</td>\n      <td>1</td>\n    </tr>\n    <tr>\n      <th>3</th>\n      <td>4</td>\n      <td>2019-4</td>\n      <td>Australia</td>\n      <td>We didn't realise it was school holidays when ...</td>\n      <td>2019</td>\n      <td>realise school holidays went consequently extr...</td>\n      <td>1</td>\n    </tr>\n    <tr>\n      <th>4</th>\n      <td>5</td>\n      <td>missing</td>\n      <td>France</td>\n      <td>A Trip to Disney makes you all warm and fuzzy ...</td>\n      <td>missing</td>\n      <td>trip disney makes warm fuzzy actual kid big us...</td>\n      <td>1</td>\n    </tr>\n  </tbody>\n</table>\n</div>"
     },
     "metadata": {}
    }
   ]
  },
  {
   "cell_type": "markdown",
   "source": [
    "\n"
   ],
   "metadata": {
    "cell_id": "b778e61f-c44f-4214-898c-3f78204fc244",
    "tags": [],
    "deepnote_cell_type": "markdown"
   }
  },
  {
   "cell_type": "code",
   "metadata": {
    "cell_id": "87d664c5-b292-4749-bdd3-6200c9a480f0",
    "tags": [],
    "deepnote_to_be_reexecuted": false,
    "source_hash": "23ce58c0",
    "execution_start": 1644630116805,
    "execution_millis": 1021,
    "deepnote_output_heights": [
     21.1875
    ],
    "deepnote_cell_type": "code"
   },
   "source": [
    "from sklearn.feature_extraction.text import CountVectorizer\n",
    "from sklearn.model_selection import train_test_split \n",
    "\n",
    "\n",
    "cv = CountVectorizer(binary=True)\n",
    "cv.fit(df[\"data\"])\n",
    "\n",
    "\n",
    "\n"
   ],
   "execution_count": null,
   "outputs": [
    {
     "output_type": "execute_result",
     "execution_count": 8,
     "data": {
      "text/plain": "CountVectorizer(binary=True)"
     },
     "metadata": {}
    }
   ]
  },
  {
   "cell_type": "code",
   "metadata": {
    "cell_id": "730ccd8c-4df6-4bee-a4a8-5a273b7adefe",
    "tags": [],
    "deepnote_cell_type": "code"
   },
   "source": [
    "X = df['data']\n",
    "\n",
    "y = df['polar']\n",
    "\n",
    "X_train, X_test, y_train, y_test = train_test_split(X, y, test_size = 0.2,stratify=y)\n"
   ],
   "execution_count": null,
   "outputs": []
  },
  {
   "cell_type": "code",
   "metadata": {
    "cell_id": "e46bc621-7f82-40ae-8629-e6e6a7a0dfe3",
    "tags": [],
    "deepnote_to_be_reexecuted": false,
    "source_hash": "fc0608a0",
    "execution_start": 1644630181249,
    "execution_millis": 1356,
    "deepnote_cell_type": "code",
    "pycharm": {
     "name": "#%%\n"
    }
   },
   "source": [
    "Xf_onehot = cv.transform(df['data'])\n",
    "pd.DataFrame(Xf_onehot.toarray())"
   ],
   "execution_count": null,
   "outputs": [
    {
     "output_type": "error",
     "ename": "KernelInterrupted",
     "evalue": "Execution interrupted by the Jupyter kernel.",
     "traceback": [
      "\u001B[0;31m---------------------------------------------------------------------------\u001B[0m",
      "\u001B[0;31mKernelInterrupted\u001B[0m: Execution interrupted by the Jupyter kernel."
     ]
    }
   ]
  }
 ],
 "nbformat": 4,
 "nbformat_minor": 2,
 "metadata": {
  "orig_nbformat": 2,
  "deepnote": {
   "is_reactive": false
  },
  "deepnote_notebook_id": "dda55942-7df2-4f09-8994-3944182e47ce",
  "deepnote_execution_queue": []
 }
}