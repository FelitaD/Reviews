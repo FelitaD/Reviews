{
 "cells": [
  {
   "cell_type": "markdown",
   "id": "whole-place",
   "metadata": {
    "papermill": {
     "duration": 0.026269,
     "end_time": "2021-06-20T10:34:45.306538",
     "exception": false,
     "start_time": "2021-06-20T10:34:45.280269",
     "status": "completed"
    },
    "tags": []
   },
   "source": [
    "# Twitter Sentiment Analysis\n",
    "![twitter2.jpg](http://blog.datumbox.com/wp-content/uploads/2013/09/twitter2.jpg)"
   ]
  },
  {
   "cell_type": "markdown",
   "id": "paperback-edition",
   "metadata": {
    "papermill": {
     "duration": 0.030117,
     "end_time": "2021-06-20T10:34:45.361886",
     "exception": false,
     "start_time": "2021-06-20T10:34:45.331769",
     "status": "completed"
    },
    "tags": []
   },
   "source": [
    "## Importing Library"
   ]
  },
  {
   "cell_type": "code",
   "execution_count": 1,
   "id": "brave-ideal",
   "metadata": {
    "execution": {
     "iopub.execute_input": "2021-06-20T10:34:45.417852Z",
     "iopub.status.busy": "2021-06-20T10:34:45.416041Z",
     "iopub.status.idle": "2021-06-20T10:34:52.040249Z",
     "shell.execute_reply": "2021-06-20T10:34:52.040762Z"
    },
    "papermill": {
     "duration": 6.653263,
     "end_time": "2021-06-20T10:34:52.041048",
     "exception": false,
     "start_time": "2021-06-20T10:34:45.387785",
     "status": "completed"
    },
    "tags": []
   },
   "outputs": [
    {
     "data": {
      "text/html": [
       "<div>\n",
       "<style scoped>\n",
       "    .dataframe tbody tr th:only-of-type {\n",
       "        vertical-align: middle;\n",
       "    }\n",
       "\n",
       "    .dataframe tbody tr th {\n",
       "        vertical-align: top;\n",
       "    }\n",
       "\n",
       "    .dataframe thead th {\n",
       "        text-align: right;\n",
       "    }\n",
       "</style>\n",
       "<table border=\"1\" class=\"dataframe\">\n",
       "  <thead>\n",
       "    <tr style=\"text-align: right;\">\n",
       "      <th></th>\n",
       "      <th>sentiment</th>\n",
       "      <th>id</th>\n",
       "      <th>date</th>\n",
       "      <th>query</th>\n",
       "      <th>user</th>\n",
       "      <th>tweet</th>\n",
       "    </tr>\n",
       "  </thead>\n",
       "  <tbody>\n",
       "    <tr>\n",
       "      <th>0</th>\n",
       "      <td>0</td>\n",
       "      <td>1467810369</td>\n",
       "      <td>Mon Apr 06 22:19:45 PDT 2009</td>\n",
       "      <td>NO_QUERY</td>\n",
       "      <td>_TheSpecialOne_</td>\n",
       "      <td>@switchfoot http://twitpic.com/2y1zl - Awww, t...</td>\n",
       "    </tr>\n",
       "    <tr>\n",
       "      <th>1</th>\n",
       "      <td>0</td>\n",
       "      <td>1467810672</td>\n",
       "      <td>Mon Apr 06 22:19:49 PDT 2009</td>\n",
       "      <td>NO_QUERY</td>\n",
       "      <td>scotthamilton</td>\n",
       "      <td>is upset that he can't update his Facebook by ...</td>\n",
       "    </tr>\n",
       "    <tr>\n",
       "      <th>2</th>\n",
       "      <td>0</td>\n",
       "      <td>1467810917</td>\n",
       "      <td>Mon Apr 06 22:19:53 PDT 2009</td>\n",
       "      <td>NO_QUERY</td>\n",
       "      <td>mattycus</td>\n",
       "      <td>@Kenichan I dived many times for the ball. Man...</td>\n",
       "    </tr>\n",
       "    <tr>\n",
       "      <th>3</th>\n",
       "      <td>0</td>\n",
       "      <td>1467811184</td>\n",
       "      <td>Mon Apr 06 22:19:57 PDT 2009</td>\n",
       "      <td>NO_QUERY</td>\n",
       "      <td>ElleCTF</td>\n",
       "      <td>my whole body feels itchy and like its on fire</td>\n",
       "    </tr>\n",
       "    <tr>\n",
       "      <th>4</th>\n",
       "      <td>0</td>\n",
       "      <td>1467811193</td>\n",
       "      <td>Mon Apr 06 22:19:57 PDT 2009</td>\n",
       "      <td>NO_QUERY</td>\n",
       "      <td>Karoli</td>\n",
       "      <td>@nationwideclass no, it's not behaving at all....</td>\n",
       "    </tr>\n",
       "    <tr>\n",
       "      <th>...</th>\n",
       "      <td>...</td>\n",
       "      <td>...</td>\n",
       "      <td>...</td>\n",
       "      <td>...</td>\n",
       "      <td>...</td>\n",
       "      <td>...</td>\n",
       "    </tr>\n",
       "    <tr>\n",
       "      <th>1599995</th>\n",
       "      <td>4</td>\n",
       "      <td>2193601966</td>\n",
       "      <td>Tue Jun 16 08:40:49 PDT 2009</td>\n",
       "      <td>NO_QUERY</td>\n",
       "      <td>AmandaMarie1028</td>\n",
       "      <td>Just woke up. Having no school is the best fee...</td>\n",
       "    </tr>\n",
       "    <tr>\n",
       "      <th>1599996</th>\n",
       "      <td>4</td>\n",
       "      <td>2193601969</td>\n",
       "      <td>Tue Jun 16 08:40:49 PDT 2009</td>\n",
       "      <td>NO_QUERY</td>\n",
       "      <td>TheWDBoards</td>\n",
       "      <td>TheWDB.com - Very cool to hear old Walt interv...</td>\n",
       "    </tr>\n",
       "    <tr>\n",
       "      <th>1599997</th>\n",
       "      <td>4</td>\n",
       "      <td>2193601991</td>\n",
       "      <td>Tue Jun 16 08:40:49 PDT 2009</td>\n",
       "      <td>NO_QUERY</td>\n",
       "      <td>bpbabe</td>\n",
       "      <td>Are you ready for your MoJo Makeover? Ask me f...</td>\n",
       "    </tr>\n",
       "    <tr>\n",
       "      <th>1599998</th>\n",
       "      <td>4</td>\n",
       "      <td>2193602064</td>\n",
       "      <td>Tue Jun 16 08:40:49 PDT 2009</td>\n",
       "      <td>NO_QUERY</td>\n",
       "      <td>tinydiamondz</td>\n",
       "      <td>Happy 38th Birthday to my boo of alll time!!! ...</td>\n",
       "    </tr>\n",
       "    <tr>\n",
       "      <th>1599999</th>\n",
       "      <td>4</td>\n",
       "      <td>2193602129</td>\n",
       "      <td>Tue Jun 16 08:40:50 PDT 2009</td>\n",
       "      <td>NO_QUERY</td>\n",
       "      <td>RyanTrevMorris</td>\n",
       "      <td>happy #charitytuesday @theNSPCC @SparksCharity...</td>\n",
       "    </tr>\n",
       "  </tbody>\n",
       "</table>\n",
       "<p>1600000 rows × 6 columns</p>\n",
       "</div>"
      ],
      "text/plain": [
       "         sentiment          id                          date     query  \\\n",
       "0                0  1467810369  Mon Apr 06 22:19:45 PDT 2009  NO_QUERY   \n",
       "1                0  1467810672  Mon Apr 06 22:19:49 PDT 2009  NO_QUERY   \n",
       "2                0  1467810917  Mon Apr 06 22:19:53 PDT 2009  NO_QUERY   \n",
       "3                0  1467811184  Mon Apr 06 22:19:57 PDT 2009  NO_QUERY   \n",
       "4                0  1467811193  Mon Apr 06 22:19:57 PDT 2009  NO_QUERY   \n",
       "...            ...         ...                           ...       ...   \n",
       "1599995          4  2193601966  Tue Jun 16 08:40:49 PDT 2009  NO_QUERY   \n",
       "1599996          4  2193601969  Tue Jun 16 08:40:49 PDT 2009  NO_QUERY   \n",
       "1599997          4  2193601991  Tue Jun 16 08:40:49 PDT 2009  NO_QUERY   \n",
       "1599998          4  2193602064  Tue Jun 16 08:40:49 PDT 2009  NO_QUERY   \n",
       "1599999          4  2193602129  Tue Jun 16 08:40:50 PDT 2009  NO_QUERY   \n",
       "\n",
       "                    user                                              tweet  \n",
       "0        _TheSpecialOne_  @switchfoot http://twitpic.com/2y1zl - Awww, t...  \n",
       "1          scotthamilton  is upset that he can't update his Facebook by ...  \n",
       "2               mattycus  @Kenichan I dived many times for the ball. Man...  \n",
       "3                ElleCTF    my whole body feels itchy and like its on fire   \n",
       "4                 Karoli  @nationwideclass no, it's not behaving at all....  \n",
       "...                  ...                                                ...  \n",
       "1599995  AmandaMarie1028  Just woke up. Having no school is the best fee...  \n",
       "1599996      TheWDBoards  TheWDB.com - Very cool to hear old Walt interv...  \n",
       "1599997           bpbabe  Are you ready for your MoJo Makeover? Ask me f...  \n",
       "1599998     tinydiamondz  Happy 38th Birthday to my boo of alll time!!! ...  \n",
       "1599999   RyanTrevMorris  happy #charitytuesday @theNSPCC @SparksCharity...  \n",
       "\n",
       "[1600000 rows x 6 columns]"
      ]
     },
     "execution_count": 1,
     "metadata": {},
     "output_type": "execute_result"
    }
   ],
   "source": [
    "import pandas as pd\n",
    "import numpy as np\n",
    "import matplotlib as nlp\n",
    "tweets=pd.read_csv('../input/sentiment140/training.1600000.processed.noemoticon.csv',encoding='latin', \n",
    "                   names = ['sentiment','id','date','query','user','tweet'])\n",
    "tweets"
   ]
  },
  {
   "cell_type": "code",
   "execution_count": 2,
   "id": "isolated-bicycle",
   "metadata": {
    "execution": {
     "iopub.execute_input": "2021-06-20T10:34:52.096731Z",
     "iopub.status.busy": "2021-06-20T10:34:52.096045Z",
     "iopub.status.idle": "2021-06-20T10:34:53.410787Z",
     "shell.execute_reply": "2021-06-20T10:34:53.411263Z"
    },
    "papermill": {
     "duration": 1.345454,
     "end_time": "2021-06-20T10:34:53.411479",
     "exception": false,
     "start_time": "2021-06-20T10:34:52.066025",
     "status": "completed"
    },
    "tags": []
   },
   "outputs": [
    {
     "name": "stdout",
     "output_type": "stream",
     "text": [
      "Dataset shape: (200000, 6)\n"
     ]
    }
   ],
   "source": [
    "tweets = tweets.sample(frac=1)\n",
    "tweets = tweets[:200000]\n",
    "print(\"Dataset shape:\", tweets.shape)"
   ]
  },
  {
   "cell_type": "code",
   "execution_count": 3,
   "id": "assisted-fields",
   "metadata": {
    "execution": {
     "iopub.execute_input": "2021-06-20T10:34:53.470740Z",
     "iopub.status.busy": "2021-06-20T10:34:53.469709Z",
     "iopub.status.idle": "2021-06-20T10:34:53.476391Z",
     "shell.execute_reply": "2021-06-20T10:34:53.475734Z"
    },
    "papermill": {
     "duration": 0.039405,
     "end_time": "2021-06-20T10:34:53.476544",
     "exception": false,
     "start_time": "2021-06-20T10:34:53.437139",
     "status": "completed"
    },
    "tags": []
   },
   "outputs": [
    {
     "data": {
      "text/plain": [
       "array([0, 4])"
      ]
     },
     "execution_count": 3,
     "metadata": {},
     "output_type": "execute_result"
    }
   ],
   "source": [
    "tweets['sentiment'].unique()"
   ]
  },
  {
   "cell_type": "markdown",
   "id": "international-papua",
   "metadata": {
    "papermill": {
     "duration": 0.024806,
     "end_time": "2021-06-20T10:34:53.526885",
     "exception": false,
     "start_time": "2021-06-20T10:34:53.502079",
     "status": "completed"
    },
    "tags": []
   },
   "source": [
    "## Step 1 : Currently (0=negative,4=Positive) changing the notation to (0=Negative,1=Positive) \n",
    "### So that we can understand the data"
   ]
  },
  {
   "cell_type": "code",
   "execution_count": 4,
   "id": "reflected-chamber",
   "metadata": {
    "execution": {
     "iopub.execute_input": "2021-06-20T10:34:53.583990Z",
     "iopub.status.busy": "2021-06-20T10:34:53.583244Z",
     "iopub.status.idle": "2021-06-20T10:34:53.601198Z",
     "shell.execute_reply": "2021-06-20T10:34:53.600618Z"
    },
    "papermill": {
     "duration": 0.049098,
     "end_time": "2021-06-20T10:34:53.601335",
     "exception": false,
     "start_time": "2021-06-20T10:34:53.552237",
     "status": "completed"
    },
    "tags": []
   },
   "outputs": [
    {
     "data": {
      "text/html": [
       "<div>\n",
       "<style scoped>\n",
       "    .dataframe tbody tr th:only-of-type {\n",
       "        vertical-align: middle;\n",
       "    }\n",
       "\n",
       "    .dataframe tbody tr th {\n",
       "        vertical-align: top;\n",
       "    }\n",
       "\n",
       "    .dataframe thead th {\n",
       "        text-align: right;\n",
       "    }\n",
       "</style>\n",
       "<table border=\"1\" class=\"dataframe\">\n",
       "  <thead>\n",
       "    <tr style=\"text-align: right;\">\n",
       "      <th></th>\n",
       "      <th>sentiment</th>\n",
       "      <th>id</th>\n",
       "      <th>date</th>\n",
       "      <th>query</th>\n",
       "      <th>user</th>\n",
       "      <th>tweet</th>\n",
       "    </tr>\n",
       "  </thead>\n",
       "  <tbody>\n",
       "    <tr>\n",
       "      <th>65755</th>\n",
       "      <td>0</td>\n",
       "      <td>1691157484</td>\n",
       "      <td>Sun May 03 17:13:35 PDT 2009</td>\n",
       "      <td>NO_QUERY</td>\n",
       "      <td>kellyannimal</td>\n",
       "      <td>I miss my boyfriend</td>\n",
       "    </tr>\n",
       "    <tr>\n",
       "      <th>1368453</th>\n",
       "      <td>1</td>\n",
       "      <td>2050602219</td>\n",
       "      <td>Fri Jun 05 18:58:06 PDT 2009</td>\n",
       "      <td>NO_QUERY</td>\n",
       "      <td>jaynenorthover</td>\n",
       "      <td>Kmart where good times start</td>\n",
       "    </tr>\n",
       "    <tr>\n",
       "      <th>352005</th>\n",
       "      <td>0</td>\n",
       "      <td>2018973431</td>\n",
       "      <td>Wed Jun 03 10:48:08 PDT 2009</td>\n",
       "      <td>NO_QUERY</td>\n",
       "      <td>VHL_PGD_GIRL</td>\n",
       "      <td>Don't see anything on news about it yet. Hopef...</td>\n",
       "    </tr>\n",
       "    <tr>\n",
       "      <th>239422</th>\n",
       "      <td>0</td>\n",
       "      <td>1980622571</td>\n",
       "      <td>Sun May 31 07:14:44 PDT 2009</td>\n",
       "      <td>NO_QUERY</td>\n",
       "      <td>katty2007</td>\n",
       "      <td>trying to work now after a yummy lunch....alth...</td>\n",
       "    </tr>\n",
       "    <tr>\n",
       "      <th>680801</th>\n",
       "      <td>0</td>\n",
       "      <td>2249589416</td>\n",
       "      <td>Fri Jun 19 22:37:22 PDT 2009</td>\n",
       "      <td>NO_QUERY</td>\n",
       "      <td>cmlovesyou</td>\n",
       "      <td>why is ryan reynolds married?</td>\n",
       "    </tr>\n",
       "    <tr>\n",
       "      <th>...</th>\n",
       "      <td>...</td>\n",
       "      <td>...</td>\n",
       "      <td>...</td>\n",
       "      <td>...</td>\n",
       "      <td>...</td>\n",
       "      <td>...</td>\n",
       "    </tr>\n",
       "    <tr>\n",
       "      <th>1213379</th>\n",
       "      <td>1</td>\n",
       "      <td>1989345039</td>\n",
       "      <td>Mon Jun 01 01:11:54 PDT 2009</td>\n",
       "      <td>NO_QUERY</td>\n",
       "      <td>suburbman</td>\n",
       "      <td>@Judyastley</td>\n",
       "    </tr>\n",
       "    <tr>\n",
       "      <th>320637</th>\n",
       "      <td>0</td>\n",
       "      <td>2003454577</td>\n",
       "      <td>Tue Jun 02 06:33:47 PDT 2009</td>\n",
       "      <td>NO_QUERY</td>\n",
       "      <td>stevecrowther</td>\n",
       "      <td>NUMBERS!!! I never was a fan of numbers. I rea...</td>\n",
       "    </tr>\n",
       "    <tr>\n",
       "      <th>216500</th>\n",
       "      <td>0</td>\n",
       "      <td>1975721220</td>\n",
       "      <td>Sat May 30 15:45:32 PDT 2009</td>\n",
       "      <td>NO_QUERY</td>\n",
       "      <td>jessiedidnot</td>\n",
       "      <td>ahh im so  shaheen didnt win actually.</td>\n",
       "    </tr>\n",
       "    <tr>\n",
       "      <th>1059041</th>\n",
       "      <td>1</td>\n",
       "      <td>1963093979</td>\n",
       "      <td>Fri May 29 12:11:36 PDT 2009</td>\n",
       "      <td>NO_QUERY</td>\n",
       "      <td>Scath</td>\n",
       "      <td>@writeinink Heh, heh, heh. Okay, you just tota...</td>\n",
       "    </tr>\n",
       "    <tr>\n",
       "      <th>1324653</th>\n",
       "      <td>1</td>\n",
       "      <td>2015031568</td>\n",
       "      <td>Wed Jun 03 03:29:16 PDT 2009</td>\n",
       "      <td>NO_QUERY</td>\n",
       "      <td>tawnykw</td>\n",
       "      <td>Sick.  I've been up since midnight.  My pocket...</td>\n",
       "    </tr>\n",
       "  </tbody>\n",
       "</table>\n",
       "<p>200000 rows × 6 columns</p>\n",
       "</div>"
      ],
      "text/plain": [
       "         sentiment          id                          date     query  \\\n",
       "65755            0  1691157484  Sun May 03 17:13:35 PDT 2009  NO_QUERY   \n",
       "1368453          1  2050602219  Fri Jun 05 18:58:06 PDT 2009  NO_QUERY   \n",
       "352005           0  2018973431  Wed Jun 03 10:48:08 PDT 2009  NO_QUERY   \n",
       "239422           0  1980622571  Sun May 31 07:14:44 PDT 2009  NO_QUERY   \n",
       "680801           0  2249589416  Fri Jun 19 22:37:22 PDT 2009  NO_QUERY   \n",
       "...            ...         ...                           ...       ...   \n",
       "1213379          1  1989345039  Mon Jun 01 01:11:54 PDT 2009  NO_QUERY   \n",
       "320637           0  2003454577  Tue Jun 02 06:33:47 PDT 2009  NO_QUERY   \n",
       "216500           0  1975721220  Sat May 30 15:45:32 PDT 2009  NO_QUERY   \n",
       "1059041          1  1963093979  Fri May 29 12:11:36 PDT 2009  NO_QUERY   \n",
       "1324653          1  2015031568  Wed Jun 03 03:29:16 PDT 2009  NO_QUERY   \n",
       "\n",
       "                   user                                              tweet  \n",
       "65755      kellyannimal                               I miss my boyfriend   \n",
       "1368453  jaynenorthover                      Kmart where good times start   \n",
       "352005     VHL_PGD_GIRL  Don't see anything on news about it yet. Hopef...  \n",
       "239422        katty2007  trying to work now after a yummy lunch....alth...  \n",
       "680801       cmlovesyou                     why is ryan reynolds married?   \n",
       "...                 ...                                                ...  \n",
       "1213379       suburbman                                       @Judyastley   \n",
       "320637    stevecrowther  NUMBERS!!! I never was a fan of numbers. I rea...  \n",
       "216500     jessiedidnot             ahh im so  shaheen didnt win actually.  \n",
       "1059041           Scath  @writeinink Heh, heh, heh. Okay, you just tota...  \n",
       "1324653         tawnykw  Sick.  I've been up since midnight.  My pocket...  \n",
       "\n",
       "[200000 rows x 6 columns]"
      ]
     },
     "execution_count": 4,
     "metadata": {},
     "output_type": "execute_result"
    }
   ],
   "source": [
    "tweets['sentiment']=tweets['sentiment'].replace(4,1)\n",
    "tweets"
   ]
  },
  {
   "cell_type": "markdown",
   "id": "unable-footwear",
   "metadata": {
    "papermill": {
     "duration": 0.026491,
     "end_time": "2021-06-20T10:34:53.654225",
     "exception": false,
     "start_time": "2021-06-20T10:34:53.627734",
     "status": "completed"
    },
    "tags": []
   },
   "source": [
    "## Removing the unnecessary columns."
   ]
  },
  {
   "cell_type": "code",
   "execution_count": 5,
   "id": "vertical-tunisia",
   "metadata": {
    "execution": {
     "iopub.execute_input": "2021-06-20T10:34:53.834454Z",
     "iopub.status.busy": "2021-06-20T10:34:53.713669Z",
     "iopub.status.idle": "2021-06-20T10:34:53.861543Z",
     "shell.execute_reply": "2021-06-20T10:34:53.860995Z"
    },
    "papermill": {
     "duration": 0.180739,
     "end_time": "2021-06-20T10:34:53.861695",
     "exception": false,
     "start_time": "2021-06-20T10:34:53.680956",
     "status": "completed"
    },
    "tags": []
   },
   "outputs": [
    {
     "data": {
      "text/html": [
       "<div>\n",
       "<style scoped>\n",
       "    .dataframe tbody tr th:only-of-type {\n",
       "        vertical-align: middle;\n",
       "    }\n",
       "\n",
       "    .dataframe tbody tr th {\n",
       "        vertical-align: top;\n",
       "    }\n",
       "\n",
       "    .dataframe thead th {\n",
       "        text-align: right;\n",
       "    }\n",
       "</style>\n",
       "<table border=\"1\" class=\"dataframe\">\n",
       "  <thead>\n",
       "    <tr style=\"text-align: right;\">\n",
       "      <th></th>\n",
       "      <th>sentiment</th>\n",
       "      <th>tweet</th>\n",
       "    </tr>\n",
       "  </thead>\n",
       "  <tbody>\n",
       "    <tr>\n",
       "      <th>65755</th>\n",
       "      <td>0</td>\n",
       "      <td>I miss my boyfriend</td>\n",
       "    </tr>\n",
       "    <tr>\n",
       "      <th>1368453</th>\n",
       "      <td>1</td>\n",
       "      <td>Kmart where good times start</td>\n",
       "    </tr>\n",
       "    <tr>\n",
       "      <th>352005</th>\n",
       "      <td>0</td>\n",
       "      <td>Don't see anything on news about it yet. Hopef...</td>\n",
       "    </tr>\n",
       "    <tr>\n",
       "      <th>239422</th>\n",
       "      <td>0</td>\n",
       "      <td>trying to work now after a yummy lunch....alth...</td>\n",
       "    </tr>\n",
       "    <tr>\n",
       "      <th>680801</th>\n",
       "      <td>0</td>\n",
       "      <td>why is ryan reynolds married?</td>\n",
       "    </tr>\n",
       "    <tr>\n",
       "      <th>996869</th>\n",
       "      <td>1</td>\n",
       "      <td>@MarketingProfs ha I'm sure  I've been subscri...</td>\n",
       "    </tr>\n",
       "    <tr>\n",
       "      <th>768009</th>\n",
       "      <td>0</td>\n",
       "      <td>The blueness never took a backseat  I REALLY n...</td>\n",
       "    </tr>\n",
       "    <tr>\n",
       "      <th>660892</th>\n",
       "      <td>0</td>\n",
       "      <td>feeling slightly sick- too much ice cream  my ...</td>\n",
       "    </tr>\n",
       "    <tr>\n",
       "      <th>580869</th>\n",
       "      <td>0</td>\n",
       "      <td>@ChryssyLynn T.R. Knight. yep,they kill George...</td>\n",
       "    </tr>\n",
       "    <tr>\n",
       "      <th>1321293</th>\n",
       "      <td>1</td>\n",
       "      <td>off to fit school uniforms. and get some iced ...</td>\n",
       "    </tr>\n",
       "  </tbody>\n",
       "</table>\n",
       "</div>"
      ],
      "text/plain": [
       "         sentiment                                              tweet\n",
       "65755            0                               I miss my boyfriend \n",
       "1368453          1                      Kmart where good times start \n",
       "352005           0  Don't see anything on news about it yet. Hopef...\n",
       "239422           0  trying to work now after a yummy lunch....alth...\n",
       "680801           0                     why is ryan reynolds married? \n",
       "996869           1  @MarketingProfs ha I'm sure  I've been subscri...\n",
       "768009           0  The blueness never took a backseat  I REALLY n...\n",
       "660892           0  feeling slightly sick- too much ice cream  my ...\n",
       "580869           0  @ChryssyLynn T.R. Knight. yep,they kill George...\n",
       "1321293          1  off to fit school uniforms. and get some iced ..."
      ]
     },
     "execution_count": 5,
     "metadata": {},
     "output_type": "execute_result"
    }
   ],
   "source": [
    "tweets.drop(['date','query','user'], axis=1, inplace=True)\n",
    "tweets.drop('id', axis=1, inplace=True)\n",
    "tweets.head(10)"
   ]
  },
  {
   "cell_type": "markdown",
   "id": "unlike-mauritius",
   "metadata": {
    "papermill": {
     "duration": 0.026876,
     "end_time": "2021-06-20T10:34:53.915403",
     "exception": false,
     "start_time": "2021-06-20T10:34:53.888527",
     "status": "completed"
    },
    "tags": []
   },
   "source": [
    "## Checking if any null values present"
   ]
  },
  {
   "cell_type": "code",
   "execution_count": 6,
   "id": "sharp-sound",
   "metadata": {
    "execution": {
     "iopub.execute_input": "2021-06-20T10:34:54.009641Z",
     "iopub.status.busy": "2021-06-20T10:34:54.008959Z",
     "iopub.status.idle": "2021-06-20T10:34:54.029701Z",
     "shell.execute_reply": "2021-06-20T10:34:54.030165Z"
    },
    "papermill": {
     "duration": 0.087779,
     "end_time": "2021-06-20T10:34:54.030344",
     "exception": false,
     "start_time": "2021-06-20T10:34:53.942565",
     "status": "completed"
    },
    "tags": []
   },
   "outputs": [
    {
     "data": {
      "text/plain": [
       "sentiment    0.0\n",
       "tweet        0.0\n",
       "dtype: float64"
      ]
     },
     "execution_count": 6,
     "metadata": {},
     "output_type": "execute_result"
    }
   ],
   "source": [
    "(tweets.isnull().sum() / len(tweets))*100"
   ]
  },
  {
   "cell_type": "code",
   "execution_count": 7,
   "id": "catholic-movement",
   "metadata": {
    "execution": {
     "iopub.execute_input": "2021-06-20T10:34:54.089297Z",
     "iopub.status.busy": "2021-06-20T10:34:54.088718Z",
     "iopub.status.idle": "2021-06-20T10:34:54.137601Z",
     "shell.execute_reply": "2021-06-20T10:34:54.138066Z"
    },
    "papermill": {
     "duration": 0.080202,
     "end_time": "2021-06-20T10:34:54.138248",
     "exception": false,
     "start_time": "2021-06-20T10:34:54.058046",
     "status": "completed"
    },
    "tags": []
   },
   "outputs": [],
   "source": [
    "#converting pandas object to a string type\n",
    "tweets['tweet'] = tweets['tweet'].astype('str')"
   ]
  },
  {
   "cell_type": "markdown",
   "id": "generous-separation",
   "metadata": {
    "papermill": {
     "duration": 0.02759,
     "end_time": "2021-06-20T10:34:54.193182",
     "exception": false,
     "start_time": "2021-06-20T10:34:54.165592",
     "status": "completed"
    },
    "tags": []
   },
   "source": [
    "## Check the number of positive vs. negative tagged sentences"
   ]
  },
  {
   "cell_type": "code",
   "execution_count": 8,
   "id": "straight-boards",
   "metadata": {
    "execution": {
     "iopub.execute_input": "2021-06-20T10:34:54.253191Z",
     "iopub.status.busy": "2021-06-20T10:34:54.252505Z",
     "iopub.status.idle": "2021-06-20T10:34:54.270606Z",
     "shell.execute_reply": "2021-06-20T10:34:54.270091Z"
    },
    "papermill": {
     "duration": 0.048133,
     "end_time": "2021-06-20T10:34:54.270744",
     "exception": false,
     "start_time": "2021-06-20T10:34:54.222611",
     "status": "completed"
    },
    "tags": []
   },
   "outputs": [
    {
     "name": "stdout",
     "output_type": "stream",
     "text": [
      "Total length of the data is:         200000\n",
      "No. of positve tagged sentences is:  99816\n",
      "No. of negative tagged sentences is: 100184\n"
     ]
    }
   ],
   "source": [
    " positives = tweets['sentiment'][tweets.sentiment == 1 ]\n",
    "negatives = tweets['sentiment'][tweets.sentiment == 0 ]\n",
    "\n",
    "print('Total length of the data is:         {}'.format(tweets.shape[0]))\n",
    "print('No. of positve tagged sentences is:  {}'.format(len(positives)))\n",
    "print('No. of negative tagged sentences is: {}'.format(len(negatives)))"
   ]
  },
  {
   "cell_type": "code",
   "execution_count": 9,
   "id": "complicated-necklace",
   "metadata": {
    "execution": {
     "iopub.execute_input": "2021-06-20T10:34:54.332860Z",
     "iopub.status.busy": "2021-06-20T10:34:54.332017Z",
     "iopub.status.idle": "2021-06-20T10:34:55.867092Z",
     "shell.execute_reply": "2021-06-20T10:34:55.868087Z"
    },
    "papermill": {
     "duration": 1.569549,
     "end_time": "2021-06-20T10:34:55.868405",
     "exception": false,
     "start_time": "2021-06-20T10:34:54.298856",
     "status": "completed"
    },
    "tags": []
   },
   "outputs": [
    {
     "name": "stdout",
     "output_type": "stream",
     "text": [
      "[nltk_data] Downloading package stopwords to /usr/share/nltk_data...\n",
      "[nltk_data]   Package stopwords is already up-to-date!\n",
      "{'for', 'only', 'where', \"weren't\", 'i', 'and', 'was', 'y', 'because', \"you'd\", 'itself', 'been', 'have', \"mustn't\", 'your', 'about', 'myself', 'again', 'any', 't', 'don', 'shan', \"isn't\", 'its', 'then', \"didn't\", 'being', 'he', 'at', 'not', \"haven't\", 'hers', 'm', 'nor', 'during', 'than', \"hadn't\", 'other', 'needn', 'few', 'doesn', 'had', \"hasn't\", 'this', 'what', 'against', 'there', 'does', 'between', 'here', 'no', 'their', 'off', 'from', 'further', 'which', 'if', 'having', 'until', 'd', 'those', \"shan't\", 'they', 's', 'are', \"wasn't\", 'themselves', 'weren', 'we', 'll', 'ours', 'these', \"shouldn't\", \"you're\", 'will', \"wouldn't\", 'it', 'down', 'so', 'didn', 'out', \"you'll\", 'him', 'with', 'while', 'theirs', 'herself', \"doesn't\", 'our', 'after', 'is', 'once', 've', 'hasn', 'her', \"couldn't\", 'has', 'the', 'as', 'most', 'them', 'can', 'ma', 'over', 'up', 'why', 'own', \"won't\", 'did', 'aren', \"she's\", 'who', 'below', 're', 'couldn', 'won', 'but', 'wouldn', 'each', 'shouldn', 'some', 'wasn', 'mustn', 'whom', 'do', 'now', 'mightn', \"should've\", 'above', 'an', 'am', 'or', 'o', 'both', \"it's\", 'on', 'in', 'to', 'himself', 'how', 'hadn', 'me', 'his', 'ain', \"mightn't\", \"aren't\", 'that', 'just', 'my', 'you', 'into', 'when', 'too', 'by', 'doing', 'very', 'ourselves', 'more', 'same', 'before', \"don't\", 'isn', 'were', \"that'll\", 'be', 'through', 'under', 'yours', 'yourself', 'of', \"needn't\", 'a', 'such', 'should', 'yourselves', 'she', 'haven', 'all', \"you've\"}\n"
     ]
    }
   ],
   "source": [
    "# nltk\n",
    "import nltk\n",
    "from nltk.stem import WordNetLemmatizer\n",
    "from nltk.corpus import stopwords\n",
    "from nltk.tokenize import word_tokenize\n",
    "#Stop Words: A stop word is a commonly used word (such as “the”, “a”, “an”, “in”) \n",
    "#that a search engine has been programmed to ignore,\n",
    "#both when indexing entries for searching and when retrieving them as the result of a search query.\n",
    "nltk.download('stopwords')\n",
    "stopword = set(stopwords.words('english'))\n",
    "print(stopword)"
   ]
  },
  {
   "cell_type": "markdown",
   "id": "macro-merchant",
   "metadata": {
    "papermill": {
     "duration": 0.028002,
     "end_time": "2021-06-20T10:34:55.926164",
     "exception": false,
     "start_time": "2021-06-20T10:34:55.898162",
     "status": "completed"
    },
    "tags": []
   },
   "source": [
    "## Data Cleaning"
   ]
  },
  {
   "cell_type": "code",
   "execution_count": 10,
   "id": "identical-membership",
   "metadata": {
    "execution": {
     "iopub.execute_input": "2021-06-20T10:34:55.987781Z",
     "iopub.status.busy": "2021-06-20T10:34:55.986488Z",
     "iopub.status.idle": "2021-06-20T10:34:56.132827Z",
     "shell.execute_reply": "2021-06-20T10:34:56.132015Z"
    },
    "papermill": {
     "duration": 0.178121,
     "end_time": "2021-06-20T10:34:56.133003",
     "exception": false,
     "start_time": "2021-06-20T10:34:55.954882",
     "status": "completed"
    },
    "tags": []
   },
   "outputs": [],
   "source": [
    "import warnings\n",
    "warnings.filterwarnings('ignore')\n",
    "import re\n",
    "import string\n",
    "import pickle\n",
    "urlPattern = r\"((http://)[^ ]*|(https://)[^ ]*|( www\\.)[^ ]*)\"\n",
    "userPattern = '@[^\\s]+'\n",
    "some = 'amp,today,tomorrow,going,girl'\n",
    "def process_tweets(tweet):\n",
    "  # Lower Casing\n",
    "    tweet = re.sub(r\"he's\", \"he is\", tweet)\n",
    "    tweet = re.sub(r\"there's\", \"there is\", tweet)\n",
    "    tweet = re.sub(r\"We're\", \"We are\", tweet)\n",
    "    tweet = re.sub(r\"That's\", \"That is\", tweet)\n",
    "    tweet = re.sub(r\"won't\", \"will not\", tweet)\n",
    "    tweet = re.sub(r\"they're\", \"they are\", tweet)\n",
    "    tweet = re.sub(r\"Can't\", \"Cannot\", tweet)\n",
    "    tweet = re.sub(r\"wasn't\", \"was not\", tweet)\n",
    "    tweet = re.sub(r\"don\\x89Ûªt\", \"do not\", tweet)\n",
    "    tweet = re.sub(r\"aren't\", \"are not\", tweet)\n",
    "    tweet = re.sub(r\"isn't\", \"is not\", tweet)\n",
    "    tweet = re.sub(r\"What's\", \"What is\", tweet)\n",
    "    tweet = re.sub(r\"haven't\", \"have not\", tweet)\n",
    "    tweet = re.sub(r\"hasn't\", \"has not\", tweet)\n",
    "    tweet = re.sub(r\"There's\", \"There is\", tweet)\n",
    "    tweet = re.sub(r\"He's\", \"He is\", tweet)\n",
    "    tweet = re.sub(r\"It's\", \"It is\", tweet)\n",
    "    tweet = re.sub(r\"You're\", \"You are\", tweet)\n",
    "    tweet = re.sub(r\"I'M\", \"I am\", tweet)\n",
    "    tweet = re.sub(r\"shouldn't\", \"should not\", tweet)\n",
    "    tweet = re.sub(r\"wouldn't\", \"would not\", tweet)\n",
    "    tweet = re.sub(r\"i'm\", \"I am\", tweet)\n",
    "    tweet = re.sub(r\"I\\x89Ûªm\", \"I am\", tweet)\n",
    "    tweet = re.sub(r\"I'm\", \"I am\", tweet)\n",
    "    tweet = re.sub(r\"Isn't\", \"is not\", tweet)\n",
    "    tweet = re.sub(r\"Here's\", \"Here is\", tweet)\n",
    "    tweet = re.sub(r\"you've\", \"you have\", tweet)\n",
    "    tweet = re.sub(r\"you\\x89Ûªve\", \"you have\", tweet)\n",
    "    tweet = re.sub(r\"we're\", \"we are\", tweet)\n",
    "    tweet = re.sub(r\"what's\", \"what is\", tweet)\n",
    "    tweet = re.sub(r\"couldn't\", \"could not\", tweet)\n",
    "    tweet = re.sub(r\"we've\", \"we have\", tweet)\n",
    "    tweet = re.sub(r\"it\\x89Ûªs\", \"it is\", tweet)\n",
    "    tweet = re.sub(r\"doesn\\x89Ûªt\", \"does not\", tweet)\n",
    "    tweet = re.sub(r\"It\\x89Ûªs\", \"It is\", tweet)\n",
    "    tweet = re.sub(r\"Here\\x89Ûªs\", \"Here is\", tweet)\n",
    "    tweet = re.sub(r\"who's\", \"who is\", tweet)\n",
    "    tweet = re.sub(r\"I\\x89Ûªve\", \"I have\", tweet)\n",
    "    tweet = re.sub(r\"y'all\", \"you all\", tweet)\n",
    "    tweet = re.sub(r\"can\\x89Ûªt\", \"cannot\", tweet)\n",
    "    tweet = re.sub(r\"would've\", \"would have\", tweet)\n",
    "    tweet = re.sub(r\"it'll\", \"it will\", tweet)\n",
    "    tweet = re.sub(r\"we'll\", \"we will\", tweet)\n",
    "    tweet = re.sub(r\"wouldn\\x89Ûªt\", \"would not\", tweet)\n",
    "    tweet = re.sub(r\"We've\", \"We have\", tweet)\n",
    "    tweet = re.sub(r\"he'll\", \"he will\", tweet)\n",
    "    tweet = re.sub(r\"Y'all\", \"You all\", tweet)\n",
    "    tweet = re.sub(r\"Weren't\", \"Were not\", tweet)\n",
    "    tweet = re.sub(r\"Didn't\", \"Did not\", tweet)\n",
    "    tweet = re.sub(r\"they'll\", \"they will\", tweet)\n",
    "    tweet = re.sub(r\"they'd\", \"they would\", tweet)\n",
    "    tweet = re.sub(r\"DON'T\", \"DO NOT\", tweet)\n",
    "    tweet = re.sub(r\"That\\x89Ûªs\", \"That is\", tweet)\n",
    "    tweet = re.sub(r\"they've\", \"they have\", tweet)\n",
    "    tweet = re.sub(r\"i'd\", \"I would\", tweet)\n",
    "    tweet = re.sub(r\"should've\", \"should have\", tweet)\n",
    "    tweet = re.sub(r\"You\\x89Ûªre\", \"You are\", tweet)\n",
    "    tweet = re.sub(r\"where's\", \"where is\", tweet)\n",
    "    tweet = re.sub(r\"Don\\x89Ûªt\", \"Do not\", tweet)\n",
    "    tweet = re.sub(r\"we'd\", \"we would\", tweet)\n",
    "    tweet = re.sub(r\"i'll\", \"I will\", tweet)\n",
    "    tweet = re.sub(r\"weren't\", \"were not\", tweet)\n",
    "    tweet = re.sub(r\"They're\", \"They are\", tweet)\n",
    "    tweet = re.sub(r\"Can\\x89Ûªt\", \"Cannot\", tweet)\n",
    "    tweet = re.sub(r\"you\\x89Ûªll\", \"you will\", tweet)\n",
    "    tweet = re.sub(r\"I\\x89Ûªd\", \"I would\", tweet)\n",
    "    tweet = re.sub(r\"let's\", \"let us\", tweet)\n",
    "    tweet = re.sub(r\"it's\", \"it is\", tweet)\n",
    "    tweet = re.sub(r\"can't\", \"cannot\", tweet)\n",
    "    tweet = re.sub(r\"don't\", \"do not\", tweet)\n",
    "    tweet = re.sub(r\"you're\", \"you are\", tweet)\n",
    "    tweet = re.sub(r\"i've\", \"I have\", tweet)\n",
    "    tweet = re.sub(r\"that's\", \"that is\", tweet)\n",
    "    tweet = re.sub(r\"i'll\", \"I will\", tweet)\n",
    "    tweet = re.sub(r\"doesn't\", \"does not\", tweet)\n",
    "    tweet = re.sub(r\"i'd\", \"I would\", tweet)\n",
    "    tweet = re.sub(r\"didn't\", \"did not\", tweet)\n",
    "    tweet = re.sub(r\"ain't\", \"am not\", tweet)\n",
    "    tweet = re.sub(r\"you'll\", \"you will\", tweet)\n",
    "    tweet = re.sub(r\"I've\", \"I have\", tweet)\n",
    "    tweet = re.sub(r\"Don't\", \"do not\", tweet)\n",
    "    tweet = re.sub(r\"I'll\", \"I will\", tweet)\n",
    "    tweet = re.sub(r\"I'd\", \"I would\", tweet)\n",
    "    tweet = re.sub(r\"Let's\", \"Let us\", tweet)\n",
    "    tweet = re.sub(r\"you'd\", \"You would\", tweet)\n",
    "    tweet = re.sub(r\"It's\", \"It is\", tweet)\n",
    "    tweet = re.sub(r\"Ain't\", \"am not\", tweet)\n",
    "    tweet = re.sub(r\"Haven't\", \"Have not\", tweet)\n",
    "    tweet = re.sub(r\"Could've\", \"Could have\", tweet)\n",
    "    tweet = re.sub(r\"youve\", \"you have\", tweet)  \n",
    "    tweet = re.sub(r\"donå«t\", \"do not\", tweet)  \n",
    "    \n",
    "    tweet = re.sub(r\"some1\", \"someone\", tweet)\n",
    "    tweet = re.sub(r\"yrs\", \"years\", tweet)\n",
    "    tweet = re.sub(r\"hrs\", \"hours\", tweet)\n",
    "    tweet = re.sub(r\"2morow|2moro\", \"tomorrow\", tweet)\n",
    "    tweet = re.sub(r\"2day\", \"today\", tweet)\n",
    "    tweet = re.sub(r\"4got|4gotten\", \"forget\", tweet)\n",
    "    tweet = re.sub(r\"b-day|bday\", \"b-day\", tweet)\n",
    "    tweet = re.sub(r\"mother's\", \"mother\", tweet)\n",
    "    tweet = re.sub(r\"mom's\", \"mom\", tweet)\n",
    "    tweet = re.sub(r\"dad's\", \"dad\", tweet)\n",
    "    tweet = re.sub(r\"hahah|hahaha|hahahaha\", \"haha\", tweet)\n",
    "    tweet = re.sub(r\"lmao|lolz|rofl\", \"lol\", tweet)\n",
    "    tweet = re.sub(r\"thanx|thnx\", \"thanks\", tweet)\n",
    "    tweet = re.sub(r\"goood\", \"good\", tweet)\n",
    "    tweet = re.sub(r\"some1\", \"someone\", tweet)\n",
    "    tweet = re.sub(r\"some1\", \"someone\", tweet)\n",
    "    tweet = tweet.lower()\n",
    "    tweet=tweet[1:]\n",
    "    # Removing all URls \n",
    "    tweet = re.sub(urlPattern,'',tweet)\n",
    "    # Removing all @username.\n",
    "    tweet = re.sub(userPattern,'', tweet) \n",
    "    #remove some words\n",
    "    tweet= re.sub(some,'',tweet)\n",
    "    #Remove punctuations\n",
    "    tweet = tweet.translate(str.maketrans(\"\",\"\",string.punctuation))\n",
    "    #tokenizing words\n",
    "    tokens = word_tokenize(tweet)\n",
    "    #tokens = [w for w in tokens if len(w)>2]\n",
    "    #Removing Stop Words\n",
    "    final_tokens = [w for w in tokens if w not in stopword]\n",
    "    #reducing a word to its word stem \n",
    "    wordLemm = WordNetLemmatizer()\n",
    "    finalwords=[]\n",
    "    for w in final_tokens:\n",
    "      if len(w)>1:\n",
    "        word = wordLemm.lemmatize(w)\n",
    "        finalwords.append(word)\n",
    "    return ' '.join(finalwords)"
   ]
  },
  {
   "cell_type": "code",
   "execution_count": 11,
   "id": "acceptable-grain",
   "metadata": {
    "execution": {
     "iopub.execute_input": "2021-06-20T10:34:56.195511Z",
     "iopub.status.busy": "2021-06-20T10:34:56.194074Z",
     "iopub.status.idle": "2021-06-20T10:34:56.219608Z",
     "shell.execute_reply": "2021-06-20T10:34:56.220078Z"
    },
    "papermill": {
     "duration": 0.058325,
     "end_time": "2021-06-20T10:34:56.220258",
     "exception": false,
     "start_time": "2021-06-20T10:34:56.161933",
     "status": "completed"
    },
    "tags": []
   },
   "outputs": [],
   "source": [
    "abbreviations = {\n",
    "    \"$\" : \" dollar \",\n",
    "    \"€\" : \" euro \",\n",
    "    \"4ao\" : \"for adults only\",\n",
    "    \"a.m\" : \"before midday\",\n",
    "    \"a3\" : \"anytime anywhere anyplace\",\n",
    "    \"aamof\" : \"as a matter of fact\",\n",
    "    \"acct\" : \"account\",\n",
    "    \"adih\" : \"another day in hell\",\n",
    "    \"afaic\" : \"as far as i am concerned\",\n",
    "    \"afaict\" : \"as far as i can tell\",\n",
    "    \"afaik\" : \"as far as i know\",\n",
    "    \"afair\" : \"as far as i remember\",\n",
    "    \"afk\" : \"away from keyboard\",\n",
    "    \"app\" : \"application\",\n",
    "    \"approx\" : \"approximately\",\n",
    "    \"apps\" : \"applications\",\n",
    "    \"asap\" : \"as soon as possible\",\n",
    "    \"asl\" : \"age, sex, location\",\n",
    "    \"atk\" : \"at the keyboard\",\n",
    "    \"ave.\" : \"avenue\",\n",
    "    \"aymm\" : \"are you my mother\",\n",
    "    \"ayor\" : \"at your own risk\", \n",
    "    \"b&b\" : \"bed and breakfast\",\n",
    "    \"b+b\" : \"bed and breakfast\",\n",
    "    \"b.c\" : \"before christ\",\n",
    "    \"b2b\" : \"business to business\",\n",
    "    \"b2c\" : \"business to customer\",\n",
    "    \"b4\" : \"before\",\n",
    "    \"b4n\" : \"bye for now\",\n",
    "    \"b@u\" : \"back at you\",\n",
    "    \"bae\" : \"before anyone else\",\n",
    "    \"bak\" : \"back at keyboard\",\n",
    "    \"bbbg\" : \"bye bye be good\",\n",
    "    \"bbc\" : \"british broadcasting corporation\",\n",
    "    \"bbias\" : \"be back in a second\",\n",
    "    \"bbl\" : \"be back later\",\n",
    "    \"bbs\" : \"be back soon\",\n",
    "    \"be4\" : \"before\",\n",
    "    \"bfn\" : \"bye for now\",\n",
    "    \"blvd\" : \"boulevard\",\n",
    "    \"bout\" : \"about\",\n",
    "    \"brb\" : \"be right back\",\n",
    "    \"bros\" : \"brothers\",\n",
    "    \"brt\" : \"be right there\",\n",
    "    \"bsaaw\" : \"big smile and a wink\",\n",
    "    \"btw\" : \"by the way\",\n",
    "    \"bwl\" : \"bursting with laughter\",\n",
    "    \"c/o\" : \"care of\",\n",
    "    \"cet\" : \"central european time\",\n",
    "    \"cf\" : \"compare\",\n",
    "    \"cia\" : \"central intelligence agency\",\n",
    "    \"csl\" : \"can not stop laughing\",\n",
    "    \"cu\" : \"see you\",\n",
    "    \"cul8r\" : \"see you later\",\n",
    "    \"cv\" : \"curriculum vitae\",\n",
    "    \"cwot\" : \"complete waste of time\",\n",
    "    \"cya\" : \"see you\",\n",
    "    \"cyt\" : \"see you tomorrow\",\n",
    "    \"dae\" : \"does anyone else\",\n",
    "    \"dbmib\" : \"do not bother me i am busy\",\n",
    "    \"diy\" : \"do it yourself\",\n",
    "    \"dm\" : \"direct message\",\n",
    "    \"dwh\" : \"during work hours\",\n",
    "    \"e123\" : \"easy as one two three\",\n",
    "    \"eet\" : \"eastern european time\",\n",
    "    \"eg\" : \"example\",\n",
    "    \"embm\" : \"early morning business meeting\",\n",
    "    \"encl\" : \"enclosed\",\n",
    "    \"encl.\" : \"enclosed\",\n",
    "    \"etc\" : \"and so on\",\n",
    "    \"faq\" : \"frequently asked questions\",\n",
    "    \"fawc\" : \"for anyone who cares\",\n",
    "    \"fb\" : \"facebook\",\n",
    "    \"fc\" : \"fingers crossed\",\n",
    "    \"fig\" : \"figure\",\n",
    "    \"fimh\" : \"forever in my heart\", \n",
    "    \"ft.\" : \"feet\",\n",
    "    \"ft\" : \"featuring\",\n",
    "    \"ftl\" : \"for the loss\",\n",
    "    \"ftw\" : \"for the win\",\n",
    "    \"fwiw\" : \"for what it is worth\",\n",
    "    \"fyi\" : \"for your information\",\n",
    "    \"g9\" : \"genius\",\n",
    "    \"gahoy\" : \"get a hold of yourself\",\n",
    "    \"gal\" : \"get a life\",\n",
    "    \"gcse\" : \"general certificate of secondary education\",\n",
    "    \"gfn\" : \"gone for now\",\n",
    "    \"gg\" : \"good game\",\n",
    "    \"gl\" : \"good luck\",\n",
    "    \"glhf\" : \"good luck have fun\",\n",
    "    \"gmt\" : \"greenwich mean time\",\n",
    "    \"gmta\" : \"great minds think alike\",\n",
    "    \"gn\" : \"good night\",\n",
    "    \"g.o.a.t\" : \"greatest of all time\",\n",
    "    \"goat\" : \"greatest of all time\",\n",
    "    \"goi\" : \"get over it\",\n",
    "    \"gps\" : \"global positioning system\",\n",
    "    \"gr8\" : \"great\",\n",
    "    \"gratz\" : \"congratulations\",\n",
    "    \"gyal\" : \"girl\",\n",
    "    \"h&c\" : \"hot and cold\",\n",
    "    \"hp\" : \"horsepower\",\n",
    "    \"hr\" : \"hour\",\n",
    "    \"hrh\" : \"his royal highness\",\n",
    "    \"ht\" : \"height\",\n",
    "    \"ibrb\" : \"i will be right back\",\n",
    "    \"ic\" : \"i see\",\n",
    "    \"icq\" : \"i seek you\",\n",
    "    \"icymi\" : \"in case you missed it\",\n",
    "    \"idc\" : \"i do not care\",\n",
    "    \"idgadf\" : \"i do not give a damn fuck\",\n",
    "    \"idgaf\" : \"i do not give a fuck\",\n",
    "    \"idk\" : \"i do not know\",\n",
    "    \"ie\" : \"that is\",\n",
    "    \"i.e\" : \"that is\",\n",
    "    \"ifyp\" : \"i feel your pain\",\n",
    "    \"IG\" : \"instagram\",\n",
    "    \"iirc\" : \"if i remember correctly\",\n",
    "    \"ilu\" : \"i love you\",\n",
    "    \"ily\" : \"i love you\",\n",
    "    \"imho\" : \"in my humble opinion\",\n",
    "    \"imo\" : \"in my opinion\",\n",
    "    \"imu\" : \"i miss you\",\n",
    "    \"iow\" : \"in other words\",\n",
    "    \"irl\" : \"in real life\",\n",
    "    \"j4f\" : \"just for fun\",\n",
    "    \"jic\" : \"just in case\",\n",
    "    \"jk\" : \"just kidding\",\n",
    "    \"jsyk\" : \"just so you know\",\n",
    "    \"l8r\" : \"later\",\n",
    "    \"lb\" : \"pound\",\n",
    "    \"lbs\" : \"pounds\",\n",
    "    \"ldr\" : \"long distance relationship\",\n",
    "    \"lmao\" : \"laugh my ass off\",\n",
    "    \"lmfao\" : \"laugh my fucking ass off\",\n",
    "    \"lol\" : \"laughing out loud\",\n",
    "    \"ltd\" : \"limited\",\n",
    "    \"ltns\" : \"long time no see\",\n",
    "    \"m8\" : \"mate\",\n",
    "    \"mf\" : \"motherfucker\",\n",
    "    \"mfs\" : \"motherfuckers\",\n",
    "    \"mfw\" : \"my face when\",\n",
    "    \"mofo\" : \"motherfucker\",\n",
    "    \"mph\" : \"miles per hour\",\n",
    "    \"mr\" : \"mister\",\n",
    "    \"mrw\" : \"my reaction when\",\n",
    "    \"ms\" : \"miss\",\n",
    "    \"mte\" : \"my thoughts exactly\",\n",
    "    \"nagi\" : \"not a good idea\",\n",
    "    \"nbc\" : \"national broadcasting company\",\n",
    "    \"nbd\" : \"not big deal\",\n",
    "    \"nfs\" : \"not for sale\",\n",
    "    \"ngl\" : \"not going to lie\",\n",
    "    \"nhs\" : \"national health service\",\n",
    "    \"nrn\" : \"no reply necessary\",\n",
    "    \"nsfl\" : \"not safe for life\",\n",
    "    \"nsfw\" : \"not safe for work\",\n",
    "    \"nth\" : \"nice to have\",\n",
    "    \"nvr\" : \"never\",\n",
    "    \"nyc\" : \"new york city\",\n",
    "    \"oc\" : \"original content\",\n",
    "    \"og\" : \"original\",\n",
    "    \"ohp\" : \"overhead projector\",\n",
    "    \"oic\" : \"oh i see\",\n",
    "    \"omdb\" : \"over my dead body\",\n",
    "    \"omg\" : \"oh my god\",\n",
    "    \"omw\" : \"on my way\",\n",
    "    \"p.a\" : \"per annum\",\n",
    "    \"p.m\" : \"after midday\",\n",
    "    \"pm\" : \"prime minister\",\n",
    "    \"poc\" : \"people of color\",\n",
    "    \"pov\" : \"point of view\",\n",
    "    \"pp\" : \"pages\",\n",
    "    \"ppl\" : \"people\",\n",
    "    \"prw\" : \"parents are watching\",\n",
    "    \"ps\" : \"postscript\",\n",
    "    \"pt\" : \"point\",\n",
    "    \"ptb\" : \"please text back\",\n",
    "    \"pto\" : \"please turn over\",\n",
    "    \"qpsa\" : \"what happens\", \n",
    "    \"ratchet\" : \"rude\",\n",
    "    \"rbtl\" : \"read between the lines\",\n",
    "    \"rlrt\" : \"real life retweet\", \n",
    "    \"rofl\" : \"rolling on the floor laughing\",\n",
    "    \"roflol\" : \"rolling on the floor laughing out loud\",\n",
    "    \"rotflmao\" : \"rolling on the floor laughing my ass off\",\n",
    "    \"rt\" : \"retweet\",\n",
    "    \"ruok\" : \"are you ok\",\n",
    "    \"sfw\" : \"safe for work\",\n",
    "     \"sk8\" : \"skate\",\n",
    "    \"smh\" : \"shake my head\",\n",
    "    \"sq\" : \"square\",\n",
    "    \"srsly\" : \"seriously\", \n",
    "    \"ssdd\" : \"same stuff different day\",\n",
    "    \"tbh\" : \"to be honest\",\n",
    "    \"tbs\" : \"tablespooful\",\n",
    "    \"tbsp\" : \"tablespooful\",\n",
    "    \"tfw\" : \"that feeling when\",\n",
    "    \"thks\" : \"thank you\",\n",
    "    \"tho\" : \"though\",\n",
    "    \"thx\" : \"thank you\",\n",
    "    \"tia\" : \"thanks in advance\",\n",
    "    \"til\" : \"today i learned\",\n",
    "    \"tl;dr\" : \"too long i did not read\",\n",
    "    \"tldr\" : \"too long i did not read\",\n",
    "    \"tmb\" : \"tweet me back\",\n",
    "    \"tntl\" : \"trying not to laugh\",\n",
    "    \"ttyl\" : \"talk to you later\",\n",
    "    \"u\" : \"you\",\n",
    "    \"u2\" : \"you too\",\n",
    "    \"u4e\" : \"yours for ever\",\n",
    "    \"utc\" : \"coordinated universal time\",\n",
    "    \"w/\" : \"with\",\n",
    "    \"w/o\" : \"without\",\n",
    "    \"w8\" : \"wait\",\n",
    "    \"wassup\" : \"what is up\",\n",
    "    \"wb\" : \"welcome back\",\n",
    "    \"wtf\" : \"what the fuck\",\n",
    "    \"wtg\" : \"way to go\",\n",
    "    \"wtpa\" : \"where the party at\",\n",
    "    \"wuf\" : \"where are you from\",\n",
    "    \"wuzup\" : \"what is up\",\n",
    "    \"wywh\" : \"wish you were here\",\n",
    "    \"yd\" : \"yard\",\n",
    "    \"ygtr\" : \"you got that right\",\n",
    "    \"ynk\" : \"you never know\",\n",
    "    \"zzz\" : \"sleeping bored and tired\"\n",
    "}"
   ]
  },
  {
   "cell_type": "code",
   "execution_count": 12,
   "id": "foreign-huntington",
   "metadata": {
    "execution": {
     "iopub.execute_input": "2021-06-20T10:34:56.281134Z",
     "iopub.status.busy": "2021-06-20T10:34:56.280516Z",
     "iopub.status.idle": "2021-06-20T10:34:56.284857Z",
     "shell.execute_reply": "2021-06-20T10:34:56.285368Z"
    },
    "papermill": {
     "duration": 0.036537,
     "end_time": "2021-06-20T10:34:56.285546",
     "exception": false,
     "start_time": "2021-06-20T10:34:56.249009",
     "status": "completed"
    },
    "tags": []
   },
   "outputs": [],
   "source": [
    "def convert_abbrev_in_text(tweet):\n",
    "    t=[]\n",
    "    words=tweet.split()\n",
    "    t = [abbreviations[w.lower()] if w.lower() in abbreviations.keys() else w for w in words]\n",
    "    return ' '.join(t)  "
   ]
  },
  {
   "cell_type": "markdown",
   "id": "comparative-schema",
   "metadata": {
    "papermill": {
     "duration": 0.028246,
     "end_time": "2021-06-20T10:34:56.342344",
     "exception": false,
     "start_time": "2021-06-20T10:34:56.314098",
     "status": "completed"
    },
    "tags": []
   },
   "source": [
    "## Text Processing Completed"
   ]
  },
  {
   "cell_type": "code",
   "execution_count": 13,
   "id": "convenient-corpus",
   "metadata": {
    "execution": {
     "iopub.execute_input": "2021-06-20T10:34:56.402445Z",
     "iopub.status.busy": "2021-06-20T10:34:56.401788Z",
     "iopub.status.idle": "2021-06-20T10:36:15.698989Z",
     "shell.execute_reply": "2021-06-20T10:36:15.698440Z"
    },
    "papermill": {
     "duration": 79.328345,
     "end_time": "2021-06-20T10:36:15.699122",
     "exception": false,
     "start_time": "2021-06-20T10:34:56.370777",
     "status": "completed"
    },
    "tags": []
   },
   "outputs": [
    {
     "name": "stdout",
     "output_type": "stream",
     "text": [
      "Text Preprocessing complete.\n"
     ]
    },
    {
     "data": {
      "text/html": [
       "<div>\n",
       "<style scoped>\n",
       "    .dataframe tbody tr th:only-of-type {\n",
       "        vertical-align: middle;\n",
       "    }\n",
       "\n",
       "    .dataframe tbody tr th {\n",
       "        vertical-align: top;\n",
       "    }\n",
       "\n",
       "    .dataframe thead th {\n",
       "        text-align: right;\n",
       "    }\n",
       "</style>\n",
       "<table border=\"1\" class=\"dataframe\">\n",
       "  <thead>\n",
       "    <tr style=\"text-align: right;\">\n",
       "      <th></th>\n",
       "      <th>sentiment</th>\n",
       "      <th>tweet</th>\n",
       "      <th>processed_tweets</th>\n",
       "    </tr>\n",
       "  </thead>\n",
       "  <tbody>\n",
       "    <tr>\n",
       "      <th>65755</th>\n",
       "      <td>0</td>\n",
       "      <td>I miss my boyfriend</td>\n",
       "      <td>miss boyfriend</td>\n",
       "    </tr>\n",
       "    <tr>\n",
       "      <th>1368453</th>\n",
       "      <td>1</td>\n",
       "      <td>Kmart where good times start</td>\n",
       "      <td>mart good time start</td>\n",
       "    </tr>\n",
       "    <tr>\n",
       "      <th>352005</th>\n",
       "      <td>0</td>\n",
       "      <td>Don't see anything on news about it yet. Hopef...</td>\n",
       "      <td>see anything news yet hopefully precaution sep...</td>\n",
       "    </tr>\n",
       "    <tr>\n",
       "      <th>239422</th>\n",
       "      <td>0</td>\n",
       "      <td>trying to work now after a yummy lunch....alth...</td>\n",
       "      <td>rying work yummy lunchalthough consuming cravi...</td>\n",
       "    </tr>\n",
       "    <tr>\n",
       "      <th>680801</th>\n",
       "      <td>0</td>\n",
       "      <td>why is ryan reynolds married?</td>\n",
       "      <td>hy ryan reynolds married</td>\n",
       "    </tr>\n",
       "    <tr>\n",
       "      <th>...</th>\n",
       "      <td>...</td>\n",
       "      <td>...</td>\n",
       "      <td>...</td>\n",
       "    </tr>\n",
       "    <tr>\n",
       "      <th>1213379</th>\n",
       "      <td>1</td>\n",
       "      <td>@Judyastley</td>\n",
       "      <td>judyastley</td>\n",
       "    </tr>\n",
       "    <tr>\n",
       "      <th>320637</th>\n",
       "      <td>0</td>\n",
       "      <td>NUMBERS!!! I never was a fan of numbers. I rea...</td>\n",
       "      <td>umber never fan number really like monthly acc...</td>\n",
       "    </tr>\n",
       "    <tr>\n",
       "      <th>216500</th>\n",
       "      <td>0</td>\n",
       "      <td>ahh im so  shaheen didnt win actually.</td>\n",
       "      <td>hh im shaheen didnt win actually</td>\n",
       "    </tr>\n",
       "    <tr>\n",
       "      <th>1059041</th>\n",
       "      <td>1</td>\n",
       "      <td>@writeinink Heh, heh, heh. Okay, you just tota...</td>\n",
       "      <td>writeinink heh heh heh okay totally cracked happy</td>\n",
       "    </tr>\n",
       "    <tr>\n",
       "      <th>1324653</th>\n",
       "      <td>1</td>\n",
       "      <td>Sick.  I've been up since midnight.  My pocket...</td>\n",
       "      <td>ick since midnight pocketpede tutorial feature...</td>\n",
       "    </tr>\n",
       "  </tbody>\n",
       "</table>\n",
       "<p>200000 rows × 3 columns</p>\n",
       "</div>"
      ],
      "text/plain": [
       "         sentiment                                              tweet  \\\n",
       "65755            0                               I miss my boyfriend    \n",
       "1368453          1                      Kmart where good times start    \n",
       "352005           0  Don't see anything on news about it yet. Hopef...   \n",
       "239422           0  trying to work now after a yummy lunch....alth...   \n",
       "680801           0                     why is ryan reynolds married?    \n",
       "...            ...                                                ...   \n",
       "1213379          1                                       @Judyastley    \n",
       "320637           0  NUMBERS!!! I never was a fan of numbers. I rea...   \n",
       "216500           0             ahh im so  shaheen didnt win actually.   \n",
       "1059041          1  @writeinink Heh, heh, heh. Okay, you just tota...   \n",
       "1324653          1  Sick.  I've been up since midnight.  My pocket...   \n",
       "\n",
       "                                          processed_tweets  \n",
       "65755                                       miss boyfriend  \n",
       "1368453                               mart good time start  \n",
       "352005   see anything news yet hopefully precaution sep...  \n",
       "239422   rying work yummy lunchalthough consuming cravi...  \n",
       "680801                            hy ryan reynolds married  \n",
       "...                                                    ...  \n",
       "1213379                                         judyastley  \n",
       "320637   umber never fan number really like monthly acc...  \n",
       "216500                    hh im shaheen didnt win actually  \n",
       "1059041  writeinink heh heh heh okay totally cracked happy  \n",
       "1324653  ick since midnight pocketpede tutorial feature...  \n",
       "\n",
       "[200000 rows x 3 columns]"
      ]
     },
     "execution_count": 13,
     "metadata": {},
     "output_type": "execute_result"
    }
   ],
   "source": [
    "tweets['processed_tweets'] = tweets['tweet'].apply(lambda x: process_tweets(x))\n",
    "tweets['processed_tweets'] = tweets['processed_tweets'].apply(lambda x: convert_abbrev_in_text(x))\n",
    "print('Text Preprocessing complete.')\n",
    "tweets"
   ]
  },
  {
   "cell_type": "code",
   "execution_count": 14,
   "id": "designing-rwanda",
   "metadata": {
    "execution": {
     "iopub.execute_input": "2021-06-20T10:36:15.763567Z",
     "iopub.status.busy": "2021-06-20T10:36:15.762933Z",
     "iopub.status.idle": "2021-06-20T10:36:16.218687Z",
     "shell.execute_reply": "2021-06-20T10:36:16.218199Z"
    },
    "papermill": {
     "duration": 0.490404,
     "end_time": "2021-06-20T10:36:16.218821",
     "exception": false,
     "start_time": "2021-06-20T10:36:15.728417",
     "status": "completed"
    },
    "tags": []
   },
   "outputs": [
    {
     "data": {
      "text/html": [
       "<div>\n",
       "<style scoped>\n",
       "    .dataframe tbody tr th:only-of-type {\n",
       "        vertical-align: middle;\n",
       "    }\n",
       "\n",
       "    .dataframe tbody tr th {\n",
       "        vertical-align: top;\n",
       "    }\n",
       "\n",
       "    .dataframe thead th {\n",
       "        text-align: right;\n",
       "    }\n",
       "</style>\n",
       "<table border=\"1\" class=\"dataframe\">\n",
       "  <thead>\n",
       "    <tr style=\"text-align: right;\">\n",
       "      <th></th>\n",
       "      <th>sentiment</th>\n",
       "      <th>tweet</th>\n",
       "      <th>processed_tweets</th>\n",
       "    </tr>\n",
       "  </thead>\n",
       "  <tbody>\n",
       "    <tr>\n",
       "      <th>65755</th>\n",
       "      <td>0</td>\n",
       "      <td>I miss my boyfriend</td>\n",
       "      <td>miss boyfriend</td>\n",
       "    </tr>\n",
       "    <tr>\n",
       "      <th>1368453</th>\n",
       "      <td>1</td>\n",
       "      <td>Kmart where good times start</td>\n",
       "      <td>mart good time start</td>\n",
       "    </tr>\n",
       "    <tr>\n",
       "      <th>352005</th>\n",
       "      <td>0</td>\n",
       "      <td>Don't see anything on news about it yet. Hopef...</td>\n",
       "      <td>anything news hopefully precaution note train ...</td>\n",
       "    </tr>\n",
       "    <tr>\n",
       "      <th>239422</th>\n",
       "      <td>0</td>\n",
       "      <td>trying to work now after a yummy lunch....alth...</td>\n",
       "      <td>rying work yummy lunchalthough consuming cravi...</td>\n",
       "    </tr>\n",
       "    <tr>\n",
       "      <th>680801</th>\n",
       "      <td>0</td>\n",
       "      <td>why is ryan reynolds married?</td>\n",
       "      <td>ryan reynolds married</td>\n",
       "    </tr>\n",
       "  </tbody>\n",
       "</table>\n",
       "</div>"
      ],
      "text/plain": [
       "         sentiment                                              tweet  \\\n",
       "65755            0                               I miss my boyfriend    \n",
       "1368453          1                      Kmart where good times start    \n",
       "352005           0  Don't see anything on news about it yet. Hopef...   \n",
       "239422           0  trying to work now after a yummy lunch....alth...   \n",
       "680801           0                     why is ryan reynolds married?    \n",
       "\n",
       "                                          processed_tweets  \n",
       "65755                                       miss boyfriend  \n",
       "1368453                               mart good time start  \n",
       "352005   anything news hopefully precaution note train ...  \n",
       "239422   rying work yummy lunchalthough consuming cravi...  \n",
       "680801                               ryan reynolds married  "
      ]
     },
     "execution_count": 14,
     "metadata": {},
     "output_type": "execute_result"
    }
   ],
   "source": [
    "#removing shortwords\n",
    "tweets['processed_tweets']=tweets['processed_tweets'].apply(lambda x: \" \".join([w for w in x.split() if len(w)>3]))\n",
    "tweets.head(5)"
   ]
  },
  {
   "cell_type": "code",
   "execution_count": 15,
   "id": "about-beaver",
   "metadata": {
    "execution": {
     "iopub.execute_input": "2021-06-20T10:36:16.288361Z",
     "iopub.status.busy": "2021-06-20T10:36:16.282886Z",
     "iopub.status.idle": "2021-06-20T10:36:16.377506Z",
     "shell.execute_reply": "2021-06-20T10:36:16.376852Z"
    },
    "papermill": {
     "duration": 0.128723,
     "end_time": "2021-06-20T10:36:16.377641",
     "exception": false,
     "start_time": "2021-06-20T10:36:16.248918",
     "status": "completed"
    },
    "tags": []
   },
   "outputs": [],
   "source": [
    "from sklearn.utils import shuffle\n",
    "tweets =  shuffle(tweets).reset_index(drop=True)\n"
   ]
  },
  {
   "cell_type": "markdown",
   "id": "random-mounting",
   "metadata": {
    "papermill": {
     "duration": 0.030055,
     "end_time": "2021-06-20T10:36:16.438644",
     "exception": false,
     "start_time": "2021-06-20T10:36:16.408589",
     "status": "completed"
    },
    "tags": []
   },
   "source": [
    "## Tokenization"
   ]
  },
  {
   "cell_type": "code",
   "execution_count": 16,
   "id": "beautiful-despite",
   "metadata": {
    "execution": {
     "iopub.execute_input": "2021-06-20T10:36:16.505424Z",
     "iopub.status.busy": "2021-06-20T10:36:16.504352Z",
     "iopub.status.idle": "2021-06-20T10:36:16.944139Z",
     "shell.execute_reply": "2021-06-20T10:36:16.943528Z"
    },
    "papermill": {
     "duration": 0.475001,
     "end_time": "2021-06-20T10:36:16.944275",
     "exception": false,
     "start_time": "2021-06-20T10:36:16.469274",
     "status": "completed"
    },
    "tags": []
   },
   "outputs": [
    {
     "data": {
      "text/plain": [
       "0    [hellen, quotaish, luck, allquot, true, never,...\n",
       "1    [amazing, gastown, false, creek, english, vanc...\n",
       "2                         [cause, ryan, left, twitter]\n",
       "3            [grubbs, careful, thought, waaaay, older]\n",
       "4              [spellofplay, want, free, game, tshirt]\n",
       "Name: processed_tweets, dtype: object"
      ]
     },
     "execution_count": 16,
     "metadata": {},
     "output_type": "execute_result"
    }
   ],
   "source": [
    "tokenized_tweet=tweets['processed_tweets'].apply(lambda x: x.split())\n",
    "tokenized_tweet.head(5)"
   ]
  },
  {
   "cell_type": "code",
   "execution_count": 17,
   "id": "outdoor-bunny",
   "metadata": {
    "execution": {
     "iopub.execute_input": "2021-06-20T10:36:17.254913Z",
     "iopub.status.busy": "2021-06-20T10:36:17.053480Z",
     "iopub.status.idle": "2021-06-20T10:36:20.557096Z",
     "shell.execute_reply": "2021-06-20T10:36:20.556330Z"
    },
    "papermill": {
     "duration": 3.582206,
     "end_time": "2021-06-20T10:36:20.557260",
     "exception": false,
     "start_time": "2021-06-20T10:36:16.975054",
     "status": "completed"
    },
    "tags": []
   },
   "outputs": [],
   "source": [
    "from sklearn.feature_extraction.text import CountVectorizer\n",
    "from nltk.tokenize import RegexpTokenizer\n",
    "token = RegexpTokenizer(r'[a-zA-Z0-9]+')\n",
    "cv = CountVectorizer(stop_words='english',ngram_range = (1,1),tokenizer = token.tokenize)\n",
    "text_counts = cv.fit_transform(tweets['processed_tweets'].values.astype('U'))"
   ]
  },
  {
   "cell_type": "markdown",
   "id": "opponent-mexican",
   "metadata": {
    "papermill": {
     "duration": 0.0305,
     "end_time": "2021-06-20T10:36:20.618665",
     "exception": false,
     "start_time": "2021-06-20T10:36:20.588165",
     "status": "completed"
    },
    "tags": []
   },
   "source": [
    "## Train/Test Split"
   ]
  },
  {
   "cell_type": "code",
   "execution_count": 18,
   "id": "moderate-blame",
   "metadata": {
    "execution": {
     "iopub.execute_input": "2021-06-20T10:36:20.687279Z",
     "iopub.status.busy": "2021-06-20T10:36:20.686654Z",
     "iopub.status.idle": "2021-06-20T10:36:20.715918Z",
     "shell.execute_reply": "2021-06-20T10:36:20.715389Z"
    },
    "papermill": {
     "duration": 0.065883,
     "end_time": "2021-06-20T10:36:20.716078",
     "exception": false,
     "start_time": "2021-06-20T10:36:20.650195",
     "status": "completed"
    },
    "tags": []
   },
   "outputs": [],
   "source": [
    "from sklearn.model_selection import train_test_split\n",
    "X=text_counts\n",
    "y=tweets['sentiment']\n",
    "X_train, X_test, y_train, y_test = train_test_split(X, y, test_size=0.20,random_state=19)\n"
   ]
  },
  {
   "cell_type": "markdown",
   "id": "grateful-identification",
   "metadata": {
    "papermill": {
     "duration": 0.030309,
     "end_time": "2021-06-20T10:36:20.778093",
     "exception": false,
     "start_time": "2021-06-20T10:36:20.747784",
     "status": "completed"
    },
    "tags": []
   },
   "source": [
    "## Naive Bayes"
   ]
  },
  {
   "cell_type": "code",
   "execution_count": 19,
   "id": "chubby-mixer",
   "metadata": {
    "execution": {
     "iopub.execute_input": "2021-06-20T10:36:20.846871Z",
     "iopub.status.busy": "2021-06-20T10:36:20.846250Z",
     "iopub.status.idle": "2021-06-20T10:36:23.228526Z",
     "shell.execute_reply": "2021-06-20T10:36:23.229250Z"
    },
    "papermill": {
     "duration": 2.420225,
     "end_time": "2021-06-20T10:36:23.229413",
     "exception": false,
     "start_time": "2021-06-20T10:36:20.809188",
     "status": "completed"
    },
    "tags": []
   },
   "outputs": [
    {
     "name": "stdout",
     "output_type": "stream",
     "text": [
      "Cross Validation score =  [0.732525 0.72925  0.7269   0.731525 0.7299  ]\n",
      "Train accuracy =85.68%\n",
      "Test accuracy =73.11%\n"
     ]
    }
   ],
   "source": [
    "from sklearn.naive_bayes import ComplementNB\n",
    "from sklearn.model_selection import GridSearchCV\n",
    "from sklearn.model_selection import cross_val_score\n",
    "from sklearn import metrics\n",
    "from math import *\n",
    "cnb = ComplementNB()\n",
    "cnb.fit(X_train, y_train)\n",
    "cross_cnb = cross_val_score(cnb, X, y,n_jobs = -1)\n",
    "print(\"Cross Validation score = \",cross_cnb)                \n",
    "print (\"Train accuracy ={:.2f}%\".format(cnb.score(X_train,y_train)*100))\n",
    "print (\"Test accuracy ={:.2f}%\".format(cnb.score(X_test,y_test)*100))\n",
    "train_acc_cnb=cnb.score(X_train,y_train)\n",
    "test_acc_cnb=cnb.score(X_test,y_test)"
   ]
  },
  {
   "cell_type": "code",
   "execution_count": 20,
   "id": "oriental-screw",
   "metadata": {
    "execution": {
     "iopub.execute_input": "2021-06-20T10:36:23.318234Z",
     "iopub.status.busy": "2021-06-20T10:36:23.317578Z",
     "iopub.status.idle": "2021-06-20T10:36:23.483358Z",
     "shell.execute_reply": "2021-06-20T10:36:23.482822Z"
    },
    "papermill": {
     "duration": 0.222677,
     "end_time": "2021-06-20T10:36:23.483528",
     "exception": false,
     "start_time": "2021-06-20T10:36:23.260851",
     "status": "completed"
    },
    "tags": []
   },
   "outputs": [
    {
     "data": {
      "image/png": "[encoded data removed]",
      "text/plain": [
       "<Figure size 576x576 with 1 Axes>"
      ]
     },
     "metadata": {
      "needs_background": "light"
     },
     "output_type": "display_data"
    }
   ],
   "source": [
    "#plotting the best parameters\n",
    "import matplotlib.patches as mpatches\n",
    "import numpy as np\n",
    "import pandas as pd\n",
    "from pandas import Series, DataFrame\n",
    "import matplotlib.pyplot as plt\n",
    "data_cnb = [train_acc_cnb,test_acc_cnb]\n",
    "labels = ['Train Accuracy','Test Accuracy']\n",
    "plt.xticks(range(len(data_cnb)), labels)\n",
    "plt.ylabel('Accuracy')\n",
    "plt.title('Accuracy plot with best parameters')\n",
    "plt.bar(range(len(data_cnb)), data_cnb,color=['blue','darkorange']) \n",
    "Train_acc = mpatches.Patch(color='blue', label='Train_acc')\n",
    "Test_acc = mpatches.Patch(color='darkorange', label='Test_acc')\n",
    "plt.legend(handles=[Train_acc, Test_acc],loc='best')\n",
    "plt.gcf().set_size_inches(8, 8)\n",
    "plt.show()"
   ]
  },
  {
   "cell_type": "markdown",
   "id": "pointed-hello",
   "metadata": {
    "papermill": {
     "duration": 0.032637,
     "end_time": "2021-06-20T10:36:23.549086",
     "exception": false,
     "start_time": "2021-06-20T10:36:23.516449",
     "status": "completed"
    },
    "tags": []
   },
   "source": [
    "## Confusion Matrix"
   ]
  },
  {
   "cell_type": "code",
   "execution_count": 21,
   "id": "promotional-cosmetic",
   "metadata": {
    "execution": {
     "iopub.execute_input": "2021-06-20T10:36:23.621589Z",
     "iopub.status.busy": "2021-06-20T10:36:23.620546Z",
     "iopub.status.idle": "2021-06-20T10:36:23.685278Z",
     "shell.execute_reply": "2021-06-20T10:36:23.685893Z"
    },
    "papermill": {
     "duration": 0.103759,
     "end_time": "2021-06-20T10:36:23.686060",
     "exception": false,
     "start_time": "2021-06-20T10:36:23.582301",
     "status": "completed"
    },
    "tags": []
   },
   "outputs": [
    {
     "name": "stdout",
     "output_type": "stream",
     "text": [
      "[[15609  4519]\n",
      " [ 6239 13633]]\n"
     ]
    }
   ],
   "source": [
    " from sklearn.metrics import *\n",
    "#Predict test data set\n",
    "y_pred_cnb =cnb.predict(X_test)\n",
    "\n",
    "#This is the confusion matrix :\n",
    "from sklearn.metrics import confusion_matrix\n",
    "print(confusion_matrix(y_test,y_pred_cnb))"
   ]
  },
  {
   "cell_type": "code",
   "execution_count": 22,
   "id": "divine-investment",
   "metadata": {
    "execution": {
     "iopub.execute_input": "2021-06-20T10:36:23.757608Z",
     "iopub.status.busy": "2021-06-20T10:36:23.756922Z",
     "iopub.status.idle": "2021-06-20T10:36:23.832559Z",
     "shell.execute_reply": "2021-06-20T10:36:23.833029Z"
    },
    "papermill": {
     "duration": 0.114185,
     "end_time": "2021-06-20T10:36:23.833207",
     "exception": false,
     "start_time": "2021-06-20T10:36:23.719022",
     "status": "completed"
    },
    "tags": []
   },
   "outputs": [
    {
     "name": "stdout",
     "output_type": "stream",
     "text": [
      "              precision    recall  f1-score   support\n",
      "\n",
      "           0       0.71      0.78      0.74     20128\n",
      "           1       0.75      0.69      0.72     19872\n",
      "\n",
      "    accuracy                           0.73     40000\n",
      "   macro avg       0.73      0.73      0.73     40000\n",
      "weighted avg       0.73      0.73      0.73     40000\n",
      "\n",
      "Area Under the Curve =  0.7307637720841046\n"
     ]
    }
   ],
   "source": [
    "#Checking performance our model with classification report\n",
    "print(classification_report(y_test, y_pred_cnb))\n",
    "\n",
    "#Checking performance our model with ROC Score\n",
    "roc_score_cnb=roc_auc_score(y_test, y_pred_cnb)\n",
    "print(\"Area Under the Curve = \",roc_score_cnb)"
   ]
  },
  {
   "cell_type": "markdown",
   "id": "freelance-notebook",
   "metadata": {
    "papermill": {
     "duration": 0.033467,
     "end_time": "2021-06-20T10:36:23.900202",
     "exception": false,
     "start_time": "2021-06-20T10:36:23.866735",
     "status": "completed"
    },
    "tags": []
   },
   "source": [
    "## Calculating F1, prescision and recall scores"
   ]
  },
  {
   "cell_type": "code",
   "execution_count": 23,
   "id": "virgin-video",
   "metadata": {
    "execution": {
     "iopub.execute_input": "2021-06-20T10:36:23.975814Z",
     "iopub.status.busy": "2021-06-20T10:36:23.974680Z",
     "iopub.status.idle": "2021-06-20T10:36:24.070368Z",
     "shell.execute_reply": "2021-06-20T10:36:24.069754Z"
    },
    "papermill": {
     "duration": 0.136707,
     "end_time": "2021-06-20T10:36:24.070534",
     "exception": false,
     "start_time": "2021-06-20T10:36:23.933827",
     "status": "completed"
    },
    "tags": []
   },
   "outputs": [
    {
     "name": "stdout",
     "output_type": "stream",
     "text": [
      "F1 score =73.04%\n",
      "Precision score =73.27%\n",
      "Recall score =73.08%\n"
     ]
    }
   ],
   "source": [
    "from sklearn.metrics import *\n",
    "\n",
    "print(\"F1 score ={:.2f}%\".format(f1_score(y_test, y_pred_cnb, average=\"macro\")*100))\n",
    "f1_cnb=f1_score(y_test, y_pred_cnb, average=\"macro\")\n",
    "print(\"Precision score ={:.2f}%\".format(precision_score(y_test, y_pred_cnb, average=\"macro\")*100))\n",
    "precision_cnb=precision_score(y_test, y_pred_cnb, average=\"macro\")\n",
    "print(\"Recall score ={:.2f}%\".format(recall_score(y_test, y_pred_cnb, average=\"macro\")*100))  \n",
    "recall_cnb=recall_score(y_test, y_pred_cnb, average=\"macro\")"
   ]
  },
  {
   "cell_type": "markdown",
   "id": "bigger-product",
   "metadata": {
    "papermill": {
     "duration": 0.034294,
     "end_time": "2021-06-20T10:36:24.138971",
     "exception": false,
     "start_time": "2021-06-20T10:36:24.104677",
     "status": "completed"
    },
    "tags": []
   },
   "source": [
    "## Drawing the ROC curve"
   ]
  },
  {
   "cell_type": "code",
   "execution_count": 24,
   "id": "federal-stewart",
   "metadata": {
    "execution": {
     "iopub.execute_input": "2021-06-20T10:36:24.214593Z",
     "iopub.status.busy": "2021-06-20T10:36:24.213524Z",
     "iopub.status.idle": "2021-06-20T10:36:24.402750Z",
     "shell.execute_reply": "2021-06-20T10:36:24.402197Z"
    },
    "papermill": {
     "duration": 0.229727,
     "end_time": "2021-06-20T10:36:24.402890",
     "exception": false,
     "start_time": "2021-06-20T10:36:24.173163",
     "status": "completed"
    },
    "tags": []
   },
   "outputs": [
    {
     "data": {
      "image/png": "[encoded data removed]",
      "text/plain": [
       "<Figure size 576x576 with 1 Axes>"
      ]
     },
     "metadata": {
      "needs_background": "light"
     },
     "output_type": "display_data"
    }
   ],
   "source": [
    "import matplotlib.pyplot as plt\n",
    "from sklearn.metrics import roc_curve\n",
    "import numpy as np\n",
    "fpr_dt_1, tpr_dt_1,_=roc_curve(y_test,cnb.predict_proba(X_test)[:,1])\n",
    "plt.plot(fpr_dt_1,tpr_dt_1,label=\"ROC curve\")\n",
    "plt.xlabel('False Positive Rate')\n",
    "plt.ylabel('True Positive Rate')\n",
    "plt.legend()\n",
    "plt.gcf().set_size_inches(8, 8)\n",
    "plt.show()"
   ]
  },
  {
   "cell_type": "markdown",
   "id": "greek-platinum",
   "metadata": {
    "papermill": {
     "duration": 0.035275,
     "end_time": "2021-06-20T10:36:24.473579",
     "exception": false,
     "start_time": "2021-06-20T10:36:24.438304",
     "status": "completed"
    },
    "tags": []
   },
   "source": [
    "## Authors of this notebook:\n",
    "## Himanshu Goyal\n",
    "## Ravindra Dhakar\n",
    "## Pushpa Sushma Aitha\n",
    "## Ishan Kotian\n",
    "## Abhinav Bhardwaj\n",
    "\n"
   ]
  }
 ],
 "metadata": {
  "kernelspec": {
   "display_name": "Python 3",
   "language": "python",
   "name": "python3"
  },
  "language_info": {
   "codemirror_mode": {
    "name": "ipython",
    "version": 3
   },
   "file_extension": ".py",
   "mimetype": "text/x-python",
   "name": "python",
   "nbconvert_exporter": "python",
   "pygments_lexer": "ipython3",
   "version": "3.7.10"
  },
  "papermill": {
   "default_parameters": {},
   "duration": 108.829932,
   "end_time": "2021-06-20T10:36:26.474401",
   "environment_variables": {},
   "exception": null,
   "input_path": "__notebook__.ipynb",
   "output_path": "__notebook__.ipynb",
   "parameters": {},
   "start_time": "2021-06-20T10:34:37.644469",
   "version": "2.3.3"
  }
 },
 "nbformat": 4,
 "nbformat_minor": 5
}
